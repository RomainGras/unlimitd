{
 "cells": [
  {
   "cell_type": "markdown",
   "id": "0e4cae02-5279-4859-861e-4009b73e381a",
   "metadata": {},
   "source": [
    "# 5-Layers Specialisation"
   ]
  },
  {
   "cell_type": "markdown",
   "id": "2db1430e-20e9-4843-85e0-fcc62de75635",
   "metadata": {},
   "source": [
    "## 1st way - 1 shot"
   ]
  },
  {
   "cell_type": "code",
   "execution_count": 1,
   "id": "2a99daa2-8c65-4b39-8daf-1a4177cadd35",
   "metadata": {},
   "outputs": [],
   "source": [
    "## Original packages\n",
    "import backbone\n",
    "import torch\n",
    "import torch.nn as nn\n",
    "from torch.autograd import Variable\n",
    "import numpy as np\n",
    "import torch.nn.functional as F\n",
    "from torch.func import functional_call, vmap, vjp, jvp, jacrev\n",
    "from methods.meta_template import MetaTemplate\n",
    "import math\n",
    "from torch.optim.lr_scheduler import CosineAnnealingWarmRestarts, CosineAnnealingLR\n",
    "import warnings\n",
    "from torch.distributions import MultivariateNormal\n",
    "import warnings"
   ]
  },
  {
   "cell_type": "code",
   "execution_count": 2,
   "id": "e513c76a-d060-4b59-8767-bdea0bbb5dce",
   "metadata": {},
   "outputs": [],
   "source": [
    "class simple_netC_0hl(nn.Module):\n",
    "    def __init__(self):\n",
    "        super(simple_netC_0hl, self).__init__()\n",
    "        self.layer1 = nn.Linear(1600, 5)\n",
    "        \n",
    "    def forward(self, x):\n",
    "        out = self.layer1(x)\n",
    "        return out\n",
    "\n",
    "net = simple_netC_0hl()"
   ]
  },
  {
   "cell_type": "code",
   "execution_count": 3,
   "id": "9b9a3df9-51bb-41c4-ac99-4aedd241c1ab",
   "metadata": {},
   "outputs": [],
   "source": [
    "c=0\n",
    "\n",
    "def compute_jacobian(inputs):   # i is the class label, and corresponds to the output targeted\n",
    "    \"\"\"\n",
    "    Return the jacobian of a batch of inputs, thanks to the vmap functionality\n",
    "    \"\"\"\n",
    "    net.zero_grad()\n",
    "    params = {k: v for k, v in net.named_parameters()}\n",
    "\n",
    "    def fnet_single(params, x):\n",
    "        # Make sure output has the right dimensions\n",
    "        return functional_call(net, params, (x.unsqueeze(0),)).squeeze(0)[c]\n",
    "\n",
    "    jac = vmap(jacrev(fnet_single), (None, 0))(params, inputs)\n",
    "    jac_values = jac.values()\n",
    "\n",
    "    reshaped_tensors = []\n",
    "    for j in jac_values:\n",
    "        if len(j.shape) == 3:  # For layers with weights\n",
    "            # Flatten parameters dimensions and then reshape\n",
    "            flattened = j.flatten(start_dim=1)  # Flattens to [batch, params]\n",
    "            reshaped = flattened.T  # Transpose to align dimensions as [params, batch]\n",
    "            reshaped_tensors.append(reshaped)\n",
    "        elif len(j.shape) == 2:  # For biases or single parameter components\n",
    "            reshaped_tensors.append(j.T)  # Simply transpose\n",
    "\n",
    "    # Concatenate all the reshaped tensors into one large matrix\n",
    "    return torch.cat(reshaped_tensors, dim=0).T"
   ]
  },
  {
   "cell_type": "code",
   "execution_count": 4,
   "id": "bf57e480-853b-4a5a-bb4c-6cb3f6d1c7e9",
   "metadata": {},
   "outputs": [
    {
     "name": "stdout",
     "output_type": "stream",
     "text": [
      "tensor([[0., 0., 0.,  ..., 0., 0., 0.],\n",
      "        [1., 1., 1.,  ..., 1., 1., 1.],\n",
      "        [2., 2., 2.,  ..., 2., 2., 2.]])\n"
     ]
    }
   ],
   "source": [
    "x = torch.empty(3, 1600)\n",
    "\n",
    "# Fill each row of the tensor with the row index\n",
    "for i in range(3):\n",
    "    x[i] = i\n",
    "\n",
    "print(x)"
   ]
  },
  {
   "cell_type": "code",
   "execution_count": 5,
   "id": "e66696d8-5d4a-42a5-b77b-36fc3f5443fd",
   "metadata": {},
   "outputs": [
    {
     "name": "stdout",
     "output_type": "stream",
     "text": [
      "tensor([[0., 0., 0.,  ..., 0., 0., 0.],\n",
      "        [1., 1., 1.,  ..., 0., 0., 0.],\n",
      "        [2., 2., 2.,  ..., 0., 0., 0.]])\n"
     ]
    }
   ],
   "source": [
    "print(compute_jacobian(x))"
   ]
  },
  {
   "cell_type": "code",
   "execution_count": 6,
   "id": "2ac2c06f-7139-48b3-a097-119e7075feee",
   "metadata": {},
   "outputs": [
    {
     "name": "stdout",
     "output_type": "stream",
     "text": [
      "torch.Size([3, 5])\n",
      "tensor([[ 0.0219,  0.0210, -0.0219, -0.0019, -0.0085],\n",
      "        [ 0.4146, -0.1063,  0.2000,  0.7586,  0.7553],\n",
      "        [ 0.8073, -0.2337,  0.4219,  1.5190,  1.5191]])\n"
     ]
    }
   ],
   "source": [
    "# Constructing the specialisation matrix\n",
    "with torch.no_grad():\n",
    "    spe = net(x)\n",
    "print(spe.shape)\n",
    "print(spe)"
   ]
  },
  {
   "cell_type": "code",
   "execution_count": 7,
   "id": "d52aad6e-13e7-434e-8fe2-e343a532ce0d",
   "metadata": {},
   "outputs": [
    {
     "name": "stdout",
     "output_type": "stream",
     "text": [
      "tensor([4])\n"
     ]
    }
   ],
   "source": [
    "# Generate a single random number between 0 and n_classes\n",
    "random_class = torch.randint(low=0, high=5, size=(1,))\n",
    "\n",
    "print(random_class)"
   ]
  },
  {
   "cell_type": "code",
   "execution_count": 8,
   "id": "a4ab98bb-6e4e-415a-943f-a1d521f841eb",
   "metadata": {},
   "outputs": [
    {
     "name": "stdout",
     "output_type": "stream",
     "text": [
      "tensor([-0.0085,  0.7553,  1.5191])\n"
     ]
    }
   ],
   "source": [
    "col = spe[:, random_class].flatten()\n",
    "print(col)"
   ]
  },
  {
   "cell_type": "code",
   "execution_count": 9,
   "id": "5c740376-ab7f-4261-bd28-1a1092b6920d",
   "metadata": {},
   "outputs": [
    {
     "name": "stdout",
     "output_type": "stream",
     "text": [
      "tensor([0.1290, 0.2768, 0.5942])\n"
     ]
    }
   ],
   "source": [
    "with torch.no_grad():\n",
    "    softmax_col = F.softmax(col, dim=0)\n",
    "\n",
    "print(softmax_col)"
   ]
  },
  {
   "cell_type": "code",
   "execution_count": 10,
   "id": "1cdbb9c6-c511-455b-991e-f7789dffdab0",
   "metadata": {},
   "outputs": [
    {
     "name": "stdout",
     "output_type": "stream",
     "text": [
      "tensor([2])\n"
     ]
    }
   ],
   "source": [
    "# Use multinomial to pick an index based on the weights\n",
    "# The second argument 'num_samples' is the number of indices to sample\n",
    "# 'replacement=True' allows picking the same index more than once if num_samples > 1\n",
    "random_index = torch.multinomial(softmax_col, num_samples=1, replacement=True)\n",
    "\n",
    "print(random_index)\n"
   ]
  },
  {
   "cell_type": "code",
   "execution_count": 11,
   "id": "e608c3af-f2f6-4a04-a632-2f83f249a8db",
   "metadata": {},
   "outputs": [
    {
     "name": "stdout",
     "output_type": "stream",
     "text": [
      "So input number 2 will have class number 4\n"
     ]
    }
   ],
   "source": [
    "print(f\"So input number {random_index[0]} will have class number {random_class[0]}\")"
   ]
  },
  {
   "cell_type": "code",
   "execution_count": 12,
   "id": "daf83d70-19ae-45ef-b13f-a699ee966a7f",
   "metadata": {},
   "outputs": [
    {
     "name": "stdout",
     "output_type": "stream",
     "text": [
      "Modified Matrix:\n",
      " tensor([[ 0.0219,  0.0210, -0.0219, -0.0019],\n",
      "        [ 0.4146, -0.1063,  0.2000,  0.7586]])\n"
     ]
    }
   ],
   "source": [
    "#Now updating the matrix :\n",
    "i = random_index[0]\n",
    "j = random_class[0]\n",
    "# Remove the ith row\n",
    "new_spe = torch.cat((spe[:i], spe[i+1:]))\n",
    "\n",
    "# Remove the jth column\n",
    "new_spe = torch.cat((new_spe[:, :j], new_spe[:, j+1:]), dim=1)\n",
    "\n",
    "print(\"Modified Matrix:\\n\", new_spe)"
   ]
  },
  {
   "cell_type": "code",
   "execution_count": 13,
   "id": "4fa50cf8-a3b6-43fe-bbaa-7d3c7430ac3d",
   "metadata": {},
   "outputs": [
    {
     "name": "stdout",
     "output_type": "stream",
     "text": [
      "Input number 1 will have class number 3\n",
      "Input number 4 will have class number 4\n",
      "Input number 2 will have class number 1\n",
      "Input number 0 will have class number 2\n",
      "Input number 3 will have class number 0\n"
     ]
    }
   ],
   "source": [
    "#repeat the process\n",
    "\n",
    "x = torch.empty(5, 1600)\n",
    "for i in range(5):\n",
    "    x[i] = i\n",
    "    \n",
    "# Constructing the specialisation matrix\n",
    "with torch.no_grad():\n",
    "    spe = net(x)\n",
    "\n",
    "classes = torch.tensor([0, 1, 2, 3, 4])\n",
    "for _ in range(5):\n",
    "    # Pick a class randomly with equal probability\n",
    "    random_class = classes[torch.randint(low=0, high=len(classes), size=(1,))]\n",
    "    col = spe[:, random_class].flatten()\n",
    "    with torch.no_grad():\n",
    "        softmax_col = F.softmax(col, dim=0)\n",
    "    random_index = torch.multinomial(softmax_col, num_samples=1, replacement=True)\n",
    "    \n",
    "    print(f\"Input number {random_index[0]} will have class number {random_class[0]}\")\n",
    "    \n",
    "    i = random_index[0]\n",
    "    j = random_class[0]\n",
    "    \n",
    "    # Remove the ith row\n",
    "    spe[i] = float('-inf')\n",
    "    \n",
    "    # can't pick the jth class anymore\n",
    "    mask = classes != random_class\n",
    "    classes = classes[mask]\n",
    "    "
   ]
  },
  {
   "cell_type": "markdown",
   "id": "f4750333-1cf1-422a-9408-a28724fa2dba",
   "metadata": {},
   "source": [
    "## Multiple shot"
   ]
  },
  {
   "cell_type": "code",
   "execution_count": 14,
   "id": "c5babe21-f838-4b0f-b36d-e675ebe3c188",
   "metadata": {},
   "outputs": [
    {
     "name": "stdout",
     "output_type": "stream",
     "text": [
      "tensor([[ 0.,  0.,  0.,  ...,  0.,  0.,  0.],\n",
      "        [ 1.,  1.,  1.,  ...,  1.,  1.,  1.],\n",
      "        [ 2.,  2.,  2.,  ...,  2.,  2.,  2.],\n",
      "        ...,\n",
      "        [12., 12., 12.,  ..., 12., 12., 12.],\n",
      "        [13., 13., 13.,  ..., 13., 13., 13.],\n",
      "        [14., 14., 14.,  ..., 14., 14., 14.]])\n"
     ]
    }
   ],
   "source": [
    "n_shot = 3\n",
    "# For this example, all the inputs of the same class are next to one another\n",
    "x = torch.empty(n_shot*5, 1600)\n",
    "\n",
    "# Fill each row of the tensor with the row index\n",
    "for i in range(n_shot*5):\n",
    "    x[i] = i\n",
    "\n",
    "print(x)"
   ]
  },
  {
   "cell_type": "code",
   "execution_count": 15,
   "id": "3904a4dd-e509-4ab0-a74b-bad79b52bb69",
   "metadata": {},
   "outputs": [
    {
     "name": "stdout",
     "output_type": "stream",
     "text": [
      "torch.Size([15, 5])\n",
      "tensor([[ 2.1855e-02,  2.1019e-02, -2.1882e-02, -1.8952e-03, -8.4974e-03],\n",
      "        [ 4.1456e-01, -1.0635e-01,  2.0000e-01,  7.5858e-01,  7.5529e-01],\n",
      "        [ 8.0727e-01, -2.3371e-01,  4.2189e-01,  1.5190e+00,  1.5191e+00],\n",
      "        [ 1.2000e+00, -3.6108e-01,  6.4377e-01,  2.2795e+00,  2.2829e+00],\n",
      "        [ 1.5927e+00, -4.8845e-01,  8.6565e-01,  3.0400e+00,  3.0466e+00],\n",
      "        [ 1.9854e+00, -6.1581e-01,  1.0875e+00,  3.8005e+00,  3.8104e+00],\n",
      "        [ 2.3781e+00, -7.4318e-01,  1.3094e+00,  4.5609e+00,  4.5742e+00],\n",
      "        [ 2.7708e+00, -8.7054e-01,  1.5313e+00,  5.3214e+00,  5.3380e+00],\n",
      "        [ 3.1635e+00, -9.9791e-01,  1.7532e+00,  6.0819e+00,  6.1018e+00],\n",
      "        [ 3.5562e+00, -1.1253e+00,  1.9751e+00,  6.8423e+00,  6.8656e+00],\n",
      "        [ 3.9489e+00, -1.2526e+00,  2.1970e+00,  7.6028e+00,  7.6294e+00],\n",
      "        [ 4.3416e+00, -1.3800e+00,  2.4188e+00,  8.3633e+00,  8.3931e+00],\n",
      "        [ 4.7343e+00, -1.5074e+00,  2.6407e+00,  9.1237e+00,  9.1569e+00],\n",
      "        [ 5.1270e+00, -1.6347e+00,  2.8626e+00,  9.8842e+00,  9.9207e+00],\n",
      "        [ 5.5197e+00, -1.7621e+00,  3.0845e+00,  1.0645e+01,  1.0684e+01]])\n"
     ]
    }
   ],
   "source": [
    "# Constructing the specialisation matrix\n",
    "with torch.no_grad():\n",
    "    spe = net(x)\n",
    "print(spe.shape)\n",
    "print(spe)"
   ]
  },
  {
   "cell_type": "code",
   "execution_count": 16,
   "id": "fab00436-4ce6-43e2-8443-2ff0bb1ecd9d",
   "metadata": {},
   "outputs": [
    {
     "name": "stdout",
     "output_type": "stream",
     "text": [
      "tensor([[ 0.4146, -0.1063,  0.2000,  0.7586,  0.7553],\n",
      "        [ 1.5927, -0.4884,  0.8657,  3.0400,  3.0466],\n",
      "        [ 2.7708, -0.8705,  1.5313,  5.3214,  5.3380],\n",
      "        [ 3.9489, -1.2526,  2.1970,  7.6028,  7.6293],\n",
      "        [ 5.1270, -1.6347,  2.8626,  9.8842,  9.9207]])\n"
     ]
    }
   ],
   "source": [
    "# Reshape the matrix to (K/n_shot, n_shot, C)\n",
    "reshape_spe = spe.view(5, n_shot, 5)\n",
    "\n",
    "# Compute the mean along the middle dimension\n",
    "spe = reshape_spe.mean(dim=1)\n",
    "\n",
    "print(spe)"
   ]
  },
  {
   "cell_type": "code",
   "execution_count": 17,
   "id": "71454450-c9ab-4142-a73e-35a06ebf49ca",
   "metadata": {},
   "outputs": [
    {
     "name": "stdout",
     "output_type": "stream",
     "text": [
      "Input number 3 will have class number 4\n",
      "Input number 4 will have class number 3\n",
      "Input number 2 will have class number 0\n",
      "Input number 1 will have class number 2\n",
      "Input number 0 will have class number 1\n"
     ]
    }
   ],
   "source": [
    "classes = torch.tensor([0, 1, 2, 3, 4])\n",
    "for _ in range(5):\n",
    "    # Pick a class randomly with equal probability\n",
    "    random_class = classes[torch.randint(low=0, high=len(classes), size=(1,))]\n",
    "    col = spe[:, random_class].flatten()\n",
    "    with torch.no_grad():\n",
    "        softmax_col = F.softmax(col, dim=0)\n",
    "    random_index = torch.multinomial(softmax_col, num_samples=1, replacement=True)\n",
    "    \n",
    "    print(f\"Input number {random_index[0]} will have class number {random_class[0]}\")\n",
    "    \n",
    "    i = random_index[0]\n",
    "    j = random_class[0]\n",
    "    \n",
    "    # Remove the ith row\n",
    "    spe[i] = float('-inf')\n",
    "    \n",
    "    # can't pick the jth class anymore\n",
    "    mask = classes != random_class\n",
    "    classes = classes[mask]"
   ]
  },
  {
   "cell_type": "code",
   "execution_count": null,
   "id": "f8994708-b236-4ef3-a1ab-71003441d703",
   "metadata": {},
   "outputs": [],
   "source": []
  },
  {
   "cell_type": "markdown",
   "id": "00c04965-a170-4970-a74f-b3d8071ed9f6",
   "metadata": {},
   "source": [
    "## 3rd option"
   ]
  },
  {
   "cell_type": "code",
   "execution_count": 18,
   "id": "4225d6f2-b734-42e8-a10b-266d55f44e74",
   "metadata": {},
   "outputs": [
    {
     "ename": "TypeError",
     "evalue": "super(type, obj): obj must be an instance or subtype of type",
     "output_type": "error",
     "traceback": [
      "\u001b[0;31m---------------------------------------------------------------------------\u001b[0m",
      "\u001b[0;31mTypeError\u001b[0m                                 Traceback (most recent call last)",
      "Cell \u001b[0;32mIn[18], line 12\u001b[0m\n\u001b[1;32m      9\u001b[0m         out \u001b[38;5;241m=\u001b[39m \u001b[38;5;28mself\u001b[39m\u001b[38;5;241m.\u001b[39mlayer1(x)\n\u001b[1;32m     10\u001b[0m         \u001b[38;5;28;01mreturn\u001b[39;00m out\n\u001b[0;32m---> 12\u001b[0m net \u001b[38;5;241m=\u001b[39m \u001b[43mCDKT_dummy_net\u001b[49m\u001b[43m(\u001b[49m\u001b[43m)\u001b[49m\n\u001b[1;32m     14\u001b[0m x \u001b[38;5;241m=\u001b[39m torch\u001b[38;5;241m.\u001b[39mempty(\u001b[38;5;241m5\u001b[39m, \u001b[38;5;241m1600\u001b[39m)\n\u001b[1;32m     15\u001b[0m \u001b[38;5;28;01mfor\u001b[39;00m i \u001b[38;5;129;01min\u001b[39;00m \u001b[38;5;28mrange\u001b[39m(\u001b[38;5;241m5\u001b[39m):\n",
      "Cell \u001b[0;32mIn[18], line 5\u001b[0m, in \u001b[0;36mCDKT_dummy_net.__init__\u001b[0;34m(self)\u001b[0m\n\u001b[1;32m      4\u001b[0m \u001b[38;5;28;01mdef\u001b[39;00m \u001b[38;5;21m__init__\u001b[39m(\u001b[38;5;28mself\u001b[39m):\n\u001b[0;32m----> 5\u001b[0m     \u001b[38;5;28;43msuper\u001b[39;49m\u001b[43m(\u001b[49m\u001b[43msimple_netC_0hl\u001b[49m\u001b[43m,\u001b[49m\u001b[43m \u001b[49m\u001b[38;5;28;43mself\u001b[39;49m\u001b[43m)\u001b[49m\u001b[38;5;241m.\u001b[39m\u001b[38;5;21m__init__\u001b[39m()\n\u001b[1;32m      6\u001b[0m     \u001b[38;5;28mself\u001b[39m\u001b[38;5;241m.\u001b[39mlayer1 \u001b[38;5;241m=\u001b[39m nn\u001b[38;5;241m.\u001b[39mLinear(\u001b[38;5;241m1600\u001b[39m, \u001b[38;5;241m1600\u001b[39m)\n",
      "\u001b[0;31mTypeError\u001b[0m: super(type, obj): obj must be an instance or subtype of type"
     ]
    }
   ],
   "source": [
    "#repeat the process\n",
    "\n",
    "class CDKT_dummy_net(nn.Module):\n",
    "    def __init__(self):\n",
    "        super(simple_netC_0hl, self).__init__()\n",
    "        self.layer1 = nn.Linear(1600, 1600)\n",
    "        \n",
    "    def forward(self, x):\n",
    "        out = self.layer1(x)\n",
    "        return out\n",
    "\n",
    "net = CDKT_dummy_net()\n",
    "\n",
    "x = torch.empty(5, 1600)\n",
    "for i in range(5):\n",
    "    x[i] = i\n",
    "    \n",
    "# Constructing the specialisation matrix\n",
    "with torch.no_grad():\n",
    "    spe = net(x)\n",
    "\n",
    "flattened_spe = spe.flatten()\n",
    "for _ in range(5):\n",
    "    #Take the softmax of all the elements in the matrix\n",
    "    with torch.no_grad():\n",
    "        softmax_matrix = F.softmax(flattened_spe, dim=0)\n",
    "\n",
    "    rd_element_idx = torch.multinomial(softmax_matrix, num_samples=1, replacement=True)\n",
    "    rd_elemt = rd_element_idx // 5 # Indice of the row\n",
    "    rd_class = rd_element_idx % 5 # Indice of the column\n",
    "    indices_1 = torch.tensor([5 * i + rd_class for i in range(5)])\n",
    "    indices_2 = torch.tensor([i + rd_elemt * 5 for i in range(5)])\n",
    "\n",
    "    # Combine indices from both calculations, ensuring uniqueness if necessary\n",
    "    all_indices = torch.cat((indices_1, indices_2)).unique()\n",
    "    flattened_spe[all_indices] = float('-inf')\n",
    "    print(f\"Input number {rd_elemt[0]} will have class number {rd_class[0]}\")\n",
    "    "
   ]
  },
  {
   "cell_type": "markdown",
   "id": "256efec4-a0a9-48a7-accb-1b7462bca594",
   "metadata": {},
   "source": [
    "# Specialization on kernel Matrix for CDKT"
   ]
  },
  {
   "cell_type": "markdown",
   "id": "eacf657d-ec37-44be-8717-59323d5e2c06",
   "metadata": {},
   "source": [
    "CDKT matrix of model is size $[5, 85, 85]$. We want to measure the compatibility of the class label to the input. To do so, let's average out all the compatibility information we have from inputs of one class. Then, we end up with a matrix of the form $\\left(k_{c'}(X_c)\\right) = \\sum_{1 \\leq i \\leq j \\leq n/c} k_{c'}(x_{ci}, x_{cj})$. We don't use the information we have about inputs of different classes."
   ]
  },
  {
   "cell_type": "code",
   "execution_count": 95,
   "id": "713107e2-5c18-4002-98ee-f766d36ed4d5",
   "metadata": {},
   "outputs": [
    {
     "name": "stdout",
     "output_type": "stream",
     "text": [
      "tensor([[-3.0554e-30,  3.0632e-41,  0.0000e+00,  4.0149e-02,  4.0600e-02],\n",
      "        [ 4.6261e-02,  4.1081e-02,  4.1433e-02,  4.1500e-02,  4.0357e-02],\n",
      "        [ 4.1334e-02,  4.2125e-02,  4.5181e-02,  4.0624e-02,  4.1709e-02],\n",
      "        [ 4.3186e-02,  4.0793e-02,  4.1136e-02,  4.1149e-02,  4.6053e-02],\n",
      "        [ 4.0559e-02,  4.1544e-02,  4.2045e-02,  4.0732e-02,  4.0149e-02]])\n",
      "tensor([[0.0386, 0.0386, 0.0386, 0.0401, 0.0401],\n",
      "        [0.0404, 0.0402, 0.0402, 0.0402, 0.0401],\n",
      "        [0.0402, 0.0402, 0.0403, 0.0401, 0.0402],\n",
      "        [0.0403, 0.0402, 0.0402, 0.0402, 0.0404],\n",
      "        [0.0401, 0.0402, 0.0402, 0.0402, 0.0401]])\n",
      "Input number 4 will have class number 1\n"
     ]
    },
    {
     "ename": "NameError",
     "evalue": "name 'tranformations' is not defined",
     "output_type": "error",
     "traceback": [
      "\u001b[0;31m---------------------------------------------------------------------------\u001b[0m",
      "\u001b[0;31mNameError\u001b[0m                                 Traceback (most recent call last)",
      "Cell \u001b[0;32mIn[95], line 38\u001b[0m\n\u001b[1;32m     35\u001b[0m flattened_spe[all_indices] \u001b[38;5;241m=\u001b[39m \u001b[38;5;28mfloat\u001b[39m(\u001b[38;5;124m'\u001b[39m\u001b[38;5;124m-inf\u001b[39m\u001b[38;5;124m'\u001b[39m)\n\u001b[1;32m     36\u001b[0m \u001b[38;5;28mprint\u001b[39m(\u001b[38;5;124mf\u001b[39m\u001b[38;5;124m\"\u001b[39m\u001b[38;5;124mInput number \u001b[39m\u001b[38;5;132;01m{\u001b[39;00mrd_elemt[\u001b[38;5;241m0\u001b[39m]\u001b[38;5;132;01m}\u001b[39;00m\u001b[38;5;124m will have class number \u001b[39m\u001b[38;5;132;01m{\u001b[39;00mrd_class[\u001b[38;5;241m0\u001b[39m]\u001b[38;5;132;01m}\u001b[39;00m\u001b[38;5;124m\"\u001b[39m)\n\u001b[0;32m---> 38\u001b[0m \u001b[43mtranformations\u001b[49m[rd_class] \u001b[38;5;241m=\u001b[39m rd_elemt\n\u001b[1;32m     39\u001b[0m sorted_z_batch[n_shot\u001b[38;5;241m*\u001b[39mrd_class:n_shot\u001b[38;5;241m*\u001b[39m(rd_class\u001b[38;5;241m+\u001b[39m\u001b[38;5;241m1\u001b[39m)] \u001b[38;5;241m=\u001b[39m z_batch[n_shot\u001b[38;5;241m*\u001b[39mrd_elemt:n_shot\u001b[38;5;241m*\u001b[39m(rd_elemt\u001b[38;5;241m+\u001b[39m\u001b[38;5;241m1\u001b[39m)]\n",
      "\u001b[0;31mNameError\u001b[0m: name 'tranformations' is not defined"
     ]
    }
   ],
   "source": [
    "z_batch = torch.randn(85, 1600)\n",
    "sorted_z_batch = torch.randn(85, 1600)\n",
    "\n",
    "# model matrix\n",
    "model = torch.randn(5, 85, 85)\n",
    "\n",
    "# specialization matrix\n",
    "spe = torch.empty(5, 5)\n",
    "for c in range(5):\n",
    "    for cp in range(5):\n",
    "        matrix = model[cp][c*17:(c+1)*17]\n",
    "        \n",
    "        upper_triangular = torch.triu(matrix, diagonal=0)\n",
    "        # Sum all the elements above the diagonal\n",
    "        sum_upper_triangular = upper_triangular.sum()\n",
    "        spe[c][cp]\n",
    "\n",
    "transformation = dict()\n",
    "flattened_spe = spe.flatten()\n",
    "for _ in range(5):\n",
    "    #Take the softmax of all the elements in the matrix\n",
    "    print(flattened_spe.reshape(5,5))\n",
    "    with torch.no_grad():\n",
    "        softmax_matrix = F.softmax(flattened_spe, dim=0)\n",
    "    \n",
    "    print(softmax_matrix.reshape(5,5))\n",
    "    rd_element_idx = torch.multinomial(softmax_matrix, num_samples=1, replacement=True)\n",
    "    rd_class = rd_element_idx // 5 # Indice of the row\n",
    "    rd_elemt = rd_element_idx % 5 # Indice of the column\n",
    "    indices_1 = torch.tensor([5 * i + rd_elemt for i in range(5)])\n",
    "    indices_2 = torch.tensor([i + rd_class * 5 for i in range(5)])\n",
    "\n",
    "    # Combine indices from both calculations, ensuring uniqueness if necessary\n",
    "    all_indices = torch.cat((indices_1, indices_2)).unique()\n",
    "    flattened_spe[all_indices] = float('-inf')\n",
    "    print(f\"Input number {rd_elemt[0]} will have class number {rd_class[0]}\")\n",
    "    \n",
    "    tranformations[rd_class] = rd_elemt\n",
    "    sorted_z_batch[n_shot*rd_class:n_shot*(rd_class+1)] = z_batch[n_shot*rd_elemt:n_shot*(rd_elemt+1)]"
   ]
  },
  {
   "cell_type": "code",
   "execution_count": 26,
   "id": "1cc3f601-e886-4a88-a850-c52c649cbb00",
   "metadata": {},
   "outputs": [
    {
     "name": "stdout",
     "output_type": "stream",
     "text": [
      "tensor([[-0.6797, -0.4558, -0.5233,  ...,  0.5295, -0.3898,  0.1230],\n",
      "        [ 0.0000, -0.1272, -1.7410,  ..., -0.2704,  0.5932, -1.1409],\n",
      "        [ 0.0000,  0.0000, -1.9735,  ...,  0.5691,  2.3677,  0.3890],\n",
      "        ...,\n",
      "        [ 0.0000,  0.0000,  0.0000,  ..., -1.3393,  0.2762,  0.0635],\n",
      "        [ 0.0000,  0.0000,  0.0000,  ...,  0.0000, -0.6384,  0.5418],\n",
      "        [ 0.0000,  0.0000,  0.0000,  ...,  0.0000,  0.0000, -0.8604]])\n"
     ]
    }
   ],
   "source": [
    "matrix = torch.randn(85, 85)  # Example tensor, replace with your actual tensor\n",
    "\n",
    "# Create an upper triangular matrix with diagonal elements set to zero\n",
    "upper_triangular = torch.triu(matrix, diagonal=0)\n",
    "\n",
    "# Sum all the elements above the diagonal\n",
    "sum_upper_triangular = upper_triangular.sum()\n",
    "\n",
    "print(upper_triangular)"
   ]
  }
 ],
 "metadata": {
  "kernelspec": {
   "display_name": "Python 3 (ipykernel)",
   "language": "python",
   "name": "python3"
  },
  "language_info": {
   "codemirror_mode": {
    "name": "ipython",
    "version": 3
   },
   "file_extension": ".py",
   "mimetype": "text/x-python",
   "name": "python",
   "nbconvert_exporter": "python",
   "pygments_lexer": "ipython3",
   "version": "3.9.16"
  }
 },
 "nbformat": 4,
 "nbformat_minor": 5
}
