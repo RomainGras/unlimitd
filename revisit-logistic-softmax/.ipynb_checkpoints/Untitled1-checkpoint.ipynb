{
 "cells": [
  {
   "cell_type": "code",
   "execution_count": 3,
   "id": "74681cfb-4d06-4dab-afe3-c74447e818e5",
   "metadata": {},
   "outputs": [
    {
     "name": "stdout",
     "output_type": "stream",
     "text": [
      "torch.Size([5, 10])\n",
      "torch.Size([5])\n",
      "torch.Size([2, 5])\n",
      "torch.Size([2])\n",
      "Parameter Vector:\n",
      "tensor([-0.2154,  0.2459,  0.0919, -0.2045,  0.0192,  0.0585, -0.2487, -0.1037,\n",
      "         0.2348, -0.0973,  0.1348,  0.1771, -0.2170, -0.0808,  0.2489,  0.0145,\n",
      "        -0.2038,  0.1779,  0.2427,  0.0169,  0.0579, -0.0186, -0.0890,  0.3132,\n",
      "        -0.1908,  0.1332, -0.1914,  0.2661, -0.2139, -0.0335, -0.2895, -0.0660,\n",
      "        -0.1611,  0.1365, -0.0066,  0.0455,  0.3113, -0.1475, -0.1183,  0.1837,\n",
      "        -0.0057, -0.0753,  0.2573, -0.0792,  0.3068, -0.0365,  0.2125,  0.1068,\n",
      "        -0.1791, -0.0253,  0.0597,  0.0215, -0.1180, -0.1637, -0.2801,  0.1896,\n",
      "        -0.2962,  0.1000,  0.0218,  0.0980, -0.3391,  0.1696,  0.4211, -0.4327,\n",
      "         0.4079,  0.2526,  0.3224], grad_fn=<CatBackward0>)\n",
      "Shape of the Parameter Vector: torch.Size([67])\n"
     ]
    }
   ],
   "source": [
    "import torch\n",
    "import torch.nn as nn\n",
    "from torch.nn.utils import parameters_to_vector\n",
    "\n",
    "# Define a simple neural network\n",
    "class SimpleNN(nn.Module):\n",
    "    def __init__(self):\n",
    "        super(SimpleNN, self).__init__()\n",
    "        self.fc1 = nn.Linear(10, 5)\n",
    "        self.fc2 = nn.Linear(5, 2)\n",
    "\n",
    "    def forward(self, x):\n",
    "        x = torch.relu(self.fc1(x))\n",
    "        x = self.fc2(x)\n",
    "        return x\n",
    "\n",
    "# Initialize the model\n",
    "model = SimpleNN()\n",
    "for param in model.parameters():\n",
    "    print(param\n",
    "# Convert all parameters of the model to a single vector\n",
    "params_vector = parameters_to_vector(model.parameters())\n",
    "\n",
    "print(\"Parameter Vector:\")\n",
    "print(params_vector)\n",
    "print(\"Shape of the Parameter Vector:\", params_vector.shape)\n"
   ]
  }
 ],
 "metadata": {
  "kernelspec": {
   "display_name": "Python 3 (ipykernel)",
   "language": "python",
   "name": "python3"
  },
  "language_info": {
   "codemirror_mode": {
    "name": "ipython",
    "version": 3
   },
   "file_extension": ".py",
   "mimetype": "text/x-python",
   "name": "python",
   "nbconvert_exporter": "python",
   "pygments_lexer": "ipython3",
   "version": "3.9.16"
  }
 },
 "nbformat": 4,
 "nbformat_minor": 5
}
