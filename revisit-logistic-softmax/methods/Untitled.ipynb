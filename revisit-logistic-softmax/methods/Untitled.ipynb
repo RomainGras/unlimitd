{
 "cells": [
  {
   "cell_type": "code",
   "execution_count": 1,
   "id": "fd50ff5e-84d6-4739-8213-80a347f9e320",
   "metadata": {},
   "outputs": [
    {
     "name": "stdout",
     "output_type": "stream",
     "text": [
      "weight: Is leaf? True, Requires grad? True\n",
      "bias: Is leaf? True, Requires grad? True\n"
     ]
    }
   ],
   "source": [
    "import torch\n",
    "from torch import nn\n",
    "\n",
    "# Assume you have a model with parameters\n",
    "model = nn.Linear(5, 3)\n",
    "net_params = {k: v for k, v in model.named_parameters()}\n",
    "\n",
    "# Create new scaling parameters based on the shapes of the model's parameters\n",
    "scaling_params = {k: nn.Parameter(torch.ones_like(v)) for k, v in net_params.items()}\n",
    "\n",
    "# Check if the new scaling parameters are leaf tensors\n",
    "for k, v in scaling_params.items():\n",
    "    print(f\"{k}: Is leaf? {v.is_leaf}, Requires grad? {v.requires_grad}\")\n"
   ]
  }
 ],
 "metadata": {
  "kernelspec": {
   "display_name": "Python 3 (ipykernel)",
   "language": "python",
   "name": "python3"
  },
  "language_info": {
   "codemirror_mode": {
    "name": "ipython",
    "version": 3
   },
   "file_extension": ".py",
   "mimetype": "text/x-python",
   "name": "python",
   "nbconvert_exporter": "python",
   "pygments_lexer": "ipython3",
   "version": "3.9.16"
  }
 },
 "nbformat": 4,
 "nbformat_minor": 5
}
