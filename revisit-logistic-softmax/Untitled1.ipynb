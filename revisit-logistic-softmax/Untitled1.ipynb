{
 "cells": [
  {
   "cell_type": "code",
   "execution_count": 7,
   "id": "74681cfb-4d06-4dab-afe3-c74447e818e5",
   "metadata": {},
   "outputs": [
    {
     "name": "stdout",
     "output_type": "stream",
     "text": [
      "torch.Size([5, 10])\n",
      "torch.Size([5])\n",
      "torch.Size([2, 5])\n",
      "torch.Size([2])\n",
      "Parameter Vector:\n",
      "tensor([-0.1339, -0.0107,  0.0228,  0.1885, -0.1522,  0.0005,  0.1859,  0.0070,\n",
      "        -0.0278,  0.2652, -0.0904,  0.2255,  0.0778, -0.0589,  0.2083,  0.2708,\n",
      "         0.1799, -0.0088,  0.2424, -0.0618, -0.0656,  0.1841,  0.0504, -0.2306,\n",
      "        -0.1584,  0.3096, -0.1889,  0.0323,  0.1405,  0.0187,  0.1984,  0.1162,\n",
      "        -0.3003,  0.0880, -0.0931,  0.0328,  0.2179,  0.0541,  0.0255, -0.0057,\n",
      "         0.2453, -0.0874,  0.2867,  0.1691,  0.2771, -0.2915,  0.2894, -0.2177,\n",
      "        -0.2833, -0.2508,  0.1669,  0.0558,  0.0379, -0.2292, -0.0122, -0.0597,\n",
      "         0.3866, -0.4385,  0.0216,  0.1609,  0.0893, -0.0905, -0.0997, -0.3059,\n",
      "         0.0355, -0.2761,  0.2720], grad_fn=<CatBackward0>)\n",
      "Shape of the Parameter Vector: torch.Size([67])\n"
     ]
    }
   ],
   "source": [
    "import torch\n",
    "import torch.nn as nn\n",
    "from torch.nn.utils import parameters_to_vector\n",
    "\n",
    "# Define a simple neural network\n",
    "class SimpleNN(nn.Module):\n",
    "    def __init__(self):\n",
    "        super(SimpleNN, self).__init__()\n",
    "        self.fc1 = nn.Linear(10, 5)\n",
    "        self.fc2 = nn.Linear(5, 2)\n",
    "\n",
    "    def forward(self, x):\n",
    "        x = torch.relu(self.fc1(x))\n",
    "        x = self.fc2(x)\n",
    "        return x\n",
    "\n",
    "# Initialize the model\n",
    "model = SimpleNN()\n",
    "for param in model.parameters():\n",
    "    print(param.shape)\n",
    "# Convert all parameters of the model to a single vector\n",
    "params_vector = parameters_to_vector(model.parameters())\n",
    "\n",
    "print(\"Parameter Vector:\")\n",
    "print(params_vector)\n",
    "print(\"Shape of the Parameter Vector:\", params_vector.shape)\n"
   ]
  }
 ],
 "metadata": {
  "kernelspec": {
   "display_name": "Python 3 (ipykernel)",
   "language": "python",
   "name": "python3"
  },
  "language_info": {
   "codemirror_mode": {
    "name": "ipython",
    "version": 3
   },
   "file_extension": ".py",
   "mimetype": "text/x-python",
   "name": "python",
   "nbconvert_exporter": "python",
   "pygments_lexer": "ipython3",
   "version": "3.9.16"
  }
 },
 "nbformat": 4,
 "nbformat_minor": 5
}
