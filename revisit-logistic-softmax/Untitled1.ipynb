{
 "cells": [
  {
   "cell_type": "code",
   "execution_count": 4,
   "id": "f5fa961b-de2f-4b98-9db6-c54371ac8359",
   "metadata": {},
   "outputs": [
    {
     "name": "stdout",
     "output_type": "stream",
     "text": [
      "<gpytorch.lazy.lazy_evaluated_kernel_tensor.LazyEvaluatedKernelTensor object at 0x7f1ff1379f40>\n",
      "tensor([[1.0000, 0.3882, 0.6022, 0.3905, 0.6439, 0.1833, 0.3338, 0.4481, 0.2418,\n",
      "         0.5193],\n",
      "        [0.3882, 1.0000, 0.3617, 0.4806, 0.7292, 0.5488, 0.4859, 0.7665, 0.6400,\n",
      "         0.6336],\n",
      "        [0.6022, 0.3617, 1.0000, 0.6275, 0.5131, 0.4052, 0.4557, 0.4953, 0.4027,\n",
      "         0.3096],\n",
      "        [0.3905, 0.4806, 0.6275, 1.0000, 0.3949, 0.7743, 0.3829, 0.3552, 0.8081,\n",
      "         0.2020],\n",
      "        [0.6439, 0.7292, 0.5131, 0.3949, 1.0000, 0.3055, 0.3563, 0.7294, 0.3491,\n",
      "         0.7259],\n",
      "        [0.1833, 0.5488, 0.4052, 0.7743, 0.3055, 1.0000, 0.3532, 0.3651, 0.9531,\n",
      "         0.1891],\n",
      "        [0.3338, 0.4859, 0.4557, 0.3829, 0.3563, 0.3532, 1.0000, 0.7185, 0.4085,\n",
      "         0.3054],\n",
      "        [0.4481, 0.7665, 0.4953, 0.3552, 0.7294, 0.3651, 0.7185, 1.0000, 0.4071,\n",
      "         0.6651],\n",
      "        [0.2418, 0.6400, 0.4027, 0.8081, 0.3491, 0.9531, 0.4085, 0.4071, 1.0000,\n",
      "         0.2414],\n",
      "        [0.5193, 0.6336, 0.3096, 0.2020, 0.7259, 0.1891, 0.3054, 0.6651, 0.2414,\n",
      "         1.0000]], grad_fn=<RBFCovarianceBackward>)\n"
     ]
    }
   ],
   "source": [
    "import torch\n",
    "import gpytorch\n",
    "\n",
    "# Create a batch of inputs (for example, a batch of 10 inputs, each of size 5)\n",
    "x_batch = torch.rand(10, 5)  # 10 inputs, each of dimension 5\n",
    "\n",
    "# Define a kernel, for example, the RBF (Radial Basis Function) kernel\n",
    "kernel = gpytorch.kernels.RBFKernel()\n",
    "\n",
    "# Compute the kernel matrix (Gram matrix) for the batch of inputs\n",
    "kernel_matrix = kernel(x_batch)  # This computes the kernel matrix for each input in the batch\n",
    "print(kernel_matrix)\n",
    "\n",
    "# Evaluate the kernel matrix to get the actual values\n",
    "evaluated_kernel_matrix = kernel_matrix.evaluate()\n",
    "\n",
    "# Print the evaluated kernel matrix\n",
    "print(evaluated_kernel_matrix)"
   ]
  }
 ],
 "metadata": {
  "kernelspec": {
   "display_name": "Python 3 (ipykernel)",
   "language": "python",
   "name": "python3"
  },
  "language_info": {
   "codemirror_mode": {
    "name": "ipython",
    "version": 3
   },
   "file_extension": ".py",
   "mimetype": "text/x-python",
   "name": "python",
   "nbconvert_exporter": "python",
   "pygments_lexer": "ipython3",
   "version": "3.9.16"
  }
 },
 "nbformat": 4,
 "nbformat_minor": 5
}
