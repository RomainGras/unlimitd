{
 "cells": [
  {
   "cell_type": "markdown",
   "id": "fa20c8f9",
   "metadata": {},
   "source": [
    "## Imports"
   ]
  },
  {
   "cell_type": "code",
   "execution_count": 22,
   "id": "c826edbc",
   "metadata": {},
   "outputs": [],
   "source": [
    "import time\n",
    "from jax import random\n",
    "import dataset_sines_infinite\n",
    "import dataset_sines_finite\n",
    "import dataset_lines_infinite\n",
    "import dataset_quads_infinite\n",
    "import dataset_multi_infinite\n",
    "import test\n",
    "import plots\n",
    "import ntk\n",
    "import nll\n",
    "from jax import numpy as np\n",
    "\n",
    "import pickle\n",
    "import models\n",
    "import utils\n",
    "from matplotlib import pyplot as plt\n",
    "from sklearn.metrics import roc_auc_score\n",
    "\n",
    "from jax.lax import scan\n",
    "from jax import grad\n",
    "from jax.tree_util import tree_map\n",
    "from functools import partial"
   ]
  },
  {
   "cell_type": "code",
   "execution_count": 2,
   "id": "c6da0c50",
   "metadata": {},
   "outputs": [
    {
     "name": "stderr",
     "output_type": "stream",
     "text": [
      "2022-08-27 14:46:23.114933: W external/org_tensorflow/tensorflow/stream_executor/platform/default/dso_loader.cc:64] Could not load dynamic library 'libcuda.so.1'; dlerror: libcuda.so.1: cannot open shared object file: No such file or directory; LD_LIBRARY_PATH: /state/partition1/llgrid/pkg/anaconda/anaconda3-2022a/pkgs/cudatoolkit-11.3.1-h2bc3f7f_2/lib\n",
      "2022-08-27 14:46:23.114979: W external/org_tensorflow/tensorflow/stream_executor/cuda/cuda_driver.cc:269] failed call to cuInit: UNKNOWN ERROR (303)\n",
      "WARNING:absl:No GPU/TPU found, falling back to CPU. (Set TF_CPP_MIN_LOG_LEVEL=0 and rerun for more info.)\n"
     ]
    }
   ],
   "source": [
    "key = random.PRNGKey(0)"
   ]
  },
  {
   "cell_type": "code",
   "execution_count": 3,
   "id": "8335cd00",
   "metadata": {},
   "outputs": [],
   "source": [
    "def ci95(array):\n",
    "    sample_std = np.std(array)\n",
    "    sample_size = array.shape[0]\n",
    "    return 0.95 * sample_std / np.sqrt(sample_size)"
   ]
  },
  {
   "cell_type": "markdown",
   "id": "8a39c0b7",
   "metadata": {},
   "source": [
    "## Loading results"
   ]
  },
  {
   "cell_type": "code",
   "execution_count": 4,
   "id": "b8228e88",
   "metadata": {},
   "outputs": [],
   "source": [
    "with open(\"logs_final/multi_mixture_fim.pickle\", \"rb\") as handle:\n",
    "    output_fim_mixture = pickle.load(handle)"
   ]
  },
  {
   "cell_type": "code",
   "execution_count": 5,
   "id": "4b2a7b5d",
   "metadata": {},
   "outputs": [],
   "source": [
    "with open(\"logs_final/multi_single_fim.pickle\", \"rb\") as handle:\n",
    "    output_fim_single = pickle.load(handle)"
   ]
  },
  {
   "cell_type": "code",
   "execution_count": 6,
   "id": "d90d58f7",
   "metadata": {},
   "outputs": [],
   "source": [
    "with open(\"logs_final/maml_mixed.pickle\", \"rb\") as handle:\n",
    "    output_maml_mixed = pickle.load(handle)"
   ]
  },
  {
   "cell_type": "markdown",
   "id": "d6f6a948",
   "metadata": {},
   "source": [
    "## Loading network"
   ]
  },
  {
   "cell_type": "code",
   "execution_count": 7,
   "id": "a3e946e1",
   "metadata": {},
   "outputs": [],
   "source": [
    "model = models.small_network(40, \"relu\", 1)\n",
    "apply_fn = utils.apply_fn_wrapper(model.apply, False)"
   ]
  },
  {
   "cell_type": "markdown",
   "id": "c010565f",
   "metadata": {},
   "source": [
    "## Computing kernels"
   ]
  },
  {
   "cell_type": "code",
   "execution_count": 9,
   "id": "bf935c2a",
   "metadata": {},
   "outputs": [],
   "source": [
    "kernel1_fim_mixture, kernel1_self_fim_mixture, jac_fim_mixture = ntk.get_kernel_and_jac_lowdim_cov(apply_fn, output_fim_mixture[\"trained_params\"], output_fim_mixture[\"trained_scale1\"], output_fim_mixture[\"trained_batch_stats\"], output_fim_mixture[\"proj1\"])\n",
    "kernel2_fim_mixture, kernel2_self_fim_mixture, jac_fim_mixture = ntk.get_kernel_and_jac_lowdim_cov(apply_fn, output_fim_mixture[\"trained_params\"], output_fim_mixture[\"trained_scale2\"], output_fim_mixture[\"trained_batch_stats\"], output_fim_mixture[\"proj2\"])"
   ]
  },
  {
   "cell_type": "code",
   "execution_count": 10,
   "id": "950cf959",
   "metadata": {},
   "outputs": [],
   "source": [
    "kernel_fim_single, kernel_self_fim_single, jac_fim_single = ntk.get_kernel_and_jac_lowdim_cov(apply_fn, output_fim_single[\"trained_params\"], output_fim_single[\"trained_scale\"], output_fim_single[\"trained_batch_stats\"], output_fim_single[\"proj\"])"
   ]
  },
  {
   "cell_type": "markdown",
   "id": "37ad58e6",
   "metadata": {},
   "source": [
    "## AUC"
   ]
  },
  {
   "cell_type": "code",
   "execution_count": 11,
   "id": "7fdb324a",
   "metadata": {},
   "outputs": [],
   "source": [
    "def true_score_mixed(nll_sines, nll_lines, nll_quad):\n",
    "    y_true = np.ones( (nll_sines.shape[0] + nll_lines.shape[0] + nll_quad.shape[0]) )\n",
    "    y_true = y_true.at[:nll_sines.shape[0]].set(np.array([0]*nll_sines.shape[0]))\n",
    "    y_true = y_true.at[nll_sines.shape[0]:nll_sines.shape[0]+nll_lines.shape[0]].set(np.array([0]*nll_lines.shape[0]))\n",
    "\n",
    "    y_score = np.append(nll_sines, nll_lines)\n",
    "    y_score = np.append(y_score, nll_quad)\n",
    "\n",
    "    return y_true, y_score\n",
    "\n",
    "def compute_auc(nll_sines, nll_lines, nll_quad):\n",
    "    y_true, y_score = true_score_mixed(nll_sines, nll_lines, nll_quad)\n",
    "    return roc_auc_score(y_true, y_score)"
   ]
  },
  {
   "cell_type": "code",
   "execution_count": 18,
   "id": "5065e227",
   "metadata": {},
   "outputs": [],
   "source": [
    "def auc_f_K(key, min_K, max_K):\n",
    "    Ks = range(min_K, max_K)\n",
    "    aucs_fim_mixture = []\n",
    "    aucs_fim_single = []\n",
    "\n",
    "    for K in Ks:\n",
    "        print(f\"Computation for K={K}\")\n",
    "        key, subkey, subkey_1 = random.split(key, 3)\n",
    "        nll_sine_fim_mixture = test.test_nll_two_kernels(subkey, kernel1_self_fim_mixture, kernel2_self_fim_mixture, jac_fim_mixture, jac_fim_mixture, dataset_sines_infinite.get_test_batch, K=K, n_tasks=1000, data_noise=0.05, maddox_noise=0.05, current_mean1=output_fim_mixture[\"trained_mean1\"], current_mean2=output_fim_mixture[\"trained_mean2\"])\n",
    "        nll_sine_fim_single = test.test_nll_one_kernel(subkey_1, kernel_self_fim_single, jac_fim_single, dataset_sines_infinite.get_test_batch, K=K, n_tasks=1000, data_noise=0.05, maddox_noise=0.05, current_mean=output_fim_single[\"trained_mean\"])\n",
    "        \n",
    "        nll_line_fim_mixture = test.test_nll_two_kernels(subkey, kernel1_self_fim_mixture, kernel2_self_fim_mixture, jac_fim_mixture, jac_fim_mixture, dataset_lines_infinite.get_test_batch, K=K, n_tasks=1000, data_noise=0.05, maddox_noise=0.05, current_mean1=output_fim_mixture[\"trained_mean1\"], current_mean2=output_fim_mixture[\"trained_mean2\"])\n",
    "        nll_line_fim_single = test.test_nll_one_kernel(subkey_1, kernel_self_fim_single, jac_fim_single, dataset_lines_infinite.get_test_batch, K=K, n_tasks=1000, data_noise=0.05, maddox_noise=0.05, current_mean=output_fim_single[\"trained_mean\"])\n",
    "        \n",
    "        nll_quad_fim_mixture = test.test_nll_two_kernels(subkey, kernel1_self_fim_mixture, kernel2_self_fim_mixture, jac_fim_mixture, jac_fim_mixture, dataset_quads_infinite.get_test_batch, K=K, n_tasks=1000, data_noise=0.05, maddox_noise=0.05, current_mean1=output_fim_mixture[\"trained_mean1\"], current_mean2=output_fim_mixture[\"trained_mean2\"])\n",
    "        nll_quad_fim_single = test.test_nll_one_kernel(subkey_1, kernel_self_fim_single, jac_fim_single, dataset_quads_infinite.get_test_batch, K=K, n_tasks=1000, data_noise=0.05, maddox_noise=0.05, current_mean=output_fim_single[\"trained_mean\"])\n",
    "\n",
    "        aucs_fim_mixture.append(compute_auc(nll_sine_fim_mixture, nll_line_fim_mixture, nll_quad_fim_mixture))\n",
    "        aucs_fim_single.append(compute_auc(nll_sine_fim_single, nll_line_fim_single, nll_quad_fim_single))\n",
    "        \n",
    "    return Ks, np.array(aucs_fim_mixture), np.array(aucs_fim_single)"
   ]
  },
  {
   "cell_type": "code",
   "execution_count": 19,
   "id": "4f6829e8",
   "metadata": {
    "scrolled": true
   },
   "outputs": [
    {
     "name": "stdout",
     "output_type": "stream",
     "text": [
      "Computation for K=1\n"
     ]
    }
   ],
   "source": [
    "key = random.PRNGKey(0)\n",
    "Ks, aucs_fim_mixture, aucs_fim_single = auc_f_K(key, 1, 11)"
   ]
  },
  {
   "cell_type": "code",
   "execution_count": 36,
   "id": "3ebc3755",
   "metadata": {},
   "outputs": [
    {
     "data": {
      "image/png": "[encoded data removed]",
      "text/plain": [
       "<Figure size 432x288 with 1 Axes>"
      ]
     },
     "metadata": {
      "needs_background": "light"
     },
     "output_type": "display_data"
    }
   ],
   "source": [
    "plt.plot(Ks, aucs_fim_mixture, \"royalblue\", label=\"UNLIMTD-F (mixture)\")\n",
    "plt.plot(Ks, aucs_fim_single, \"--\", color=\"tab:blue\", label=\"UNLIMTD-F (single GP)\")\n",
    "plt.gca().set_ylim([0.5, 1])\n",
    "plt.gca().set_xlabel(\"$K$\")\n",
    "plt.gca().set_ylabel(\"AUC-ROC score\")\n",
    "plt.legend()\n",
    "plt.savefig(\"plots/multi_auc.pdf\", bbox_inches='tight')"
   ]
  },
  {
   "cell_type": "markdown",
   "id": "06b964b2",
   "metadata": {},
   "source": [
    "## MSE"
   ]
  },
  {
   "cell_type": "markdown",
   "id": "b978681f",
   "metadata": {},
   "source": [
    "### Executing our algorithm"
   ]
  },
  {
   "cell_type": "code",
   "execution_count": 24,
   "id": "6dac0610",
   "metadata": {},
   "outputs": [],
   "source": [
    "def mse_f_K(key, min_K, max_K):\n",
    "    Ks = range(min_K, max_K)\n",
    "    mses_fim_mixture = []\n",
    "    mses_fim_single = []\n",
    "    \n",
    "    ci95s_fim_mixture = []\n",
    "    ci95s_fim_single = []\n",
    "    \n",
    "    for K in Ks:\n",
    "        print(f\"Computation for K={K}\")\n",
    "        key, subkey_1 = random.split(key)\n",
    "        \n",
    "        mse_fim_mixture = test.test_error_two_kernels(subkey_1, kernel1_fim_mixture, kernel1_self_fim_mixture, kernel2_fim_mixture, kernel2_self_fim_mixture, jac_fim_mixture, jac_fim_mixture, dataset_quads_infinite.get_test_batch, dataset_quads_infinite.error_fn, K=K, L=100, n_tasks=1000, data_noise=0.05, maddox_noise=0.05, current_mean1=output_fim_mixture[\"trained_mean1\"], current_mean2=output_fim_mixture[\"trained_mean2\"])\n",
    "        mse_fim_single = test.test_error_one_kernel(subkey_1, kernel_fim_single, kernel_self_fim_single, jac_fim_single, dataset_quads_infinite.get_test_batch, dataset_quads_infinite.error_fn, K=K, L=100, n_tasks=1000, data_noise=0.05, maddox_noise=0.05, current_mean=output_fim_single[\"trained_mean\"])\n",
    "        \n",
    "        mses_fim_mixture.append(np.mean(mse_fim_mixture))\n",
    "        ci95s_fim_mixture.append(ci95(mse_fim_mixture))\n",
    "        \n",
    "        mses_fim_single.append(np.mean(mse_fim_single))\n",
    "        ci95s_fim_single.append(ci95(mse_fim_single))\n",
    "\n",
    "    return Ks, np.array(mses_fim_mixture), np.array(ci95s_fim_mixture), np.array(mses_fim_single), np.array(ci95s_fim_single)"
   ]
  },
  {
   "cell_type": "code",
   "execution_count": 25,
   "id": "a36d544e",
   "metadata": {
    "scrolled": true
   },
   "outputs": [
    {
     "name": "stdout",
     "output_type": "stream",
     "text": [
      "Computation for K=1\n"
     ]
    }
   ],
   "source": [
    "Ks, mses_fim_mixture, ci95s_fim_mixture, mses_fim_single, ci95s_fim_single = mse_f_K(key, 1, 11)"
   ]
  },
  {
   "cell_type": "markdown",
   "id": "65536712",
   "metadata": {},
   "source": [
    "### Executing MAML"
   ]
  },
  {
   "cell_type": "code",
   "execution_count": 26,
   "id": "f4b65a49",
   "metadata": {},
   "outputs": [],
   "source": [
    "model = models.small_network(40, \"relu\", 1)\n",
    "\n",
    "def apply_fn(params, inputs):\n",
    "    return model.apply({\"params\": params}, inputs)\n",
    "\n",
    "key, key_init0, key_init1 = random.split(key, 3)\n",
    "batch = dataset_sines_infinite.get_test_batch(key, 10, 10, 10, 0.05)\n",
    "init_vars = model.init(key_init1, batch[0][0])"
   ]
  },
  {
   "cell_type": "code",
   "execution_count": 27,
   "id": "74b7ad91",
   "metadata": {},
   "outputs": [],
   "source": [
    "# copied from maml_toy.ipynb\n",
    "\n",
    "def error_fn(predictions, gt):\n",
    "    return np.mean( (predictions - gt)**2 )\n",
    "\n",
    "def inner_loss(current_params, x_a, y_a, apply_fn):\n",
    "    predictions = apply_fn(current_params, x_a)\n",
    "    \n",
    "    return error_fn(predictions, y_a)\n",
    "\n",
    "def inner_updates(current_params, x_a, y_a, n_updates, inner_lr, apply_fn):\n",
    "    def f(parameters, x):\n",
    "        inner_gradients = grad(inner_loss)(parameters, x_a, y_a, apply_fn)\n",
    "        parameters = tree_map(partial(gd_step0, inner_lr), parameters, inner_gradients)\n",
    "        \n",
    "        return parameters, None\n",
    "    \n",
    "    updated_params, _ = scan(f, current_params, None, n_updates)\n",
    "    \n",
    "    return updated_params\n",
    "\n",
    "def gd_step0(inner_lr, param_value, param_grad):\n",
    "    return param_value - inner_lr * param_grad"
   ]
  },
  {
   "cell_type": "code",
   "execution_count": 28,
   "id": "4716fecd",
   "metadata": {},
   "outputs": [],
   "source": [
    "def test_maml(key, apply_fn, params, n_updates_test, inner_lr, n_test_tasks, K, L, noise, error_fn):\n",
    "    x_a, y_a, x_b, y_b = dataset_multi_infinite.get_test_batch(key, n_test_tasks, K, L, noise)\n",
    "    \n",
    "    def f(carry, task):\n",
    "        x_a, y_a, x_b, y_b = task\n",
    "        \n",
    "        updated_params = inner_updates(params, x_a, y_a, n_updates_test, inner_lr, apply_fn)\n",
    "        predictions = apply_fn(updated_params, x_b)\n",
    "        \n",
    "        return None, error_fn(predictions, y_b)\n",
    "    \n",
    "    _, errors = scan(f, None, (x_a, y_a, x_b, y_b))\n",
    "    return errors"
   ]
  },
  {
   "cell_type": "code",
   "execution_count": 29,
   "id": "8c5c5fcc",
   "metadata": {},
   "outputs": [],
   "source": [
    "config = output_maml_mixed[\"config\"]\n",
    "\n",
    "def mse_maml_f_K(key, min_K, max_K):\n",
    "    Ks = range(min_K, max_K)\n",
    "    mses_maml_mixed = []\n",
    "    ci95s_maml_mixed = []\n",
    "    \n",
    "    for K in Ks:\n",
    "        print(f\"Computation for K={K}\")\n",
    "        key, subkey_1 = random.split(key)\n",
    "        errors_mixed = test_maml(subkey_1, apply_fn, output_maml_mixed[\"trained_params\"], config[\"n_updates_test\"], config[\"inner_lr\"], 1000, K, 100, 0.05, error_fn)\n",
    "\n",
    "        mses_maml_mixed.append(np.mean(errors_mixed))\n",
    "        ci95s_maml_mixed.append(ci95(errors_mixed))\n",
    "\n",
    "    return Ks, np.array(mses_maml_mixed), np.array(ci95s_maml_mixed)"
   ]
  },
  {
   "cell_type": "code",
   "execution_count": 30,
   "id": "762e8415",
   "metadata": {},
   "outputs": [
    {
     "name": "stdout",
     "output_type": "stream",
     "text": [
      "Computation for K=1\n"
     ]
    }
   ],
   "source": [
    "key, subkey = random.split(key)\n",
    "Ks, mses_maml_mixed, ci95s_maml_mixed = mse_maml_f_K(key, 1, 11)"
   ]
  },
  {
   "cell_type": "markdown",
   "id": "1dcda544",
   "metadata": {},
   "source": [
    "### MMAML"
   ]
  },
  {
   "cell_type": "code",
   "execution_count": 31,
   "id": "9910766f",
   "metadata": {},
   "outputs": [],
   "source": [
    "# Yes, the results are hard-coded\n",
    "# To obtain these results, train MMAML as explained in readme.md\n",
    "# Then, test MMAML using the command specified in readme.md\n",
    "mses_mmaml = np.array( [3.730254, 2.929165, 1.855181, 0.889051, 0.285268, 0.083995, 0.019562, 0.009378, 0.003262, 0.002573])\n",
    "ci95s_mmaml = np.array( [8.848934e-02, 7.866433e-02, 7.536615e-02, 6.057159e-02, 3.437318e-02, 2.199177e-02, 7.254124e-03, 5.865512e-03, 3.095880e-04, 2.571919e-04])"
   ]
  },
  {
   "cell_type": "markdown",
   "id": "79c2426a",
   "metadata": {},
   "source": [
    "### Plotting"
   ]
  },
  {
   "cell_type": "code",
   "execution_count": 33,
   "id": "824539fd",
   "metadata": {},
   "outputs": [
    {
     "data": {
      "image/png": "[encoded data removed]",
      "text/plain": [
       "<Figure size 432x288 with 1 Axes>"
      ]
     },
     "metadata": {
      "needs_background": "light"
     },
     "output_type": "display_data"
    }
   ],
   "source": [
    "plt.plot(Ks, mses_fim_mixture, \"royalblue\", label=\"UNLIMTD-F (mixture)\")\n",
    "plt.fill_between(Ks, mses_fim_mixture - ci95s_fim_mixture, mses_fim_mixture + ci95s_fim_mixture, color='royalblue', alpha=0.2)\n",
    "\n",
    "plt.plot(Ks, mses_fim_single, \"--\", color=\"tab:blue\", label=\"UNLIMTD-F (single GP)\")\n",
    "plt.fill_between(Ks, mses_fim_single - ci95s_fim_single, mses_fim_single + ci95s_fim_single, color='tab:blue', alpha=0.2)\n",
    "\n",
    "plt.plot(Ks, mses_mmaml, \"k--\", label=\"MMAML\")\n",
    "plt.fill_between(Ks, mses_mmaml - ci95s_mmaml, mses_mmaml + ci95s_mmaml, color='k', alpha=0.2)\n",
    "\n",
    "plt.plot(Ks, mses_maml_mixed, \"k\", label=\"MAML\")\n",
    "plt.fill_between(Ks, mses_maml_mixed - ci95s_maml_mixed, mses_maml_mixed + ci95s_maml_mixed, color='k', alpha=0.2)\n",
    "\n",
    "plt.gca().set_ylim([0, 0.5])\n",
    "plt.gca().set_xlabel(\"$K$\")\n",
    "plt.gca().set_ylabel(\"MSE\")\n",
    "plt.legend()\n",
    "plt.savefig(\"plots/multi_mse.pdf\", bbox_inches='tight')"
   ]
  }
 ],
 "metadata": {
  "kernelspec": {
   "display_name": "Python 3 (ipykernel)",
   "language": "python",
   "name": "python3"
  },
  "language_info": {
   "codemirror_mode": {
    "name": "ipython",
    "version": 3
   },
   "file_extension": ".py",
   "mimetype": "text/x-python",
   "name": "python",
   "nbconvert_exporter": "python",
   "pygments_lexer": "ipython3",
   "version": "3.8.13"
  },
  "latex_envs": {
   "LaTeX_envs_menu_present": true,
   "autoclose": false,
   "autocomplete": true,
   "bibliofile": "biblio.bib",
   "cite_by": "apalike",
   "current_citInitial": 1,
   "eqLabelWithNumbers": true,
   "eqNumInitial": 1,
   "hotkeys": {
    "equation": "Ctrl-E",
    "itemize": "Ctrl-I"
   },
   "labels_anchors": false,
   "latex_user_defs": false,
   "report_style_numbering": false,
   "user_envs_cfg": false
  },
  "toc": {
   "base_numbering": 1,
   "nav_menu": {},
   "number_sections": true,
   "sideBar": true,
   "skip_h1_title": false,
   "title_cell": "Table of Contents",
   "title_sidebar": "Contents",
   "toc_cell": false,
   "toc_position": {},
   "toc_section_display": true,
   "toc_window_display": false
  }
 },
 "nbformat": 4,
 "nbformat_minor": 5
}
