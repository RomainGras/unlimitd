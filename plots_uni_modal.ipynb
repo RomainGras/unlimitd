{
 "cells": [
  {
   "cell_type": "markdown",
   "id": "67c87798",
   "metadata": {},
   "source": [
    "## Imports"
   ]
  },
  {
   "cell_type": "code",
   "execution_count": 1,
   "id": "c72da0f5",
   "metadata": {},
   "outputs": [
    {
     "name": "stdout",
     "output_type": "stream",
     "text": [
      "env: TF_FORCE_UNIFIED_MEMORY=1\n"
     ]
    }
   ],
   "source": [
    "%env TF_FORCE_UNIFIED_MEMORY=1"
   ]
  },
  {
   "cell_type": "code",
   "execution_count": 11,
   "id": "b59d35e8",
   "metadata": {},
   "outputs": [],
   "source": [
    "import time\n",
    "from jax import random\n",
    "import dataset_sines_infinite\n",
    "import dataset_sines_finite\n",
    "import dataset_lines_infinite\n",
    "import dataset_quads_infinite\n",
    "import test\n",
    "import plots\n",
    "import ntk\n",
    "import nll\n",
    "from jax import numpy as np\n",
    "\n",
    "import pickle\n",
    "import models\n",
    "import utils\n",
    "from matplotlib import pyplot as plt\n",
    "from sklearn.metrics import roc_auc_score\n",
    "\n",
    "from jax.lax import scan\n",
    "from jax import grad\n",
    "from jax.tree_util import tree_map\n",
    "from functools import partial"
   ]
  },
  {
   "cell_type": "code",
   "execution_count": 12,
   "id": "eaa18515",
   "metadata": {},
   "outputs": [
    {
     "name": "stderr",
     "output_type": "stream",
     "text": [
      "2022-08-27 14:35:10.648292: W external/org_tensorflow/tensorflow/stream_executor/platform/default/dso_loader.cc:64] Could not load dynamic library 'libcuda.so.1'; dlerror: libcuda.so.1: cannot open shared object file: No such file or directory; LD_LIBRARY_PATH: /state/partition1/llgrid/pkg/anaconda/anaconda3-2022a/pkgs/cudatoolkit-11.3.1-h2bc3f7f_2/lib\n",
      "2022-08-27 14:35:10.648337: W external/org_tensorflow/tensorflow/stream_executor/cuda/cuda_driver.cc:269] failed call to cuInit: UNKNOWN ERROR (303)\n",
      "WARNING:absl:No GPU/TPU found, falling back to CPU. (Set TF_CPP_MIN_LOG_LEVEL=0 and rerun for more info.)\n"
     ]
    }
   ],
   "source": [
    "key = random.PRNGKey(0)"
   ]
  },
  {
   "cell_type": "code",
   "execution_count": 13,
   "id": "24e4f2f7",
   "metadata": {},
   "outputs": [],
   "source": [
    "def ci95(array):\n",
    "    sample_std = np.std(array)\n",
    "    sample_size = array.shape[0]\n",
    "    return 0.95 * sample_std / np.sqrt(sample_size)"
   ]
  },
  {
   "cell_type": "markdown",
   "id": "b4e76d6d",
   "metadata": {},
   "source": [
    "## Loading results"
   ]
  },
  {
   "cell_type": "code",
   "execution_count": 14,
   "id": "f6e1296c",
   "metadata": {},
   "outputs": [],
   "source": [
    "with open(\"logs_final/fim_infinite.pickle\", \"rb\") as handle:\n",
    "    output_fim_infinite = pickle.load(handle)"
   ]
  },
  {
   "cell_type": "code",
   "execution_count": 15,
   "id": "b915ac78",
   "metadata": {},
   "outputs": [],
   "source": [
    "with open(\"logs_final/fim_finite.pickle\", \"rb\") as handle:\n",
    "    output_fim_finite = pickle.load(handle)"
   ]
  },
  {
   "cell_type": "code",
   "execution_count": 16,
   "id": "7e5233fd",
   "metadata": {},
   "outputs": [],
   "source": [
    "with open(\"logs_final/random_infinite.pickle\", \"rb\") as handle:\n",
    "    output_random_infinite = pickle.load(handle)\n",
    "with open(\"logs_final/random_infinite2.pickle\", \"rb\") as handle:\n",
    "    output_random_infinite2 = pickle.load(handle)\n",
    "with open(\"logs_final/random_infinite3.pickle\", \"rb\") as handle:\n",
    "    output_random_infinite3 = pickle.load(handle)\n",
    "with open(\"logs_final/random_infinite4.pickle\", \"rb\") as handle:\n",
    "    output_random_infinite4 = pickle.load(handle)\n",
    "with open(\"logs_final/random_infinite5.pickle\", \"rb\") as handle:\n",
    "    output_random_infinite5 = pickle.load(handle)"
   ]
  },
  {
   "cell_type": "code",
   "execution_count": 17,
   "id": "5a82007c",
   "metadata": {},
   "outputs": [],
   "source": [
    "with open(\"logs_final/random_finite.pickle\", \"rb\") as handle:\n",
    "    output_random_finite = pickle.load(handle)\n",
    "with open(\"logs_final/random_finite2.pickle\", \"rb\") as handle:\n",
    "    output_random_finite2 = pickle.load(handle)\n",
    "with open(\"logs_final/random_finite3.pickle\", \"rb\") as handle:\n",
    "    output_random_finite3 = pickle.load(handle)\n",
    "with open(\"logs_final/random_finite4.pickle\", \"rb\") as handle:\n",
    "    output_random_finite4 = pickle.load(handle)\n",
    "with open(\"logs_final/random_finite5.pickle\", \"rb\") as handle:\n",
    "    output_random_finite5 = pickle.load(handle)"
   ]
  },
  {
   "cell_type": "code",
   "execution_count": 18,
   "id": "f7ad9931",
   "metadata": {},
   "outputs": [],
   "source": [
    "with open(\"logs_final/identity_infinite.pickle\", \"rb\") as handle:\n",
    "    output_identity_infinite = pickle.load(handle)"
   ]
  },
  {
   "cell_type": "code",
   "execution_count": 19,
   "id": "7b133714",
   "metadata": {},
   "outputs": [],
   "source": [
    "with open(\"logs_final/identity_finite.pickle\", \"rb\") as handle:\n",
    "    output_identity_finite = pickle.load(handle)"
   ]
  },
  {
   "cell_type": "code",
   "execution_count": 20,
   "id": "7ae8ffb2",
   "metadata": {},
   "outputs": [],
   "source": [
    "with open(\"logs_final/maml_single_infinite.pickle\", \"rb\") as handle:\n",
    "    output_maml_infinite = pickle.load(handle)"
   ]
  },
  {
   "cell_type": "code",
   "execution_count": 21,
   "id": "afb6ed9e",
   "metadata": {},
   "outputs": [],
   "source": [
    "with open(\"logs_final/maml_single_finite.pickle\", \"rb\") as handle:\n",
    "    output_maml_finite = pickle.load(handle)"
   ]
  },
  {
   "cell_type": "markdown",
   "id": "14c05d23",
   "metadata": {},
   "source": [
    "## Loading network"
   ]
  },
  {
   "cell_type": "code",
   "execution_count": 22,
   "id": "b97d942d",
   "metadata": {},
   "outputs": [],
   "source": [
    "model = models.small_network(40, \"relu\", 1)\n",
    "apply_fn = utils.apply_fn_wrapper(model.apply, False)"
   ]
  },
  {
   "cell_type": "markdown",
   "id": "75d564cd",
   "metadata": {},
   "source": [
    "## Computing kernels"
   ]
  },
  {
   "cell_type": "code",
   "execution_count": 24,
   "id": "f433e0ce",
   "metadata": {},
   "outputs": [],
   "source": [
    "kernel_fim_infinite, kernel_self_fim_infinite, jac_fim_infinite = ntk.get_kernel_and_jac_lowdim_cov(apply_fn, output_fim_infinite[\"trained_params\"], output_fim_infinite[\"trained_scale\"], output_fim_infinite[\"trained_batch_stats\"], output_fim_infinite[\"proj\"])\n",
    "kernel_fim_finite, kernel_self_fim_finite, jac_fim_finite = ntk.get_kernel_and_jac_lowdim_cov(apply_fn, output_fim_finite[\"trained_params\"], output_fim_finite[\"trained_scale\"], output_fim_finite[\"trained_batch_stats\"], output_fim_finite[\"proj\"])\n",
    "\n",
    "kernel_random_infinite, kernel_self_random_infinite, jac_random_infinite = ntk.get_kernel_and_jac_lowdim_cov(apply_fn, output_random_infinite[\"trained_params\"], output_random_infinite[\"trained_scale\"], output_random_infinite[\"trained_batch_stats\"], output_random_infinite[\"proj\"])\n",
    "kernel_random_finite, kernel_self_random_finite, jac_random_finite = ntk.get_kernel_and_jac_lowdim_cov(apply_fn, output_random_finite[\"trained_params\"], output_random_finite[\"trained_scale\"], output_random_finite[\"trained_batch_stats\"], output_random_finite[\"proj\"])\n",
    "\n",
    "kernel_random_infinite2, kernel_self_random_infinite2, jac_random_infinite2 = ntk.get_kernel_and_jac_lowdim_cov(apply_fn, output_random_infinite2[\"trained_params\"], output_random_infinite2[\"trained_scale\"], output_random_infinite2[\"trained_batch_stats\"], output_random_infinite2[\"proj\"])\n",
    "kernel_random_finite2, kernel_self_random_finite2, jac_random_finite2 = ntk.get_kernel_and_jac_lowdim_cov(apply_fn, output_random_finite2[\"trained_params\"], output_random_finite2[\"trained_scale\"], output_random_finite2[\"trained_batch_stats\"], output_random_finite2[\"proj\"])\n",
    "\n",
    "kernel_random_infinite3, kernel_self_random_infinite3, jac_random_infinite3 = ntk.get_kernel_and_jac_lowdim_cov(apply_fn, output_random_infinite3[\"trained_params\"], output_random_infinite3[\"trained_scale\"], output_random_infinite3[\"trained_batch_stats\"], output_random_infinite3[\"proj\"])\n",
    "kernel_random_finite3, kernel_self_random_finite3, jac_random_finite3 = ntk.get_kernel_and_jac_lowdim_cov(apply_fn, output_random_finite3[\"trained_params\"], output_random_finite3[\"trained_scale\"], output_random_finite3[\"trained_batch_stats\"], output_random_finite3[\"proj\"])\n",
    "\n",
    "kernel_random_infinite4, kernel_self_random_infinite4, jac_random_infinite4 = ntk.get_kernel_and_jac_lowdim_cov(apply_fn, output_random_infinite4[\"trained_params\"], output_random_infinite4[\"trained_scale\"], output_random_infinite4[\"trained_batch_stats\"], output_random_infinite4[\"proj\"])\n",
    "kernel_random_finite4, kernel_self_random_finite4, jac_random_finite4 = ntk.get_kernel_and_jac_lowdim_cov(apply_fn, output_random_finite4[\"trained_params\"], output_random_finite4[\"trained_scale\"], output_random_finite4[\"trained_batch_stats\"], output_random_finite4[\"proj\"])\n",
    "\n",
    "kernel_random_infinite5, kernel_self_random_infinite5, jac_random_infinite5 = ntk.get_kernel_and_jac_lowdim_cov(apply_fn, output_random_infinite5[\"trained_params\"], output_random_infinite5[\"trained_scale\"], output_random_infinite5[\"trained_batch_stats\"], output_random_infinite5[\"proj\"])\n",
    "kernel_random_finite5, kernel_self_random_finite5, jac_random_finite5 = ntk.get_kernel_and_jac_lowdim_cov(apply_fn, output_random_finite5[\"trained_params\"], output_random_finite5[\"trained_scale\"], output_random_finite5[\"trained_batch_stats\"], output_random_finite5[\"proj\"])"
   ]
  },
  {
   "cell_type": "code",
   "execution_count": 26,
   "id": "a14ba1f5",
   "metadata": {},
   "outputs": [],
   "source": [
    "kernel_identity_infinite, kernel_self_identity_infinite, jac_identity_infinite = ntk.get_kernel_and_jac_identity_cov(apply_fn, output_identity_infinite[\"intermediate_params\"], output_identity_infinite[\"intermediate_batch_stats\"])\n",
    "kernel_identity_finite, kernel_self_identity_finite, jac_identity_finite = ntk.get_kernel_and_jac_identity_cov(apply_fn, output_identity_finite[\"intermediate_params\"], output_identity_finite[\"intermediate_batch_stats\"])"
   ]
  },
  {
   "cell_type": "markdown",
   "id": "fcdc9539",
   "metadata": {},
   "source": [
    "## AUC"
   ]
  },
  {
   "cell_type": "code",
   "execution_count": 27,
   "id": "2dd51449",
   "metadata": {},
   "outputs": [],
   "source": [
    "def true_score_single(nll_sines, nll_lines, nll_quad):\n",
    "    y_true = np.ones( (nll_sines.shape[0] + nll_lines.shape[0] + nll_quad.shape[0]) )\n",
    "    y_true = y_true.at[:nll_sines.shape[0]].set(np.array([0]*nll_sines.shape[0]))\n",
    "\n",
    "    y_score = np.append(nll_sines, nll_lines)\n",
    "    y_score = np.append(y_score, nll_quad)\n",
    "\n",
    "    return y_true, y_score\n",
    "\n",
    "def compute_auc(nll_sines, nll_lines, nll_quad):\n",
    "    y_true, y_score = true_score_single(nll_sines, nll_lines, nll_quad)\n",
    "    return roc_auc_score(y_true, y_score)"
   ]
  },
  {
   "cell_type": "code",
   "execution_count": 31,
   "id": "30f1202a",
   "metadata": {},
   "outputs": [],
   "source": [
    "def auc_f_K(key, min_K, max_K):\n",
    "    Ks = range(min_K, max_K)\n",
    "    aucs_fim_infinite = []\n",
    "    aucs_fim_finite = []\n",
    "    aucs_identity_infinite = []\n",
    "    aucs_identity_finite = []\n",
    "    \n",
    "    aucs_random_infinite = []\n",
    "    aucs_random_finite = []\n",
    "    aucs_random_infinite2 = []\n",
    "    aucs_random_finite2 = []\n",
    "    aucs_random_infinite3 = []\n",
    "    aucs_random_finite3 = []\n",
    "    aucs_random_infinite4 = []\n",
    "    aucs_random_finite4 = []\n",
    "    aucs_random_infinite5 = []\n",
    "    aucs_random_finite5 = []\n",
    "\n",
    "    for K in Ks:\n",
    "        print(f\"Computation for K={K}\")\n",
    "        key, subkey_1, subkey_2, subkey_3 = random.split(key, 4)\n",
    "        nll_sine_fim_infinite = test.test_nll_one_kernel(subkey_1, kernel_self_fim_infinite, jac_fim_infinite, dataset_sines_infinite.get_test_batch, K=K, n_tasks=1000, data_noise=0.05, maddox_noise=0.05, current_mean=output_fim_infinite[\"trained_mean\"])\n",
    "        nll_sine_fim_finite = test.test_nll_one_kernel(subkey_1, kernel_self_fim_finite, jac_fim_finite, dataset_sines_infinite.get_test_batch, K=K, n_tasks=1000, data_noise=0.05, maddox_noise=0.05, current_mean=output_fim_finite[\"trained_mean\"])\n",
    "        nll_sine_identity_infinite = test.test_nll_one_kernel(subkey_1, kernel_self_identity_infinite, jac_identity_infinite, dataset_sines_infinite.get_test_batch, K=K, n_tasks=1000, data_noise=0.05, maddox_noise=0.05, current_mean=output_identity_infinite[\"intermediate_mean\"])\n",
    "        nll_sine_identity_finite = test.test_nll_one_kernel(subkey_1, kernel_self_identity_finite, jac_identity_finite, dataset_sines_infinite.get_test_batch, K=K, n_tasks=1000, data_noise=0.05, maddox_noise=0.05, current_mean=output_identity_finite[\"intermediate_mean\"])\n",
    "        nll_sine_random_infinite = test.test_nll_one_kernel(subkey_1, kernel_self_random_infinite, jac_random_infinite, dataset_sines_infinite.get_test_batch, K=K, n_tasks=1000, data_noise=0.05, maddox_noise=0.05, current_mean=output_random_infinite[\"trained_mean\"])\n",
    "        nll_sine_random_finite = test.test_nll_one_kernel(subkey_1, kernel_self_random_finite, jac_random_finite, dataset_sines_infinite.get_test_batch, K=K, n_tasks=1000, data_noise=0.05, maddox_noise=0.05, current_mean=output_random_finite[\"trained_mean\"])\n",
    "        nll_sine_random_infinite2 = test.test_nll_one_kernel(subkey_1, kernel_self_random_infinite2, jac_random_infinite2, dataset_sines_infinite.get_test_batch, K=K, n_tasks=1000, data_noise=0.05, maddox_noise=0.05, current_mean=output_random_infinite2[\"trained_mean\"])\n",
    "        nll_sine_random_finite2 = test.test_nll_one_kernel(subkey_1, kernel_self_random_finite2, jac_random_finite2, dataset_sines_infinite.get_test_batch, K=K, n_tasks=1000, data_noise=0.05, maddox_noise=0.05, current_mean=output_random_finite2[\"trained_mean\"])\n",
    "        nll_sine_random_infinite3 = test.test_nll_one_kernel(subkey_1, kernel_self_random_infinite3, jac_random_infinite3, dataset_sines_infinite.get_test_batch, K=K, n_tasks=1000, data_noise=0.05, maddox_noise=0.05, current_mean=output_random_infinite3[\"trained_mean\"])\n",
    "        nll_sine_random_finite3 = test.test_nll_one_kernel(subkey_1, kernel_self_random_finite3, jac_random_finite3, dataset_sines_infinite.get_test_batch, K=K, n_tasks=1000, data_noise=0.05, maddox_noise=0.05, current_mean=output_random_finite3[\"trained_mean\"])\n",
    "        nll_sine_random_infinite4 = test.test_nll_one_kernel(subkey_1, kernel_self_random_infinite4, jac_random_infinite4, dataset_sines_infinite.get_test_batch, K=K, n_tasks=1000, data_noise=0.05, maddox_noise=0.05, current_mean=output_random_infinite4[\"trained_mean\"])\n",
    "        nll_sine_random_finite4 = test.test_nll_one_kernel(subkey_1, kernel_self_random_finite4, jac_random_finite4, dataset_sines_infinite.get_test_batch, K=K, n_tasks=1000, data_noise=0.05, maddox_noise=0.05, current_mean=output_random_finite4[\"trained_mean\"])\n",
    "        nll_sine_random_infinite5 = test.test_nll_one_kernel(subkey_1, kernel_self_random_infinite5, jac_random_infinite5, dataset_sines_infinite.get_test_batch, K=K, n_tasks=1000, data_noise=0.05, maddox_noise=0.05, current_mean=output_random_infinite5[\"trained_mean\"])\n",
    "        nll_sine_random_finite5 = test.test_nll_one_kernel(subkey_1, kernel_self_random_finite5, jac_random_finite5, dataset_sines_infinite.get_test_batch, K=K, n_tasks=1000, data_noise=0.05, maddox_noise=0.05, current_mean=output_random_finite5[\"trained_mean\"])\n",
    "        \n",
    "        nll_line_fim_infinite = test.test_nll_one_kernel(subkey_1, kernel_self_fim_infinite, jac_fim_infinite, dataset_lines_infinite.get_test_batch, K=K, n_tasks=1000, data_noise=0.05, maddox_noise=0.05, current_mean=output_fim_infinite[\"trained_mean\"])\n",
    "        nll_line_fim_finite = test.test_nll_one_kernel(subkey_1, kernel_self_fim_finite, jac_fim_finite, dataset_lines_infinite.get_test_batch, K=K, n_tasks=1000, data_noise=0.05, maddox_noise=0.05, current_mean=output_fim_finite[\"trained_mean\"])\n",
    "        nll_line_identity_infinite = test.test_nll_one_kernel(subkey_1, kernel_self_identity_infinite, jac_identity_infinite, dataset_lines_infinite.get_test_batch, K=K, n_tasks=1000, data_noise=0.05, maddox_noise=0.05, current_mean=output_identity_infinite[\"intermediate_mean\"])\n",
    "        nll_line_identity_finite = test.test_nll_one_kernel(subkey_1, kernel_self_identity_finite, jac_identity_finite, dataset_lines_infinite.get_test_batch, K=K, n_tasks=1000, data_noise=0.05, maddox_noise=0.05, current_mean=output_identity_finite[\"intermediate_mean\"])\n",
    "        nll_line_random_infinite = test.test_nll_one_kernel(subkey_1, kernel_self_random_infinite, jac_random_infinite, dataset_lines_infinite.get_test_batch, K=K, n_tasks=1000, data_noise=0.05, maddox_noise=0.05, current_mean=output_random_infinite[\"trained_mean\"])\n",
    "        nll_line_random_finite = test.test_nll_one_kernel(subkey_1, kernel_self_random_finite, jac_random_finite, dataset_lines_infinite.get_test_batch, K=K, n_tasks=1000, data_noise=0.05, maddox_noise=0.05, current_mean=output_random_finite[\"trained_mean\"])\n",
    "        nll_line_random_infinite2 = test.test_nll_one_kernel(subkey_1, kernel_self_random_infinite2, jac_random_infinite2, dataset_lines_infinite.get_test_batch, K=K, n_tasks=1000, data_noise=0.05, maddox_noise=0.05, current_mean=output_random_infinite2[\"trained_mean\"])\n",
    "        nll_line_random_finite2 = test.test_nll_one_kernel(subkey_1, kernel_self_random_finite2, jac_random_finite2, dataset_lines_infinite.get_test_batch, K=K, n_tasks=1000, data_noise=0.05, maddox_noise=0.05, current_mean=output_random_finite2[\"trained_mean\"])\n",
    "        nll_line_random_infinite3 = test.test_nll_one_kernel(subkey_1, kernel_self_random_infinite3, jac_random_infinite3, dataset_lines_infinite.get_test_batch, K=K, n_tasks=1000, data_noise=0.05, maddox_noise=0.05, current_mean=output_random_infinite3[\"trained_mean\"])\n",
    "        nll_line_random_finite3 = test.test_nll_one_kernel(subkey_1, kernel_self_random_finite3, jac_random_finite3, dataset_lines_infinite.get_test_batch, K=K, n_tasks=1000, data_noise=0.05, maddox_noise=0.05, current_mean=output_random_finite3[\"trained_mean\"])\n",
    "        nll_line_random_infinite4 = test.test_nll_one_kernel(subkey_1, kernel_self_random_infinite4, jac_random_infinite4, dataset_lines_infinite.get_test_batch, K=K, n_tasks=1000, data_noise=0.05, maddox_noise=0.05, current_mean=output_random_infinite4[\"trained_mean\"])\n",
    "        nll_line_random_finite4 = test.test_nll_one_kernel(subkey_1, kernel_self_random_finite4, jac_random_finite4, dataset_lines_infinite.get_test_batch, K=K, n_tasks=1000, data_noise=0.05, maddox_noise=0.05, current_mean=output_random_finite4[\"trained_mean\"])\n",
    "        nll_line_random_infinite5 = test.test_nll_one_kernel(subkey_1, kernel_self_random_infinite5, jac_random_infinite5, dataset_lines_infinite.get_test_batch, K=K, n_tasks=1000, data_noise=0.05, maddox_noise=0.05, current_mean=output_random_infinite5[\"trained_mean\"])\n",
    "        nll_line_random_finite5 = test.test_nll_one_kernel(subkey_1, kernel_self_random_finite5, jac_random_finite5, dataset_lines_infinite.get_test_batch, K=K, n_tasks=1000, data_noise=0.05, maddox_noise=0.05, current_mean=output_random_finite5[\"trained_mean\"])\n",
    "        \n",
    "        nll_quad_fim_infinite = test.test_nll_one_kernel(subkey_1, kernel_self_fim_infinite, jac_fim_infinite, dataset_quads_infinite.get_test_batch, K=K, n_tasks=1000, data_noise=0.05, maddox_noise=0.05, current_mean=output_fim_infinite[\"trained_mean\"])\n",
    "        nll_quad_fim_finite = test.test_nll_one_kernel(subkey_1, kernel_self_fim_finite, jac_fim_finite, dataset_quads_infinite.get_test_batch, K=K, n_tasks=1000, data_noise=0.05, maddox_noise=0.05, current_mean=output_fim_finite[\"trained_mean\"])\n",
    "        nll_quad_identity_infinite = test.test_nll_one_kernel(subkey_1, kernel_self_identity_infinite, jac_identity_infinite, dataset_quads_infinite.get_test_batch, K=K, n_tasks=1000, data_noise=0.05, maddox_noise=0.05, current_mean=output_identity_infinite[\"intermediate_mean\"])\n",
    "        nll_quad_identity_finite = test.test_nll_one_kernel(subkey_1, kernel_self_identity_finite, jac_identity_finite, dataset_quads_infinite.get_test_batch, K=K, n_tasks=1000, data_noise=0.05, maddox_noise=0.05, current_mean=output_identity_finite[\"intermediate_mean\"])\n",
    "        nll_quad_random_infinite = test.test_nll_one_kernel(subkey_1, kernel_self_random_infinite, jac_random_infinite, dataset_quads_infinite.get_test_batch, K=K, n_tasks=1000, data_noise=0.05, maddox_noise=0.05, current_mean=output_random_infinite[\"trained_mean\"])\n",
    "        nll_quad_random_finite = test.test_nll_one_kernel(subkey_1, kernel_self_random_finite, jac_random_finite, dataset_quads_infinite.get_test_batch, K=K, n_tasks=1000, data_noise=0.05, maddox_noise=0.05, current_mean=output_random_finite[\"trained_mean\"])\n",
    "        nll_quad_random_infinite2 = test.test_nll_one_kernel(subkey_1, kernel_self_random_infinite2, jac_random_infinite2, dataset_quads_infinite.get_test_batch, K=K, n_tasks=1000, data_noise=0.05, maddox_noise=0.05, current_mean=output_random_infinite2[\"trained_mean\"])\n",
    "        nll_quad_random_finite2 = test.test_nll_one_kernel(subkey_1, kernel_self_random_finite2, jac_random_finite2, dataset_quads_infinite.get_test_batch, K=K, n_tasks=1000, data_noise=0.05, maddox_noise=0.05, current_mean=output_random_finite2[\"trained_mean\"])\n",
    "        nll_quad_random_infinite3 = test.test_nll_one_kernel(subkey_1, kernel_self_random_infinite3, jac_random_infinite3, dataset_quads_infinite.get_test_batch, K=K, n_tasks=1000, data_noise=0.05, maddox_noise=0.05, current_mean=output_random_infinite3[\"trained_mean\"])\n",
    "        nll_quad_random_finite3 = test.test_nll_one_kernel(subkey_1, kernel_self_random_finite3, jac_random_finite3, dataset_quads_infinite.get_test_batch, K=K, n_tasks=1000, data_noise=0.05, maddox_noise=0.05, current_mean=output_random_finite3[\"trained_mean\"])\n",
    "        nll_quad_random_infinite4 = test.test_nll_one_kernel(subkey_1, kernel_self_random_infinite4, jac_random_infinite4, dataset_quads_infinite.get_test_batch, K=K, n_tasks=1000, data_noise=0.05, maddox_noise=0.05, current_mean=output_random_infinite4[\"trained_mean\"])\n",
    "        nll_quad_random_finite4 = test.test_nll_one_kernel(subkey_1, kernel_self_random_finite4, jac_random_finite4, dataset_quads_infinite.get_test_batch, K=K, n_tasks=1000, data_noise=0.05, maddox_noise=0.05, current_mean=output_random_finite4[\"trained_mean\"])\n",
    "        nll_quad_random_infinite5 = test.test_nll_one_kernel(subkey_1, kernel_self_random_infinite5, jac_random_infinite5, dataset_quads_infinite.get_test_batch, K=K, n_tasks=1000, data_noise=0.05, maddox_noise=0.05, current_mean=output_random_infinite5[\"trained_mean\"])\n",
    "        nll_quad_random_finite5 = test.test_nll_one_kernel(subkey_1, kernel_self_random_finite5, jac_random_finite5, dataset_quads_infinite.get_test_batch, K=K, n_tasks=1000, data_noise=0.05, maddox_noise=0.05, current_mean=output_random_finite5[\"trained_mean\"])\n",
    "\n",
    "        aucs_fim_infinite.append(compute_auc(nll_sine_fim_infinite, nll_line_fim_infinite, nll_quad_fim_infinite))\n",
    "        aucs_fim_finite.append(compute_auc(nll_sine_fim_finite, nll_line_fim_finite, nll_quad_fim_finite))\n",
    "        aucs_identity_infinite.append(compute_auc(nll_sine_identity_infinite, nll_line_identity_infinite, nll_quad_identity_infinite))\n",
    "        aucs_identity_finite.append(compute_auc(nll_sine_identity_finite, nll_line_identity_finite, nll_quad_identity_finite))\n",
    "        aucs_random_infinite.append(compute_auc(nll_sine_random_infinite, nll_line_random_infinite, nll_quad_random_infinite))\n",
    "        aucs_random_finite.append(compute_auc(nll_sine_random_finite, nll_line_random_finite, nll_quad_random_finite))\n",
    "        aucs_random_infinite2.append(compute_auc(nll_sine_random_infinite2, nll_line_random_infinite2, nll_quad_random_infinite2))\n",
    "        aucs_random_finite2.append(compute_auc(nll_sine_random_finite2, nll_line_random_finite2, nll_quad_random_finite2))\n",
    "        aucs_random_infinite3.append(compute_auc(nll_sine_random_infinite3, nll_line_random_infinite3, nll_quad_random_infinite3))\n",
    "        aucs_random_finite3.append(compute_auc(nll_sine_random_finite3, nll_line_random_finite3, nll_quad_random_finite3))\n",
    "        aucs_random_infinite4.append(compute_auc(nll_sine_random_infinite4, nll_line_random_infinite4, nll_quad_random_infinite4))\n",
    "        aucs_random_finite4.append(compute_auc(nll_sine_random_finite4, nll_line_random_finite4, nll_quad_random_finite4))\n",
    "        aucs_random_infinite5.append(compute_auc(nll_sine_random_infinite5, nll_line_random_infinite5, nll_quad_random_infinite5))\n",
    "        aucs_random_finite5.append(compute_auc(nll_sine_random_finite5, nll_line_random_finite5, nll_quad_random_finite5))\n",
    "\n",
    "    return Ks, np.array(aucs_fim_infinite), np.array(aucs_fim_finite), np.array(aucs_random_infinite), np.array(aucs_random_finite), np.array(aucs_identity_infinite), np.array(aucs_identity_finite), np.array(aucs_random_infinite2), np.array(aucs_random_finite2), np.array(aucs_random_infinite3), np.array(aucs_random_finite3), np.array(aucs_random_infinite4), np.array(aucs_random_finite4), np.array(aucs_random_infinite5), np.array(aucs_random_finite5)"
   ]
  },
  {
   "cell_type": "code",
   "execution_count": 32,
   "id": "3484e981",
   "metadata": {
    "scrolled": true
   },
   "outputs": [
    {
     "name": "stdout",
     "output_type": "stream",
     "text": [
      "Computation for K=1\n"
     ]
    }
   ],
   "source": [
    "key = random.PRNGKey(0)\n",
    "Ks, aucs_fim_infinite, aucs_fim_finite, aucs_random_infinite, aucs_random_finite, aucs_identity_infinite, aucs_identity_finite, aucs_random_infinite2, aucs_random_finite2, aucs_random_infinite3, aucs_random_finite3, aucs_random_infinite4, aucs_random_finite4, aucs_random_infinite5, aucs_random_finite5 = auc_f_K(key, 1, 11)"
   ]
  },
  {
   "cell_type": "code",
   "execution_count": 19,
   "id": "9505d947",
   "metadata": {},
   "outputs": [],
   "source": [
    "aucs_random_infinite_all = np.concatenate( (aucs_random_infinite[:, np.newaxis],\n",
    "                 aucs_random_infinite2[:, np.newaxis],\n",
    "                 aucs_random_infinite3[:, np.newaxis],\n",
    "                 aucs_random_infinite4[:, np.newaxis],\n",
    "                 aucs_random_infinite5[:, np.newaxis]\n",
    "                ), axis=1)\n",
    "\n",
    "aucs_random_finite_all = np.concatenate( (aucs_random_finite[:, np.newaxis],\n",
    "                 aucs_random_finite2[:, np.newaxis],\n",
    "                 aucs_random_finite3[:, np.newaxis],\n",
    "                 aucs_random_finite4[:, np.newaxis],\n",
    "                 aucs_random_finite5[:, np.newaxis]\n",
    "                ), axis=1)"
   ]
  },
  {
   "cell_type": "code",
   "execution_count": 20,
   "id": "0de82a76",
   "metadata": {},
   "outputs": [],
   "source": [
    "aucs_random_infinite_means = np.mean(aucs_random_infinite_all, axis=1)\n",
    "aucs_random_infinite_ci95 = []\n",
    "for k in range(10):\n",
    "    aucs_random_infinite_ci95.append(ci95(aucs_random_infinite_all[k]))\n",
    "aucs_random_infinite_ci95 = np.array(aucs_random_infinite_ci95)\n",
    "\n",
    "aucs_random_finite_means = np.mean(aucs_random_finite_all, axis=1)\n",
    "aucs_random_finite_ci95 = []\n",
    "for k in range(10):\n",
    "    aucs_random_finite_ci95.append(ci95(aucs_random_finite_all[k]))\n",
    "aucs_random_finite_ci95 = np.array(aucs_random_finite_ci95)"
   ]
  },
  {
   "cell_type": "code",
   "execution_count": 49,
   "id": "b551dc89",
   "metadata": {},
   "outputs": [
    {
     "data": {
      "image/png": "[encoded data removed]",
      "text/plain": [
       "<Figure size 432x288 with 1 Axes>"
      ]
     },
     "metadata": {
      "needs_background": "light"
     },
     "output_type": "display_data"
    }
   ],
   "source": [
    "plt.plot(Ks, aucs_fim_infinite, \"--\", color=\"tab:blue\", label=\"UNLIMTD-F (infinite)\")\n",
    "plt.plot(Ks, aucs_fim_finite, \"-\", color=\"royalblue\", label=\"UNLIMTD-F (finite)\")\n",
    "plt.plot(Ks, aucs_random_infinite_means, \"--\", color=\"tab:orange\", label=\"UNLIMTD-R (infinite)\")\n",
    "plt.fill_between(Ks, aucs_random_infinite_means - aucs_random_infinite_ci95, aucs_random_infinite_means + aucs_random_infinite_ci95, color=\"tab:orange\", alpha=0.2)\n",
    "plt.plot(Ks, aucs_random_finite_means, \"-\", color=\"chocolate\", label=\"UNLIMTD-R (finite)\")\n",
    "plt.fill_between(Ks, aucs_random_finite_means - aucs_random_finite_ci95, aucs_random_finite_means + aucs_random_finite_ci95, color=\"chocolate\", alpha=0.2)\n",
    "plt.plot(Ks, aucs_identity_infinite, \"--\", color=\"tab:purple\", label=\"UNLIMTD-I (infinite)\")\n",
    "plt.plot(Ks, aucs_identity_finite, \"-\", color=\"purple\", label=\"UNLIMTD-I (finite\")\n",
    "plt.gca().set_ylim([0.5, 1])\n",
    "plt.gca().set_xlabel(\"$K$\")\n",
    "plt.gca().set_ylabel(\"AUC-ROC score\")\n",
    "plt.legend()\n",
    "plt.savefig(\"plots/single_auc.pdf\", bbox_inches='tight')"
   ]
  },
  {
   "cell_type": "markdown",
   "id": "0d1d2118",
   "metadata": {},
   "source": [
    "## MSE"
   ]
  },
  {
   "cell_type": "markdown",
   "id": "6577bca7",
   "metadata": {},
   "source": [
    "### Executing our algorithm"
   ]
  },
  {
   "cell_type": "code",
   "execution_count": 38,
   "id": "4d5bf5d8",
   "metadata": {},
   "outputs": [],
   "source": [
    "def mse_f_K(key, min_K, max_K):\n",
    "    Ks = range(min_K, max_K)\n",
    "    mses_fim_infinite = []\n",
    "    mses_fim_finite = []\n",
    "    mses_random_infinite = []\n",
    "    mses_random_finite = []\n",
    "    mses_identity_infinite = []\n",
    "    mses_identity_finite = []\n",
    "    \n",
    "    ci95s_fim_infinite = []\n",
    "    ci95s_fim_finite = []\n",
    "    ci95s_random_infinite = []\n",
    "    ci95s_random_finite = []\n",
    "    ci95s_identity_infinite = []\n",
    "    ci95s_identity_finite = []\n",
    "    \n",
    "    for K in Ks:\n",
    "        print(f\"Computation for K={K}\")\n",
    "        key, subkey_1 = random.split(key)\n",
    "        \n",
    "        mse_fim_infinite = test.test_error_one_kernel(subkey_1, kernel_fim_infinite, kernel_self_fim_infinite, jac_fim_infinite, dataset_sines_infinite.get_test_batch, dataset_sines_infinite.error_fn, K=K, L=100, n_tasks=1000, data_noise=0.05, maddox_noise=0.05, current_mean=output_fim_infinite[\"trained_mean\"])\n",
    "        mse_fim_finite = test.test_error_one_kernel(subkey_1, kernel_fim_finite, kernel_self_fim_finite, jac_fim_finite, dataset_sines_infinite.get_test_batch, dataset_sines_infinite.error_fn, K=K, L=100, n_tasks=1000, data_noise=0.05, maddox_noise=0.05, current_mean=output_fim_finite[\"trained_mean\"])\n",
    "        mse_identity_infinite = test.test_error_one_kernel(subkey_1, kernel_identity_infinite, kernel_self_identity_infinite, jac_identity_infinite, dataset_sines_infinite.get_test_batch, dataset_sines_infinite.error_fn, K=K, L=100, n_tasks=1000, data_noise=0.05, maddox_noise=0.05, current_mean=output_identity_infinite[\"intermediate_mean\"])\n",
    "        mse_identity_finite = test.test_error_one_kernel(subkey_1, kernel_identity_finite, kernel_self_identity_finite, jac_identity_finite, dataset_sines_infinite.get_test_batch, dataset_sines_infinite.error_fn, K=K, L=100, n_tasks=1000, data_noise=0.05, maddox_noise=0.05, current_mean=output_identity_finite[\"intermediate_mean\"])\n",
    "        mse_random_infinite = test.test_error_one_kernel(subkey_1, kernel_random_infinite, kernel_self_random_infinite, jac_random_infinite, dataset_sines_infinite.get_test_batch, dataset_sines_infinite.error_fn, K=K, L=100, n_tasks=1000, data_noise=0.05, maddox_noise=0.05, current_mean=output_random_infinite[\"trained_mean\"])\n",
    "        mse_random_finite = test.test_error_one_kernel(subkey_1, kernel_random_finite, kernel_self_random_finite, jac_random_finite, dataset_sines_infinite.get_test_batch, dataset_sines_infinite.error_fn, K=K, L=100, n_tasks=1000, data_noise=0.05, maddox_noise=0.05, current_mean=output_random_finite[\"trained_mean\"])\n",
    "        mse_random_infinite2 = test.test_error_one_kernel(subkey_1, kernel_random_infinite2, kernel_self_random_infinite2, jac_random_infinite2, dataset_sines_infinite.get_test_batch, dataset_sines_infinite.error_fn, K=K, L=100, n_tasks=1000, data_noise=0.05, maddox_noise=0.05, current_mean=output_random_infinite2[\"trained_mean\"])\n",
    "        mse_random_finite2 = test.test_error_one_kernel(subkey_1, kernel_random_finite2, kernel_self_random_finite2, jac_random_finite2, dataset_sines_infinite.get_test_batch, dataset_sines_infinite.error_fn, K=K, L=100, n_tasks=1000, data_noise=0.05, maddox_noise=0.05, current_mean=output_random_finite2[\"trained_mean\"])\n",
    "        mse_random_infinite3 = test.test_error_one_kernel(subkey_1, kernel_random_infinite3, kernel_self_random_infinite3, jac_random_infinite3, dataset_sines_infinite.get_test_batch, dataset_sines_infinite.error_fn, K=K, L=100, n_tasks=1000, data_noise=0.05, maddox_noise=0.05, current_mean=output_random_infinite3[\"trained_mean\"])\n",
    "        mse_random_finite3 = test.test_error_one_kernel(subkey_1, kernel_random_finite3, kernel_self_random_finite3, jac_random_finite3, dataset_sines_infinite.get_test_batch, dataset_sines_infinite.error_fn, K=K, L=100, n_tasks=1000, data_noise=0.05, maddox_noise=0.05, current_mean=output_random_finite3[\"trained_mean\"])\n",
    "        mse_random_infinite4 = test.test_error_one_kernel(subkey_1, kernel_random_infinite4, kernel_self_random_infinite4, jac_random_infinite4, dataset_sines_infinite.get_test_batch, dataset_sines_infinite.error_fn, K=K, L=100, n_tasks=1000, data_noise=0.05, maddox_noise=0.05, current_mean=output_random_infinite4[\"trained_mean\"])\n",
    "        mse_random_finite4 = test.test_error_one_kernel(subkey_1, kernel_random_finite4, kernel_self_random_finite4, jac_random_finite4, dataset_sines_infinite.get_test_batch, dataset_sines_infinite.error_fn, K=K, L=100, n_tasks=1000, data_noise=0.05, maddox_noise=0.05, current_mean=output_random_finite4[\"trained_mean\"])\n",
    "        mse_random_infinite5 = test.test_error_one_kernel(subkey_1, kernel_random_infinite5, kernel_self_random_infinite5, jac_random_infinite5, dataset_sines_infinite.get_test_batch, dataset_sines_infinite.error_fn, K=K, L=100, n_tasks=1000, data_noise=0.05, maddox_noise=0.05, current_mean=output_random_infinite5[\"trained_mean\"])\n",
    "        mse_random_finite5 = test.test_error_one_kernel(subkey_1, kernel_random_finite5, kernel_self_random_finite5, jac_random_finite5, dataset_sines_infinite.get_test_batch, dataset_sines_infinite.error_fn, K=K, L=100, n_tasks=1000, data_noise=0.05, maddox_noise=0.05, current_mean=output_random_finite5[\"trained_mean\"])\n",
    "\n",
    "        mses_fim_infinite.append(np.mean(mse_fim_infinite))\n",
    "        ci95s_fim_infinite.append(ci95(mse_fim_infinite))\n",
    "        \n",
    "        mses_fim_finite.append(np.mean(mse_fim_finite))\n",
    "        ci95s_fim_finite.append(ci95(mse_fim_finite))\n",
    "        \n",
    "        mse_random_infinite_all = np.concatenate( (mse_random_infinite, mse_random_infinite2, mse_random_infinite3, mse_random_infinite4, mse_random_infinite5) )\n",
    "        mses_random_infinite.append(np.mean(mse_random_infinite_all))\n",
    "        ci95s_random_infinite.append(ci95(mse_random_infinite_all))\n",
    "        \n",
    "        mse_random_finite_all = np.concatenate( (mse_random_finite, mse_random_finite2, mse_random_finite3, mse_random_finite4, mse_random_finite5) )\n",
    "        mses_random_finite.append(np.mean(mse_random_finite_all))\n",
    "        ci95s_random_finite.append(ci95(mse_random_finite_all))\n",
    "        \n",
    "        mses_identity_infinite.append(np.mean(mse_identity_infinite))\n",
    "        ci95s_identity_infinite.append(ci95(mse_identity_infinite))\n",
    "        \n",
    "        mses_identity_finite.append(np.mean(mse_identity_finite))\n",
    "        ci95s_identity_finite.append(ci95(mse_identity_finite))\n",
    "\n",
    "    return Ks, np.array(mses_fim_infinite), np.array(ci95s_fim_infinite), np.array(mses_fim_finite), np.array(ci95s_fim_finite), np.array(mses_random_infinite), np.array(ci95s_random_infinite), np.array(mses_random_finite), np.array(ci95s_random_finite), np.array(mses_identity_infinite), np.array(ci95s_identity_infinite), np.array(mses_identity_finite), np.array(ci95s_identity_finite),"
   ]
  },
  {
   "cell_type": "code",
   "execution_count": 39,
   "id": "8929e972",
   "metadata": {
    "scrolled": true
   },
   "outputs": [
    {
     "name": "stdout",
     "output_type": "stream",
     "text": [
      "Computation for K=1\n"
     ]
    }
   ],
   "source": [
    "Ks, mses_fim_infinite, ci95s_fim_infinite, mses_fim_finite, ci95s_fim_finite, mses_random_infinite, ci95s_random_infinite, mses_random_finite, ci95s_random_finite, mses_identity_infinite, ci95s_identity_infinite, mses_identity_finite, ci95s_identity_finite = mse_f_K(key, 1, 11)"
   ]
  },
  {
   "cell_type": "markdown",
   "id": "4e59c912",
   "metadata": {},
   "source": [
    "### Executing MAML"
   ]
  },
  {
   "cell_type": "code",
   "execution_count": 40,
   "id": "fa7df92c",
   "metadata": {},
   "outputs": [],
   "source": [
    "model = models.small_network(40, \"relu\", 1)\n",
    "\n",
    "def apply_fn(params, inputs):\n",
    "    return model.apply({\"params\": params}, inputs)\n",
    "\n",
    "key, key_init0, key_init1 = random.split(key, 3)\n",
    "batch = dataset_sines_infinite.get_test_batch(key, 10, 10, 10, 0.05)\n",
    "init_vars = model.init(key_init1, batch[0][0])"
   ]
  },
  {
   "cell_type": "code",
   "execution_count": 41,
   "id": "78bb3d04",
   "metadata": {},
   "outputs": [],
   "source": [
    "def error_fn(predictions, gt):\n",
    "    return np.mean( (predictions - gt)**2 )\n",
    "\n",
    "def inner_loss(current_params, x_a, y_a, apply_fn):\n",
    "    predictions = apply_fn(current_params, x_a)\n",
    "    \n",
    "    return error_fn(predictions, y_a)\n",
    "\n",
    "def inner_updates(current_params, x_a, y_a, n_updates, inner_lr, apply_fn):\n",
    "    def f(parameters, x):\n",
    "        inner_gradients = grad(inner_loss)(parameters, x_a, y_a, apply_fn)\n",
    "        parameters = tree_map(partial(gd_step0, inner_lr), parameters, inner_gradients)\n",
    "        \n",
    "        return parameters, None\n",
    "    \n",
    "    updated_params, _ = scan(f, current_params, None, n_updates)\n",
    "    \n",
    "    return updated_params\n",
    "\n",
    "def gd_step0(inner_lr, param_value, param_grad):\n",
    "    return param_value - inner_lr * param_grad"
   ]
  },
  {
   "cell_type": "code",
   "execution_count": 45,
   "id": "a7037164",
   "metadata": {},
   "outputs": [],
   "source": [
    "def test_maml(key, apply_fn, params, n_updates_test, inner_lr, n_test_tasks, K, L, noise, error_fn):\n",
    "    x_a, y_a, x_b, y_b = dataset_sines_infinite.get_test_batch(key, n_test_tasks, K, L, noise)\n",
    "    \n",
    "    def f(carry, task):\n",
    "        x_a, y_a, x_b, y_b = task\n",
    "        \n",
    "        updated_params = inner_updates(params, x_a, y_a, n_updates_test, inner_lr, apply_fn)\n",
    "        predictions = apply_fn(updated_params, x_b)\n",
    "        \n",
    "        return None, error_fn(predictions, y_b)\n",
    "    \n",
    "    _, errors = scan(f, None, (x_a, y_a, x_b, y_b))\n",
    "    return errors"
   ]
  },
  {
   "cell_type": "code",
   "execution_count": 46,
   "id": "e68bcab3",
   "metadata": {},
   "outputs": [],
   "source": [
    "config = output_maml_infinite[\"config\"]\n",
    "\n",
    "def mse_maml_f_K(key, min_K, max_K):\n",
    "    Ks = range(min_K, max_K)\n",
    "    mses_maml_infinite = []\n",
    "    ci95s_maml_infinite = []\n",
    "    mses_maml_finite = []\n",
    "    ci95s_maml_finite = []\n",
    "    \n",
    "    for K in Ks:\n",
    "        print(f\"Computation for K={K}\")\n",
    "        key, subkey_1 = random.split(key)\n",
    "        errors_infinite = test_maml(subkey_1, apply_fn, output_maml_infinite[\"trained_params\"], config[\"n_updates_test\"], config[\"inner_lr\"], 1000, K, 100, 0.05, error_fn)\n",
    "        errors_finite = test_maml(subkey_1, apply_fn, output_maml_finite[\"trained_params\"], config[\"n_updates_test\"], config[\"inner_lr\"], 1000, K, 100, 0.05, error_fn)\n",
    "\n",
    "        mses_maml_infinite.append(np.mean(errors_infinite))\n",
    "        ci95s_maml_infinite.append(ci95(errors_infinite))\n",
    "        mses_maml_finite.append(np.mean(errors_finite))\n",
    "        ci95s_maml_finite.append(ci95(errors_finite))\n",
    "\n",
    "    return Ks, np.array(mses_maml_infinite), np.array(ci95s_maml_infinite), np.array(mses_maml_finite), np.array(ci95s_maml_finite)"
   ]
  },
  {
   "cell_type": "code",
   "execution_count": 47,
   "id": "7e1afc04",
   "metadata": {},
   "outputs": [
    {
     "name": "stdout",
     "output_type": "stream",
     "text": [
      "Computation for K=1\n"
     ]
    }
   ],
   "source": [
    "key, subkey = random.split(key)\n",
    "Ks, mses_maml_infinite, ci95s_maml_infinite, mses_maml_finite, ci95s_maml_finite = mse_maml_f_K(key, 1, 11)"
   ]
  },
  {
   "cell_type": "markdown",
   "id": "2c64905e",
   "metadata": {},
   "source": [
    "### Plotting"
   ]
  },
  {
   "cell_type": "code",
   "execution_count": 52,
   "id": "3891534d",
   "metadata": {},
   "outputs": [
    {
     "data": {
      "image/png": "[encoded data removed]",
      "text/plain": [
       "<Figure size 432x288 with 1 Axes>"
      ]
     },
     "metadata": {
      "needs_background": "light"
     },
     "output_type": "display_data"
    }
   ],
   "source": [
    "plt.plot(Ks, mses_fim_infinite, \"--\", color=\"tab:blue\", label=\"UNLIMTD-F (infinite)\")\n",
    "plt.fill_between(Ks, mses_fim_infinite - ci95s_fim_infinite, mses_fim_infinite + ci95s_fim_infinite, color='tab:blue', alpha=0.2)\n",
    "plt.plot(Ks, mses_fim_finite, \"royalblue\", label=\"UNLIMTD-F (finite)\")\n",
    "plt.fill_between(Ks, mses_fim_finite - ci95s_fim_finite, mses_fim_finite + ci95s_fim_finite, color='royalblue', alpha=0.2)\n",
    "\n",
    "plt.plot(Ks, mses_random_infinite, \"--\", color=\"tab:orange\", label=\"UNLIMTD-R (infinite)\")\n",
    "plt.fill_between(Ks, mses_random_infinite - ci95s_random_infinite, mses_random_infinite + ci95s_random_infinite, color='tab:orange', alpha=0.2)\n",
    "plt.plot(Ks, mses_random_finite, \"chocolate\", label=\"UNLIMTD-R (finite)\")\n",
    "plt.fill_between(Ks, mses_random_finite - ci95s_random_finite, mses_random_finite + ci95s_random_finite, color='chocolate', alpha=0.2)\n",
    "\n",
    "plt.plot(Ks, mses_identity_infinite, \"--\", color=\"tab:purple\", label=\"UNLIMTD-I (infinite)\")\n",
    "plt.fill_between(Ks, mses_identity_infinite - ci95s_identity_infinite, mses_identity_infinite + ci95s_identity_infinite, color='tab:purple', alpha=0.3)\n",
    "plt.plot(Ks, mses_identity_finite, \"purple\", label=\"UNLIMTD-I (finite)\")\n",
    "plt.fill_between(Ks, mses_identity_finite - ci95s_identity_finite, mses_identity_finite + ci95s_identity_finite, color='purple', alpha=0.2)\n",
    "\n",
    "plt.plot(Ks[1:], mses_maml_infinite[1:], \"k--\", label=\"MAML (infinite)\")\n",
    "plt.fill_between(Ks[1:], mses_maml_infinite[1:] - ci95s_maml_infinite[1:], mses_maml_infinite[1:] + ci95s_maml_infinite[1:], color='k', alpha=0.2)\n",
    "plt.plot(Ks, mses_maml_finite, \"k\", label=\"MAML (finite)\")\n",
    "plt.fill_between(Ks, mses_maml_finite - ci95s_maml_finite, mses_maml_finite + ci95s_maml_finite, color='k', alpha=0.2)\n",
    "\n",
    "plt.gca().set_ylim([0, 0.5])\n",
    "plt.gca().set_xlabel(\"$K$\")\n",
    "plt.gca().set_ylabel(\"MSE\")\n",
    "plt.legend()\n",
    "plt.savefig(\"plots/single_mse.pdf\", bbox_inches='tight')"
   ]
  },
  {
   "cell_type": "code",
   "execution_count": null,
   "id": "8b1f24f7",
   "metadata": {},
   "outputs": [],
   "source": []
  }
 ],
 "metadata": {
  "kernelspec": {
   "display_name": "Python 3 (ipykernel)",
   "language": "python",
   "name": "python3"
  },
  "language_info": {
   "codemirror_mode": {
    "name": "ipython",
    "version": 3
   },
   "file_extension": ".py",
   "mimetype": "text/x-python",
   "name": "python",
   "nbconvert_exporter": "python",
   "pygments_lexer": "ipython3",
   "version": "3.8.13"
  },
  "latex_envs": {
   "LaTeX_envs_menu_present": true,
   "autoclose": false,
   "autocomplete": true,
   "bibliofile": "biblio.bib",
   "cite_by": "apalike",
   "current_citInitial": 1,
   "eqLabelWithNumbers": true,
   "eqNumInitial": 1,
   "hotkeys": {
    "equation": "Ctrl-E",
    "itemize": "Ctrl-I"
   },
   "labels_anchors": false,
   "latex_user_defs": false,
   "report_style_numbering": false,
   "user_envs_cfg": false
  },
  "toc": {
   "base_numbering": 1,
   "nav_menu": {},
   "number_sections": true,
   "sideBar": true,
   "skip_h1_title": false,
   "title_cell": "Table of Contents",
   "title_sidebar": "Contents",
   "toc_cell": false,
   "toc_position": {},
   "toc_section_display": true,
   "toc_window_display": false
  }
 },
 "nbformat": 4,
 "nbformat_minor": 5
}
