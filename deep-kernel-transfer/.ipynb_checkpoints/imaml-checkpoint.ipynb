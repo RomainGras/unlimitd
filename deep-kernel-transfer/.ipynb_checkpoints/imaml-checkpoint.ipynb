{
 "cells": [
  {
   "cell_type": "code",
   "execution_count": 8,
   "id": "95152024-4f8e-4a94-9312-0468593612e1",
   "metadata": {},
   "outputs": [
    {
     "name": "stdout",
     "output_type": "stream",
     "text": [
      "This is iMAML, with 100 epochs, and kernel rbf\n"
     ]
    }
   ],
   "source": [
    "import torch\n",
    "import torch.nn as nn\n",
    "import torch.optim as optim\n",
    "import configs\n",
    "from data.qmul_loader import get_batch, train_people, test_people\n",
    "from io_utils import parse_args_regression, get_resume_file\n",
    "from methods.maml import MAML\n",
    "from projection import create_random_projection_matrix, proj_sketch\n",
    "import backbone\n",
    "import os\n",
    "import numpy as np\n",
    "            \n",
    "class parameters():\n",
    "    def __init__(self):\n",
    "        self.seed = 0\n",
    "        self.model = \"Conv3\"\n",
    "        self.method = \"iMAML\"\n",
    "        self.dataset = \"QMUL\"\n",
    "        self.start_epoch = 0\n",
    "        self.stop_epoch = 100\n",
    "        \n",
    "params = parameters()\n",
    "\n",
    "np.random.seed(params.seed)\n",
    "torch.manual_seed(params.seed)\n",
    "torch.backends.cudnn.deterministic = True\n",
    "torch.backends.cudnn.benchmark = False\n",
    "\n",
    "params.checkpoint_dir = '%scheckpoints/%s/' % (configs.save_dir, params.dataset)\n",
    "if not os.path.isdir(params.checkpoint_dir):\n",
    "    os.makedirs(params.checkpoint_dir)\n",
    "params.checkpoint_dir = '%scheckpoints/%s/%s_%s' % (configs.save_dir, params.dataset, params.model, params.method)\n",
    "\n",
    "bb               = backbone.Conv3().cuda()\n",
    "simple_net       = backbone.simple_net().cuda()\n",
    "simple_net_multi = backbone.simple_net_multi_output().cuda()\n",
    "\n",
    "combined_network       = backbone.CombinedNetwork(bb, simple_net).cuda()\n",
    "combined_network_multi = backbone.CombinedNetwork(bb, simple_net_multi).cuda()\n",
    "\n",
    "print(f\"This is {params.method}, with {params.stop_epoch} epochs\")"
   ]
  },
  {
   "cell_type": "code",
   "execution_count": 4,
   "id": "11dbe0f0-2259-422e-936a-1c80d9904545",
   "metadata": {},
   "outputs": [
    {
     "ename": "NameError",
     "evalue": "name 'bb' is not defined",
     "output_type": "error",
     "traceback": [
      "\u001b[0;31m---------------------------------------------------------------------------\u001b[0m",
      "\u001b[0;31mNameError\u001b[0m                                 Traceback (most recent call last)",
      "Cell \u001b[0;32mIn[4], line 5\u001b[0m\n\u001b[1;32m      3\u001b[0m backbone\u001b[38;5;241m.\u001b[39mBottleneckBlock\u001b[38;5;241m.\u001b[39mmaml \u001b[38;5;241m=\u001b[39m \u001b[38;5;28;01mTrue\u001b[39;00m\n\u001b[1;32m      4\u001b[0m backbone\u001b[38;5;241m.\u001b[39mResNet\u001b[38;5;241m.\u001b[39mmaml \u001b[38;5;241m=\u001b[39m \u001b[38;5;28;01mTrue\u001b[39;00m\n\u001b[0;32m----> 5\u001b[0m combined_network       \u001b[38;5;241m=\u001b[39m backbone\u001b[38;5;241m.\u001b[39mCombinedNetwork(\u001b[43mbb\u001b[49m, simple_net)\u001b[38;5;241m.\u001b[39mcuda()\n\u001b[1;32m      6\u001b[0m model \u001b[38;5;241m=\u001b[39m MAML(combined_network, n_support\u001b[38;5;241m=\u001b[39m\u001b[38;5;241m9\u001b[39m, approx\u001b[38;5;241m=\u001b[39m(params\u001b[38;5;241m.\u001b[39mmethod \u001b[38;5;241m==\u001b[39m \u001b[38;5;124m'\u001b[39m\u001b[38;5;124mmaml_approx\u001b[39m\u001b[38;5;124m'\u001b[39m), problem \u001b[38;5;241m=\u001b[39m \u001b[38;5;124m\"\u001b[39m\u001b[38;5;124mregression\u001b[39m\u001b[38;5;124m\"\u001b[39m)\u001b[38;5;241m.\u001b[39mcuda()\n\u001b[1;32m      7\u001b[0m optimizer \u001b[38;5;241m=\u001b[39m torch\u001b[38;5;241m.\u001b[39moptim\u001b[38;5;241m.\u001b[39mAdam([{\u001b[38;5;124m'\u001b[39m\u001b[38;5;124mparams\u001b[39m\u001b[38;5;124m'\u001b[39m: bb\u001b[38;5;241m.\u001b[39mparameters(), \u001b[38;5;124m'\u001b[39m\u001b[38;5;124mlr\u001b[39m\u001b[38;5;124m'\u001b[39m: \u001b[38;5;241m0.001\u001b[39m}])\n",
      "\u001b[0;31mNameError\u001b[0m: name 'bb' is not defined"
     ]
    }
   ],
   "source": [
    "backbone.ConvBlock.maml = True\n",
    "backbone.SimpleBlock.maml = True\n",
    "backbone.BottleneckBlock.maml = True\n",
    "backbone.ResNet.maml = True\n",
    "combined_network       = backbone.CombinedNetwork(bb, simple_net).cuda()\n",
    "model = MAML(combined_network, n_support=9, approx=(params.method == 'maml_approx'), problem = \"regression\").cuda()\n",
    "optimizer = torch.optim.Adam([{'params': bb.parameters(), 'lr': 0.001}])\n",
    "for epoch in range(params.stop_epoch):\n",
    "    model.train_loop_regression(epoch, optimizer, nb_batch_of_batches = 16)"
   ]
  },
  {
   "cell_type": "code",
   "execution_count": null,
   "id": "13777161-e750-41ab-a417-fa269ebcba9e",
   "metadata": {},
   "outputs": [],
   "source": []
  }
 ],
 "metadata": {
  "kernelspec": {
   "display_name": "Python 3 (ipykernel)",
   "language": "python",
   "name": "python3"
  },
  "language_info": {
   "codemirror_mode": {
    "name": "ipython",
    "version": 3
   },
   "file_extension": ".py",
   "mimetype": "text/x-python",
   "name": "python",
   "nbconvert_exporter": "python",
   "pygments_lexer": "ipython3",
   "version": "3.9.16"
  }
 },
 "nbformat": 4,
 "nbformat_minor": 5
}
