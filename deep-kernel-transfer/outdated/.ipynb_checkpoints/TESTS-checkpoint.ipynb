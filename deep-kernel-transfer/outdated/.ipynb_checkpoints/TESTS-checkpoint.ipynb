{
 "cells": [
  {
   "cell_type": "markdown",
   "id": "85ed7563-0c32-4432-b885-d4b4ddf6ebf4",
   "metadata": {},
   "source": [
    "# TESTS"
   ]
  },
  {
   "cell_type": "markdown",
   "id": "11c6c976-ca90-4d7d-b3a5-e087fd05282c",
   "metadata": {},
   "source": [
    "## Spectral  Mixture Regression"
   ]
  },
  {
   "cell_type": "code",
   "execution_count": 1,
   "id": "d515ee7d-eb32-4f4a-a430-0793a2bcc4f3",
   "metadata": {},
   "outputs": [],
   "source": [
    "import math\n",
    "import torch\n",
    "import gpytorch\n",
    "from matplotlib import pyplot as plt\n",
    "\n",
    "%matplotlib inline\n",
    "%load_ext autoreload\n",
    "%autoreload 2"
   ]
  },
  {
   "cell_type": "code",
   "execution_count": 2,
   "id": "106d95a6-ea3a-497b-baef-84bfd7a3f709",
   "metadata": {},
   "outputs": [],
   "source": [
    "train_x = torch.linspace(0, 1, 15)\n",
    "train_y = torch.sin(train_x * (2 * math.pi))"
   ]
  },
  {
   "cell_type": "code",
   "execution_count": 3,
   "id": "5c5d858b-b7da-4b99-ad26-38e770bb79db",
   "metadata": {},
   "outputs": [],
   "source": [
    "class SpectralMixtureGPModel(gpytorch.models.ExactGP):\n",
    "    def __init__(self, train_x, train_y, likelihood):\n",
    "        super(SpectralMixtureGPModel, self).__init__(train_x, train_y, likelihood)\n",
    "        self.mean_module = gpytorch.means.ConstantMean()\n",
    "        self.covar_module = gpytorch.kernels.SpectralMixtureKernel(num_mixtures=4)\n",
    "        self.covar_module.initialize_from_data(train_x, train_y)\n",
    "\n",
    "    def forward(self,x):\n",
    "        mean_x = self.mean_module(x)\n",
    "        covar_x = self.covar_module(x)\n",
    "        return gpytorch.distributions.MultivariateNormal(mean_x, covar_x)\n",
    "\n",
    "\n",
    "likelihood = gpytorch.likelihoods.GaussianLikelihood()\n",
    "model = SpectralMixtureGPModel(train_x, train_y, likelihood)"
   ]
  },
  {
   "cell_type": "code",
   "execution_count": 4,
   "id": "1478fa42-d355-49ba-b205-387907b03b71",
   "metadata": {},
   "outputs": [
    {
     "name": "stdout",
     "output_type": "stream",
     "text": [
      "Iter 1/100 - Loss: 1.287\n",
      "Iter 2/100 - Loss: 1.259\n",
      "Iter 3/100 - Loss: 1.223\n",
      "Iter 4/100 - Loss: 1.193\n",
      "Iter 5/100 - Loss: 1.162\n",
      "Iter 6/100 - Loss: 1.130\n",
      "Iter 7/100 - Loss: 1.099\n",
      "Iter 8/100 - Loss: 1.071\n",
      "Iter 9/100 - Loss: 1.045\n",
      "Iter 10/100 - Loss: 1.019\n",
      "Iter 11/100 - Loss: 0.994\n",
      "Iter 12/100 - Loss: 0.971\n",
      "Iter 13/100 - Loss: 0.950\n",
      "Iter 14/100 - Loss: 0.927\n",
      "Iter 15/100 - Loss: 0.903\n",
      "Iter 16/100 - Loss: 0.877\n",
      "Iter 17/100 - Loss: 0.848\n",
      "Iter 18/100 - Loss: 0.816\n",
      "Iter 19/100 - Loss: 0.780\n",
      "Iter 20/100 - Loss: 0.741\n",
      "Iter 21/100 - Loss: 0.698\n",
      "Iter 22/100 - Loss: 0.653\n",
      "Iter 23/100 - Loss: 0.606\n",
      "Iter 24/100 - Loss: 0.557\n",
      "Iter 25/100 - Loss: 0.508\n",
      "Iter 26/100 - Loss: 0.458\n",
      "Iter 27/100 - Loss: 0.408\n",
      "Iter 28/100 - Loss: 0.359\n",
      "Iter 29/100 - Loss: 0.311\n",
      "Iter 30/100 - Loss: 0.263\n",
      "Iter 31/100 - Loss: 0.218\n",
      "Iter 32/100 - Loss: 0.176\n",
      "Iter 33/100 - Loss: 0.136\n",
      "Iter 34/100 - Loss: 0.098\n",
      "Iter 35/100 - Loss: 0.059\n",
      "Iter 36/100 - Loss: 0.017\n",
      "Iter 37/100 - Loss: -0.029\n",
      "Iter 38/100 - Loss: -0.077\n",
      "Iter 39/100 - Loss: -0.123\n",
      "Iter 40/100 - Loss: -0.166\n",
      "Iter 41/100 - Loss: -0.208\n",
      "Iter 42/100 - Loss: -0.251\n",
      "Iter 43/100 - Loss: -0.297\n",
      "Iter 44/100 - Loss: -0.346\n",
      "Iter 45/100 - Loss: -0.398\n",
      "Iter 46/100 - Loss: -0.454\n",
      "Iter 47/100 - Loss: -0.513\n",
      "Iter 48/100 - Loss: -0.573\n",
      "Iter 49/100 - Loss: -0.634\n",
      "Iter 50/100 - Loss: -0.696\n",
      "Iter 51/100 - Loss: -0.757\n",
      "Iter 52/100 - Loss: -0.819\n",
      "Iter 53/100 - Loss: -0.879\n",
      "Iter 54/100 - Loss: -0.940\n",
      "Iter 55/100 - Loss: -1.001\n",
      "Iter 56/100 - Loss: -1.061\n",
      "Iter 57/100 - Loss: -1.120\n",
      "Iter 58/100 - Loss: -1.181\n",
      "Iter 59/100 - Loss: -1.239\n",
      "Iter 60/100 - Loss: -1.301\n",
      "Iter 61/100 - Loss: -1.362\n",
      "Iter 62/100 - Loss: -1.414\n",
      "Iter 63/100 - Loss: -1.455\n",
      "Iter 64/100 - Loss: -1.556\n",
      "Iter 65/100 - Loss: -1.576\n",
      "Iter 66/100 - Loss: -1.537\n",
      "Iter 67/100 - Loss: -1.712\n",
      "Iter 68/100 - Loss: -1.690\n",
      "Iter 69/100 - Loss: -1.759\n",
      "Iter 70/100 - Loss: -1.826\n",
      "Iter 71/100 - Loss: -1.866\n",
      "Iter 72/100 - Loss: -1.905\n",
      "Iter 73/100 - Loss: -1.974\n",
      "Iter 74/100 - Loss: -1.970\n",
      "Iter 75/100 - Loss: -2.065\n",
      "Iter 76/100 - Loss: -2.043\n",
      "Iter 77/100 - Loss: -2.118\n",
      "Iter 78/100 - Loss: -2.185\n",
      "Iter 79/100 - Loss: -2.088\n",
      "Iter 80/100 - Loss: -2.048\n",
      "Iter 81/100 - Loss: -2.261\n",
      "Iter 82/100 - Loss: -2.238\n",
      "Iter 83/100 - Loss: -2.252\n",
      "Iter 84/100 - Loss: -2.325\n",
      "Iter 85/100 - Loss: -2.302\n",
      "Iter 86/100 - Loss: -2.380\n",
      "Iter 87/100 - Loss: -2.351\n",
      "Iter 88/100 - Loss: -2.436\n",
      "Iter 89/100 - Loss: -2.383\n",
      "Iter 90/100 - Loss: -2.463\n",
      "Iter 91/100 - Loss: -2.493\n",
      "Iter 92/100 - Loss: -2.373\n",
      "Iter 93/100 - Loss: -2.083\n",
      "Iter 94/100 - Loss: -2.268\n",
      "Iter 95/100 - Loss: -2.497\n",
      "Iter 96/100 - Loss: -2.442\n",
      "Iter 97/100 - Loss: -2.413\n",
      "Iter 98/100 - Loss: -2.511\n",
      "Iter 99/100 - Loss: -2.476\n",
      "Iter 100/100 - Loss: -2.470\n"
     ]
    }
   ],
   "source": [
    "# this is for running the notebook in our testing framework\n",
    "import os\n",
    "smoke_test = ('CI' in os.environ)\n",
    "training_iter = 2 if smoke_test else 100\n",
    "\n",
    "# Find optimal model hyperparameters\n",
    "model.train()\n",
    "likelihood.train()\n",
    "\n",
    "# Use the adam optimizer\n",
    "optimizer = torch.optim.Adam(model.parameters(), lr=0.1)\n",
    "\n",
    "# \"Loss\" for GPs - the marginal log likelihood\n",
    "mll = gpytorch.mlls.ExactMarginalLogLikelihood(likelihood, model)\n",
    "\n",
    "for i in range(training_iter):\n",
    "    optimizer.zero_grad()\n",
    "    output = model(train_x)\n",
    "    loss = -mll(output, train_y)\n",
    "    loss.backward()\n",
    "    print('Iter %d/%d - Loss: %.3f' % (i + 1, training_iter, loss.item()))\n",
    "    optimizer.step()"
   ]
  },
  {
   "cell_type": "code",
   "execution_count": 5,
   "id": "f7f1242b-1c43-4a44-81d8-bc100424e16f",
   "metadata": {},
   "outputs": [
    {
     "data": {
      "image/png": "[encoded data removed]",
      "text/plain": [
       "<Figure size 400x300 with 1 Axes>"
      ]
     },
     "metadata": {},
     "output_type": "display_data"
    }
   ],
   "source": [
    "# Test points every 0.1 between 0 and 5\n",
    "test_x = torch.linspace(0, 5, 51)\n",
    "\n",
    "# Get into evaluation (predictive posterior) mode\n",
    "model.eval()\n",
    "likelihood.eval()\n",
    "\n",
    "# The gpytorch.settings.fast_pred_var flag activates LOVE (for fast variances)\n",
    "# See https://arxiv.org/abs/1803.06058\n",
    "with torch.no_grad(), gpytorch.settings.fast_pred_var():\n",
    "    # Make predictions\n",
    "    observed_pred = likelihood(model(test_x))\n",
    "\n",
    "    # Initialize plot\n",
    "    f, ax = plt.subplots(1, 1, figsize=(4, 3))\n",
    "\n",
    "    # Get upper and lower confidence bounds\n",
    "    lower, upper = observed_pred.confidence_region()\n",
    "    # Plot training data as black stars\n",
    "    ax.plot(train_x.numpy(), train_y.numpy(), 'k*')\n",
    "    # Plot predictive means as blue line\n",
    "    ax.plot(test_x.numpy(), observed_pred.mean.numpy(), 'b')\n",
    "    # Shade between the lower and upper confidence bounds\n",
    "    ax.fill_between(test_x.numpy(), lower.numpy(), upper.numpy(), alpha=0.5)\n",
    "    ax.set_ylim([-3, 3])\n",
    "    ax.legend(['Observed Data', 'Mean', 'Confidence'])"
   ]
  },
  {
   "cell_type": "code",
   "execution_count": null,
   "id": "c07d3a1f-48a3-4664-8503-f371d515a993",
   "metadata": {},
   "outputs": [],
   "source": []
  }
 ],
 "metadata": {
  "kernelspec": {
   "display_name": "Python 3 (ipykernel)",
   "language": "python",
   "name": "python3"
  },
  "language_info": {
   "codemirror_mode": {
    "name": "ipython",
    "version": 3
   },
   "file_extension": ".py",
   "mimetype": "text/x-python",
   "name": "python",
   "nbconvert_exporter": "python",
   "pygments_lexer": "ipython3",
   "version": "3.9.16"
  }
 },
 "nbformat": 4,
 "nbformat_minor": 5
}
