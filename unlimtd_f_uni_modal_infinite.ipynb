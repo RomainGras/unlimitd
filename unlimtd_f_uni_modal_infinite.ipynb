{
 "cells": [
  {
   "cell_type": "markdown",
   "id": "20353673",
   "metadata": {},
   "source": [
    "## Imports"
   ]
  },
  {
   "cell_type": "code",
   "execution_count": 19,
   "id": "0ae02386",
   "metadata": {},
   "outputs": [
    {
     "name": "stdout",
     "output_type": "stream",
     "text": [
      "env: TF_FORCE_UNIFIED_MEMORY=1\n"
     ]
    }
   ],
   "source": [
    "%env TF_FORCE_UNIFIED_MEMORY=1"
   ]
  },
  {
   "cell_type": "code",
   "execution_count": 20,
   "id": "1a0a7f7e",
   "metadata": {},
   "outputs": [],
   "source": [
    "import unlimtd_f\n",
    "import time\n",
    "from jax import random\n",
    "import test\n",
    "import plots\n",
    "import ntk\n",
    "import nll\n",
    "from jax import numpy as np\n",
    "import pickle\n",
    "import models\n",
    "import utils\n",
    "from matplotlib import pyplot as plt\n",
    "import dataset_sines_infinite"
   ]
  },
  {
   "cell_type": "markdown",
   "id": "241200c9",
   "metadata": {},
   "source": [
    "## Option #1: training the network in this notebook"
   ]
  },
  {
   "cell_type": "code",
   "execution_count": 21,
   "id": "6bda2f11",
   "metadata": {},
   "outputs": [
    {
     "name": "stdout",
     "output_type": "stream",
     "text": [
      "1655235988902897757\n"
     ]
    }
   ],
   "source": [
    "seed = 1655235988902897757\n",
    "print(seed)"
   ]
  },
  {
   "cell_type": "code",
   "execution_count": 40,
   "id": "1a515661",
   "metadata": {
    "scrolled": true
   },
   "outputs": [
    {
     "name": "stdout",
     "output_type": "stream",
     "text": [
      "===============\n",
      "This is UNLIMTD-F\n",
      "For the uni-modal dataset: infinite sine dataset\n",
      "This variant of UNLIMTD-F approaches the distribution with a single GP\n",
      "===============\n",
      "Creating model\n",
      "Creating optimizers\n",
      "Starting first part of training (identity covariance)\n",
      "Starting training with:\n",
      "-n_epochs=1000\n",
      "-n_tasks=24\n",
      "-K=10\n",
      "-data_noise=0.05\n",
      "-maddox_noise=0.05\n",
      "0  | 1452.8462 (2.3618 s)\n",
      "Eval: (Array(1719.1808, dtype=float32), Array(4.926873, dtype=float32))\n",
      "10  | 914.1870 (0.0350 s)\n",
      "20  | 406.1330 (0.0341 s)\n",
      "30  | 336.9009 (0.0309 s)\n",
      "40  | 284.8087 (0.0315 s)\n",
      "50  | 84.1991 (0.0361 s)\n",
      "60  | 216.7860 (0.0313 s)\n",
      "70  | 102.9554 (0.0328 s)\n",
      "80  | 127.6422 (0.0343 s)\n",
      "90  | 137.4526 (0.0341 s)\n",
      "100  | 35.8149 (0.0308 s)\n",
      "110  | 63.5981 (0.0377 s)\n",
      "120  | 34.0029 (0.0326 s)\n",
      "130  | 29.0722 (0.0317 s)\n",
      "140  | 30.6017 (0.0345 s)\n",
      "150  | 33.1381 (0.0323 s)\n",
      "160  | 29.1669 (0.0355 s)\n",
      "170  | 27.3821 (0.0330 s)\n",
      "180  | 31.0826 (0.0293 s)\n",
      "190  | 35.5156 (0.0342 s)\n",
      "200  | 25.0848 (0.0325 s)\n",
      "210  | 39.6674 (0.0295 s)\n",
      "220  | 41.1593 (0.0397 s)\n",
      "230  | 22.0195 (0.0296 s)\n",
      "240  | 27.4280 (0.0315 s)\n",
      "250  | 31.7969 (0.0348 s)\n",
      "260  | 25.4781 (0.0349 s)\n",
      "270  | 20.3954 (0.0306 s)\n",
      "280  | 26.8131 (0.0303 s)\n",
      "290  | 20.9410 (0.0319 s)\n",
      "300  | 49.3454 (0.0320 s)\n",
      "310  | 32.9027 (0.0300 s)\n",
      "320  | 19.9323 (0.0321 s)\n",
      "330  | 46.8775 (0.0326 s)\n",
      "340  | 24.6622 (0.0301 s)\n",
      "350  | 21.8819 (0.0320 s)\n",
      "360  | 20.7863 (0.0296 s)\n",
      "370  | 25.0215 (0.0309 s)\n",
      "380  | 20.5289 (0.0316 s)\n",
      "390  | 23.9404 (0.0293 s)\n",
      "400  | 21.8243 (0.0315 s)\n",
      "410  | 22.6660 (0.0333 s)\n",
      "420  | 21.2978 (0.0383 s)\n",
      "430  | 20.6148 (0.0296 s)\n",
      "440  | 18.6916 (0.0331 s)\n",
      "450  | 17.7849 (0.0294 s)\n",
      "460  | 21.5136 (0.0325 s)\n",
      "470  | 20.3125 (0.0333 s)\n",
      "480  | 23.1582 (0.0336 s)\n",
      "490  | 19.3622 (0.0315 s)\n",
      "500  | 21.5391 (0.0301 s)\n",
      "Eval: (Array(20.289743, dtype=float32), Array(0.78621405, dtype=float32))\n",
      "510  | 18.7176 (0.0258 s)\n",
      "520  | 18.8122 (0.0347 s)\n",
      "530  | 20.0977 (0.0264 s)\n",
      "540  | 19.0961 (0.0281 s)\n",
      "550  | 19.3224 (0.0307 s)\n",
      "560  | 18.8542 (0.0299 s)\n",
      "570  | 20.3612 (0.0300 s)\n",
      "580  | 19.2270 (0.0285 s)\n",
      "590  | 20.1111 (0.0278 s)\n",
      "600  | 21.8254 (0.0269 s)\n",
      "610  | 19.4115 (0.0263 s)\n",
      "620  | 17.6788 (0.0266 s)\n",
      "630  | 16.9871 (0.0262 s)\n",
      "640  | 16.8424 (0.0281 s)\n",
      "650  | 18.6341 (0.0265 s)\n",
      "660  | 18.3156 (0.0266 s)\n",
      "670  | 20.4360 (0.0305 s)\n",
      "680  | 20.2224 (0.0262 s)\n",
      "690  | 18.1799 (0.0301 s)\n",
      "700  | 17.7949 (0.0305 s)\n",
      "710  | 17.2972 (0.0259 s)\n",
      "720  | 20.7500 (0.0315 s)\n",
      "730  | 15.7765 (0.0299 s)\n",
      "740  | 16.9163 (0.0286 s)\n",
      "750  | 17.9942 (0.0313 s)\n",
      "760  | 18.9886 (0.0293 s)\n",
      "770  | 19.0774 (0.0329 s)\n",
      "780  | 17.5688 (0.0322 s)\n",
      "790  | 19.6068 (0.0295 s)\n",
      "800  | 17.8584 (0.0304 s)\n",
      "810  | 16.2359 (0.0295 s)\n",
      "820  | 16.8537 (0.0293 s)\n",
      "830  | 17.7693 (0.0309 s)\n",
      "840  | 16.1253 (0.0320 s)\n",
      "850  | 16.6511 (0.0318 s)\n",
      "860  | 16.8703 (0.0305 s)\n",
      "870  | 16.1200 (0.0303 s)\n",
      "880  | 15.4755 (0.0301 s)\n",
      "890  | 16.2607 (0.0299 s)\n",
      "900  | 14.2391 (0.0303 s)\n",
      "910  | 15.4767 (0.0297 s)\n",
      "920  | 15.4697 (0.0319 s)\n",
      "930  | 14.9864 (0.0295 s)\n",
      "940  | 14.0818 (0.0315 s)\n",
      "950  | 14.0803 (0.0312 s)\n",
      "960  | 13.8043 (0.0294 s)\n",
      "970  | 14.2803 (0.0295 s)\n",
      "980  | 14.5451 (0.0295 s)\n",
      "990  | 13.8149 (0.0297 s)\n",
      "Completed training\n",
      "Finished first part of training\n",
      "Finding projection matrix\n",
      "Done sketching in 1.6383 s\n",
      "Found projection matrix\n",
      "Creating optimizers\n",
      "Starting training\n",
      "Starting training with:\n",
      "-n_epochs=1000\n",
      "-n_tasks=24\n",
      "-K=10\n",
      "-data_noise=0.05\n",
      "-maddox_noise=0.05\n",
      "0  | 23.1235 (1.7938 s)\n",
      "Eval: (Array(40.624336, dtype=float32), Array(5.354505, dtype=float32))\n",
      "10  | 33.7938 (0.0240 s)\n",
      "20  | 78.8084 (0.0219 s)\n",
      "30  | 35.6412 (0.0219 s)\n",
      "40  | 61.9063 (0.0196 s)\n",
      "50  | 30.6667 (0.0226 s)\n",
      "60  | 19.1882 (0.0216 s)\n",
      "70  | 47.4096 (0.0239 s)\n",
      "80  | 29.9426 (0.0229 s)\n",
      "90  | 32.5563 (0.0229 s)\n",
      "100  | 37.5773 (0.0237 s)\n",
      "110  | 29.0033 (0.0215 s)\n",
      "120  | 63.6635 (0.0245 s)\n",
      "130  | 19.0546 (0.0248 s)\n",
      "140  | 21.1522 (0.0226 s)\n",
      "150  | 27.2849 (0.0217 s)\n",
      "160  | 11.6221 (0.0215 s)\n",
      "170  | 12.0375 (0.0228 s)\n",
      "180  | 50.4680 (0.0219 s)\n",
      "190  | 21.6202 (0.0236 s)\n",
      "200  | 23.8919 (0.0226 s)\n",
      "210  | 14.7588 (0.0250 s)\n",
      "220  | 16.8874 (0.0221 s)\n",
      "230  | 16.6171 (0.0216 s)\n",
      "240  | 28.6326 (0.0242 s)\n",
      "250  | 24.2516 (0.0217 s)\n",
      "260  | 20.8899 (0.0225 s)\n",
      "270  | 32.2447 (0.0239 s)\n",
      "280  | 14.4595 (0.0230 s)\n",
      "290  | 10.6997 (0.0249 s)\n",
      "300  | 19.5169 (0.0222 s)\n",
      "310  | 19.8208 (0.0244 s)\n",
      "320  | 12.0591 (0.0218 s)\n",
      "330  | 12.5791 (0.0232 s)\n",
      "340  | 16.4907 (0.0221 s)\n",
      "350  | 32.7108 (0.0218 s)\n",
      "360  | 21.0181 (0.0240 s)\n",
      "370  | 25.8832 (0.0250 s)\n",
      "380  | 19.5952 (0.0217 s)\n",
      "390  | 19.6657 (0.0229 s)\n",
      "400  | 22.3525 (0.0240 s)\n",
      "410  | 19.8343 (0.0257 s)\n",
      "420  | 11.6693 (0.0215 s)\n",
      "430  | 10.4643 (0.0217 s)\n",
      "440  | 12.6857 (0.0217 s)\n",
      "450  | 28.1837 (0.0246 s)\n",
      "460  | 20.7830 (0.0220 s)\n",
      "470  | 14.2071 (0.0220 s)\n",
      "480  | 24.2494 (0.0223 s)\n",
      "490  | 31.5167 (0.0219 s)\n",
      "500  | 45.3631 (0.0226 s)\n",
      "Eval: (Array(35.514774, dtype=float32), Array(0.89659035, dtype=float32))\n",
      "510  | 33.5494 (0.0214 s)\n",
      "520  | 25.0277 (0.0214 s)\n",
      "530  | 26.1268 (0.0253 s)\n",
      "540  | 23.7359 (0.0216 s)\n",
      "550  | 19.1889 (0.0217 s)\n",
      "560  | 12.7926 (0.0235 s)\n",
      "570  | 31.6446 (0.0215 s)\n",
      "580  | 32.1557 (0.0216 s)\n",
      "590  | 14.8226 (0.0260 s)\n",
      "600  | 18.7880 (0.0237 s)\n",
      "610  | 30.1974 (0.0259 s)\n",
      "620  | 21.1742 (0.0236 s)\n",
      "630  | 10.1755 (0.0263 s)\n",
      "640  | 11.7336 (0.0248 s)\n",
      "650  | 12.3725 (0.0267 s)\n",
      "660  | 14.1678 (0.0266 s)\n",
      "670  | 32.5443 (0.0266 s)\n",
      "680  | 18.5283 (0.0257 s)\n",
      "690  | 15.5685 (0.0263 s)\n",
      "700  | 12.8847 (0.0264 s)\n",
      "710  | 18.8541 (0.0247 s)\n",
      "720  | 11.1460 (0.0263 s)\n",
      "730  | 25.3600 (0.0272 s)\n",
      "740  | 14.6184 (0.0266 s)\n",
      "750  | 41.0667 (0.0264 s)\n",
      "760  | 16.2092 (0.0252 s)\n",
      "770  | 22.6120 (0.0274 s)\n",
      "780  | 13.5918 (0.0222 s)\n",
      "790  | 17.1747 (0.0237 s)\n",
      "800  | 17.3284 (0.0245 s)\n",
      "810  | 15.0909 (0.0246 s)\n",
      "820  | 14.5887 (0.0255 s)\n",
      "830  | 9.7606 (0.0236 s)\n",
      "840  | 15.2450 (0.0239 s)\n",
      "850  | 30.1536 (0.0255 s)\n",
      "860  | 12.4508 (0.0252 s)\n",
      "870  | 13.0847 (0.0235 s)\n",
      "880  | 11.7053 (0.0240 s)\n",
      "890  | 11.3687 (0.0243 s)\n",
      "900  | 13.3070 (0.0262 s)\n",
      "910  | 12.2075 (0.0258 s)\n",
      "920  | 10.7377 (0.0236 s)\n",
      "930  | 12.1213 (0.0252 s)\n",
      "940  | 13.2173 (0.0212 s)\n",
      "950  | 12.1635 (0.0214 s)\n",
      "960  | 14.6477 (0.0241 s)\n",
      "970  | 13.4854 (0.0240 s)\n",
      "980  | 12.5127 (0.0246 s)\n",
      "990  | 12.5805 (0.0232 s)\n",
      "Completed training\n",
      "Finished training\n"
     ]
    }
   ],
   "source": [
    "init_params, pre_state, pre_evals, post_state, pre_losses, post_losses, post_evals = unlimtd_f.unlimtd_f_uni_modal_infinite(seed=seed,\n",
    "                                                                                     pre_n_epochs=1000,\n",
    "                                                                                     pre_n_tasks=24,\n",
    "                                                                                     pre_K=10,\n",
    "                                                                                     post_n_epochs=1000,\n",
    "                                                                                     post_n_tasks=24,\n",
    "                                                                                     post_K=10,\n",
    "                                                                                     data_noise=0.05, \n",
    "                                                                                     maddox_noise=0.05,\n",
    "                                                                                     meta_lr=0.001,\n",
    "                                                                                     subspace_dimension=10)"
   ]
  },
  {
   "cell_type": "code",
   "execution_count": 41,
   "id": "1e7760b0",
   "metadata": {},
   "outputs": [],
   "source": [
    "output = {}\n",
    "output[\"seed\"] = seed\n",
    "output[\"pre_n_epochs\"]=30000\n",
    "output[\"pre_n_tasks\"]=24\n",
    "output[\"pre_K\"]=10\n",
    "output[\"post_n_epochs\"]=30000\n",
    "output[\"post_n_tasks\"]=24\n",
    "output[\"post_K\"]=10\n",
    "output[\"data_noise\"]=0.05\n",
    "output[\"maddox_noise\"]=0.05\n",
    "output[\"meta_lr\"]=0.001\n",
    "output[\"subspace_dimension\"]=10\n",
    "output[\"pre_losses\"]=pre_losses\n",
    "output[\"post_losses\"]=post_losses\n",
    "output[\"init_params\"]=init_params\n",
    "output[\"intermediate_params\"]=pre_state.params\n",
    "output[\"trained_params\"]=post_state.params\n",
    "output[\"intermediate_mean\"]=pre_state.mean\n",
    "output[\"trained_mean\"]=post_state.mean\n",
    "output[\"intermediate_batch_stats\"]=pre_state.batch_stats\n",
    "output[\"trained_batch_stats\"]=post_state.batch_stats\n",
    "output[\"trained_scale\"]=post_state.scale\n",
    "output[\"proj\"]=post_state.proj\n",
    "output[\"pre_evals\"]=pre_evals\n",
    "output[\"post_evals\"]=post_evals"
   ]
  },
  {
   "cell_type": "code",
   "execution_count": 42,
   "id": "bfc89640",
   "metadata": {},
   "outputs": [],
   "source": [
    "with open(\"logs_final/fim_infinite.pickle\", \"wb\") as handle:\n",
    "    pickle.dump(output, handle, protocol=pickle.HIGHEST_PROTOCOL)"
   ]
  },
  {
   "cell_type": "markdown",
   "id": "275534a6",
   "metadata": {},
   "source": [
    "## Option #2: loading a previously trained network"
   ]
  },
  {
   "cell_type": "code",
   "execution_count": 43,
   "id": "26d52795",
   "metadata": {},
   "outputs": [],
   "source": [
    "with open(\"logs_final/fim_infinite.pickle\", \"rb\") as handle:\n",
    "    output = pickle.load(handle)"
   ]
  },
  {
   "cell_type": "markdown",
   "id": "54c19018",
   "metadata": {},
   "source": [
    "## Testing the trained network"
   ]
  },
  {
   "cell_type": "code",
   "execution_count": 44,
   "id": "91877054",
   "metadata": {},
   "outputs": [],
   "source": [
    "model = models.small_network(40, \"relu\", 1)\n",
    "apply_fn = utils.apply_fn_wrapper(model.apply, False)"
   ]
  },
  {
   "cell_type": "code",
   "execution_count": 45,
   "id": "78558931",
   "metadata": {},
   "outputs": [],
   "source": [
    "kernel, kernel_self, jac = ntk.get_kernel_and_jac_lowdim_cov(apply_fn, output[\"trained_params\"], output[\"trained_scale\"], output[\"trained_batch_stats\"], output[\"proj\"])"
   ]
  },
  {
   "cell_type": "code",
   "execution_count": 46,
   "id": "4f5eaf98",
   "metadata": {},
   "outputs": [],
   "source": [
    "key = random.PRNGKey(1)"
   ]
  },
  {
   "cell_type": "code",
   "execution_count": 47,
   "id": "1d23bfc4",
   "metadata": {},
   "outputs": [
    {
     "data": {
      "image/png": "[encoded data removed]",
      "text/plain": [
       "<Figure size 640x480 with 1 Axes>"
      ]
     },
     "metadata": {},
     "output_type": "display_data"
    }
   ],
   "source": [
    "key, subkey = random.split(key)\n",
    "plots.plot_notebooks(subkey, kernel, kernel_self, jac, output[\"trained_mean\"], 10, dataset_sines_infinite)"
   ]
  },
  {
   "cell_type": "code",
   "execution_count": null,
   "id": "669a3ede-6e17-491a-8c58-84d81749749f",
   "metadata": {},
   "outputs": [],
   "source": []
  }
 ],
 "metadata": {
  "kernelspec": {
   "display_name": "Python 3 (ipykernel)",
   "language": "python",
   "name": "python3"
  },
  "language_info": {
   "codemirror_mode": {
    "name": "ipython",
    "version": 3
   },
   "file_extension": ".py",
   "mimetype": "text/x-python",
   "name": "python",
   "nbconvert_exporter": "python",
   "pygments_lexer": "ipython3",
   "version": "3.10.12"
  },
  "latex_envs": {
   "LaTeX_envs_menu_present": true,
   "autoclose": false,
   "autocomplete": true,
   "bibliofile": "biblio.bib",
   "cite_by": "apalike",
   "current_citInitial": 1,
   "eqLabelWithNumbers": true,
   "eqNumInitial": 1,
   "hotkeys": {
    "equation": "Ctrl-E",
    "itemize": "Ctrl-I"
   },
   "labels_anchors": false,
   "latex_user_defs": false,
   "report_style_numbering": false,
   "user_envs_cfg": false
  },
  "toc": {
   "base_numbering": 1,
   "nav_menu": {},
   "number_sections": true,
   "sideBar": true,
   "skip_h1_title": false,
   "title_cell": "Table of Contents",
   "title_sidebar": "Contents",
   "toc_cell": false,
   "toc_position": {},
   "toc_section_display": true,
   "toc_window_display": false
  },
  "vscode": {
   "interpreter": {
    "hash": "87dee15dd5d19160a31e5ce9fa66a6098ea6ae58c7c999b60e5c6cbbacb7150d"
   }
  }
 },
 "nbformat": 4,
 "nbformat_minor": 5
}
