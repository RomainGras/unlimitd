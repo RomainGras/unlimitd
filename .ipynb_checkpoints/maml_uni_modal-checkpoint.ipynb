{
 "cells": [
  {
   "cell_type": "code",
   "execution_count": 1,
   "id": "65245462",
   "metadata": {},
   "outputs": [
    {
     "name": "stdout",
     "output_type": "stream",
     "text": [
      "env: TF_FORCE_UNIFIED_MEMORY=1\n"
     ]
    }
   ],
   "source": [
    "%env TF_FORCE_UNIFIED_MEMORY=1"
   ]
  },
  {
   "cell_type": "code",
   "execution_count": 2,
   "id": "74d4816a",
   "metadata": {},
   "outputs": [],
   "source": [
    "# sine config (from chelsea finn)\n",
    "config = {}\n",
    "config[\"n_epochs\"] = 70000\n",
    "config[\"n_tasks_per_epoch\"] = 24\n",
    "config[\"K\"] = 10\n",
    "config[\"L\"] = 10\n",
    "config[\"n_updates\"] = 5\n",
    "config[\"n_updates_test\"]= 10\n",
    "config[\"meta_lr\"] = 0.001\n",
    "config[\"inner_lr\"] = 1e-3\n",
    "config[\"data_noise\"] = 0.05 # not in cbfinn but we add it to compare to our algorithm\n",
    "config[\"n_test_tasks\"] = 100"
   ]
  },
  {
   "cell_type": "code",
   "execution_count": 3,
   "id": "38465e3b",
   "metadata": {},
   "outputs": [],
   "source": [
    "from jax import vmap\n",
    "from jax import numpy as np\n",
    "from flax import struct\n",
    "from typing import Any, Callable\n",
    "from flax import core\n",
    "import optax\n",
    "import models\n",
    "from jax import random\n",
    "import dataset_sines_finite\n",
    "from jax import value_and_grad, grad\n",
    "from functools import partial\n",
    "from jax.tree_util import tree_map\n",
    "from jax import jit\n",
    "import time\n",
    "from matplotlib import pyplot as plt\n",
    "from jax.lax import scan\n",
    "import pickle\n",
    "import dataset_sines_infinite\n",
    "import pickle"
   ]
  },
  {
   "cell_type": "markdown",
   "id": "b501dcce",
   "metadata": {},
   "source": [
    "## Inner and outer loss"
   ]
  },
  {
   "cell_type": "code",
   "execution_count": 4,
   "id": "57bfab88",
   "metadata": {},
   "outputs": [],
   "source": [
    "def error_fn(predictions, gt):\n",
    "    return np.mean( (predictions - gt)**2 )"
   ]
  },
  {
   "cell_type": "code",
   "execution_count": 5,
   "id": "367d8046",
   "metadata": {},
   "outputs": [],
   "source": [
    "def inner_loss(current_params, x_a, y_a, apply_fn):\n",
    "    predictions = apply_fn(current_params, x_a)\n",
    "    \n",
    "    return error_fn(predictions, y_a)\n",
    "\n",
    "def gd_step0(inner_lr, param_value, param_grad):\n",
    "    return param_value - inner_lr * param_grad\n",
    "\n",
    "def inner_updates(current_params, x_a, y_a, n_updates, inner_lr, apply_fn):\n",
    "    def f(parameters, x):\n",
    "        inner_gradients = grad(inner_loss)(parameters, x_a, y_a, apply_fn)\n",
    "        parameters = tree_map(partial(gd_step0, inner_lr), parameters, inner_gradients)\n",
    "        \n",
    "        return parameters, None\n",
    "    \n",
    "    updated_params, _ = scan(f, current_params, None, n_updates)\n",
    "    \n",
    "    return updated_params"
   ]
  },
  {
   "cell_type": "code",
   "execution_count": 6,
   "id": "e73df2ff",
   "metadata": {},
   "outputs": [],
   "source": [
    "def outer_loss_single_task(current_params, x_a, y_a, x_b, y_b, n_updates, inner_lr, apply_fn):\n",
    "    updated_params = inner_updates(current_params, x_a, y_a, n_updates, inner_lr, apply_fn)\n",
    "    \n",
    "    predictions = apply_fn(updated_params, x_b)\n",
    "    \n",
    "    return error_fn(predictions, y_b)\n",
    "\n",
    "def outer_loss(current_params, x_a, y_a, x_b, y_b, n_updates, inner_lr, apply_fn):\n",
    "    unaveraged_losses = vmap(partial(outer_loss_single_task, current_params=current_params, n_updates=n_updates, inner_lr=inner_lr, apply_fn=apply_fn))(x_a=x_a, y_a=y_a, x_b=x_b, y_b=y_b)\n",
    "    return np.mean(unaveraged_losses)"
   ]
  },
  {
   "cell_type": "markdown",
   "id": "398ed5a0",
   "metadata": {},
   "source": [
    "## Dataset"
   ]
  },
  {
   "cell_type": "code",
   "execution_count": 7,
   "id": "cb9e02e3",
   "metadata": {},
   "outputs": [],
   "source": [
    "# uncomment this cell to train on finite dataset\n",
    "#dataset_sines_finite.init_dataset(random.PRNGKey(0), 0.05, _n_train_tasks=10)\n",
    "#config[\"n_tasks_per_epoch\"] = 6"
   ]
  },
  {
   "cell_type": "code",
   "execution_count": 8,
   "id": "3401ab63",
   "metadata": {},
   "outputs": [],
   "source": [
    "def get_train_batch_fn(key):\n",
    "    # uncomment this line to train on infinite dataset\n",
    "    return dataset_sines_infinite.get_test_batch(key, config[\"n_tasks_per_epoch\"], config[\"K\"], config[\"L\"], config[\"data_noise\"])\n",
    "\n",
    "    # uncomment this line to train on finite dataset\n",
    "    #return sine_dataset_offset_finite.get_train_batch_as_val_batch(key, config[\"n_tasks_per_epoch\"], config[\"K\"], config[\"L\"], config[\"data_noise\"])\n",
    "    \n",
    "def get_test_batch_fn(key):\n",
    "    return dataset_sines_infinite.get_test_batch(key, config[\"n_test_tasks\"], config[\"K\"], config[\"L\"], config[\"data_noise\"])"
   ]
  },
  {
   "cell_type": "markdown",
   "id": "737f51e8",
   "metadata": {},
   "source": [
    "## State"
   ]
  },
  {
   "cell_type": "code",
   "execution_count": 9,
   "id": "584350e9",
   "metadata": {},
   "outputs": [],
   "source": [
    "class TrainStateNoProj(struct.PyTreeNode):\n",
    "    step: int\n",
    "    apply_fn: Callable = struct.field(pytree_node=False)\n",
    "    params: core.FrozenDict[str, Any]\n",
    "    tx_params: optax.GradientTransformation = struct.field(pytree_node=False)\n",
    "    opt_state_params: optax.OptState\n",
    "    inner_lr: float\n",
    "    n_updates: int\n",
    "    \n",
    "    def apply_gradients(self, *, grads_params, **kwargs):\n",
    "        \"\"\"\n",
    "        Updates both the params and the scaling matrix\n",
    "        Also requires new_batch_stats to keep track of what has been seen by the network\n",
    "        \"\"\"\n",
    "        # params part\n",
    "        updates_params, new_opt_state_params = self.tx_params.update(grads_params, self.opt_state_params, self.params)\n",
    "        new_params = optax.apply_updates(self.params, updates_params)\n",
    "\n",
    "        return self.replace(\n",
    "            step=self.step + 1,\n",
    "            params=new_params,\n",
    "            opt_state_params=new_opt_state_params,\n",
    "            **kwargs,\n",
    "        )\n",
    "\n",
    "\n",
    "    @classmethod\n",
    "    def create(cls, *, apply_fn, params, tx_params, inner_lr, n_updates, **kwargs):\n",
    "        opt_state_params = tx_params.init(params)\n",
    "        return cls(\n",
    "            step=0,\n",
    "            apply_fn=apply_fn,\n",
    "            params=params,\n",
    "            tx_params=tx_params,\n",
    "            opt_state_params=opt_state_params,\n",
    "            inner_lr = inner_lr,\n",
    "            n_updates = n_updates,\n",
    "            **kwargs,\n",
    "        )"
   ]
  },
  {
   "cell_type": "markdown",
   "id": "4c42d6d6",
   "metadata": {},
   "source": [
    "## Step"
   ]
  },
  {
   "cell_type": "code",
   "execution_count": 10,
   "id": "b337913e",
   "metadata": {},
   "outputs": [],
   "source": [
    "@partial(jit, static_argnums=(5, 6, 7))\n",
    "def get_loss_and_gradients(params, x_a, y_a, x_b, y_b, n_updates, inner_lr, apply_fn):\n",
    "    return value_and_grad(outer_loss)(params, x_a, y_a, x_b, y_b, n_updates, inner_lr, apply_fn)"
   ]
  },
  {
   "cell_type": "code",
   "execution_count": 11,
   "id": "a9cbd323",
   "metadata": {},
   "outputs": [],
   "source": [
    "def step(key, state):\n",
    "    x_a, y_a, x_b, y_b = get_train_batch_fn(key)\n",
    "    \n",
    "    loss, gradients = get_loss_and_gradients(state.params, x_a, y_a, x_b, y_b, state.n_updates, state.inner_lr, state.apply_fn)\n",
    "    \n",
    "    state = state.apply_gradients(grads_params = gradients)\n",
    "    \n",
    "    return state, loss"
   ]
  },
  {
   "cell_type": "markdown",
   "id": "17029a09",
   "metadata": {},
   "source": [
    "## Test during training"
   ]
  },
  {
   "cell_type": "code",
   "execution_count": 12,
   "id": "86bd7c3d",
   "metadata": {},
   "outputs": [],
   "source": [
    "def test_during_training(key, state):\n",
    "    x_a, y_a, x_b, y_b = get_test_batch_fn(key)\n",
    "    \n",
    "    def f(carry, task):\n",
    "        x_a, y_a, x_b, y_b = task\n",
    "        \n",
    "        updated_params = inner_updates(state.params, x_a, y_a, config[\"n_updates_test\"], state.inner_lr, state.apply_fn)\n",
    "        predictions = state.apply_fn(updated_params, x_b)\n",
    "        \n",
    "        return None, error_fn(predictions, y_b)\n",
    "    \n",
    "    _, errors = scan(f, None, (x_a, y_a, x_b, y_b))\n",
    "    return np.mean(errors)"
   ]
  },
  {
   "cell_type": "code",
   "execution_count": 13,
   "id": "3ba73c78",
   "metadata": {},
   "outputs": [
    {
     "name": "stderr",
     "output_type": "stream",
     "text": [
      "2022-08-27 14:06:45.085629: W external/org_tensorflow/tensorflow/stream_executor/platform/default/dso_loader.cc:64] Could not load dynamic library 'libcuda.so.1'; dlerror: libcuda.so.1: cannot open shared object file: No such file or directory; LD_LIBRARY_PATH: /state/partition1/llgrid/pkg/anaconda/anaconda3-2022a/pkgs/cudatoolkit-11.3.1-h2bc3f7f_2/lib\n",
      "2022-08-27 14:06:45.085662: W external/org_tensorflow/tensorflow/stream_executor/cuda/cuda_driver.cc:269] failed call to cuInit: UNKNOWN ERROR (303)\n",
      "WARNING:absl:No GPU/TPU found, falling back to CPU. (Set TF_CPP_MIN_LOG_LEVEL=0 and rerun for more info.)\n"
     ]
    }
   ],
   "source": [
    "key = random.PRNGKey(0)"
   ]
  },
  {
   "cell_type": "code",
   "execution_count": 14,
   "id": "75c08a80",
   "metadata": {},
   "outputs": [],
   "source": [
    "model = models.small_network(40, \"relu\", 1)\n",
    "\n",
    "def apply_fn(params, inputs):\n",
    "    return model.apply({\"params\": params}, inputs)\n",
    "\n",
    "key, key_init0, key_init1 = random.split(key, 3)\n",
    "batch = get_train_batch_fn(key_init0)\n",
    "init_vars = model.init(key_init1, batch[0][0])"
   ]
  },
  {
   "cell_type": "markdown",
   "id": "c4aa799f",
   "metadata": {},
   "source": [
    "## Option #1: Training"
   ]
  },
  {
   "cell_type": "code",
   "execution_count": 15,
   "id": "6ad756ca",
   "metadata": {},
   "outputs": [],
   "source": [
    "optimizer_params = optax.adam(learning_rate = config[\"meta_lr\"])"
   ]
  },
  {
   "cell_type": "code",
   "execution_count": 16,
   "id": "8ee5691d",
   "metadata": {
    "scrolled": true
   },
   "outputs": [
    {
     "name": "stdout",
     "output_type": "stream",
     "text": [
      "0 | 6.9285 (2.7906 s / epoch)\n",
      "Error: 5.742314338684082\n",
      "100 | 4.8379 (0.0285 s / epoch)\n",
      "200 | 3.2989 (0.0289 s / epoch)\n",
      "300 | 2.5574 (0.0318 s / epoch)\n",
      "400 | 3.4344 (0.0417 s / epoch)\n",
      "500 | 4.0051 (0.0222 s / epoch)\n",
      "Error: 2.867670774459839\n",
      "600 | 3.1906 (0.0230 s / epoch)\n",
      "700 | 2.8186 (0.0259 s / epoch)\n",
      "800 | 2.8602 (0.0340 s / epoch)\n",
      "900 | 2.3430 (0.0352 s / epoch)\n",
      "1000 | 2.2166 (0.0275 s / epoch)\n",
      "Error: 1.8135133981704712\n",
      "1100 | 2.2618 (0.0293 s / epoch)\n",
      "1200 | 2.0090 (0.0314 s / epoch)\n",
      "1300 | 1.8723 (0.0312 s / epoch)\n",
      "1400 | 1.5975 (0.0328 s / epoch)\n",
      "1500 | 1.3584 (0.0382 s / epoch)\n",
      "Error: 1.0798664093017578\n",
      "1600 | 0.8626 (0.0258 s / epoch)\n",
      "1700 | 1.2260 (0.0369 s / epoch)\n",
      "1800 | 0.6464 (0.0223 s / epoch)\n",
      "1900 | 0.7116 (0.0339 s / epoch)\n",
      "2000 | 0.5786 (0.0244 s / epoch)\n",
      "Error: 0.8728893995285034\n",
      "2100 | 0.9676 (0.0370 s / epoch)\n",
      "2200 | 0.6963 (0.0262 s / epoch)\n",
      "2300 | 0.6230 (0.0409 s / epoch)\n",
      "2400 | 0.6647 (0.0319 s / epoch)\n",
      "2500 | 0.6583 (0.0374 s / epoch)\n",
      "Error: 0.5990662574768066\n",
      "2600 | 0.6036 (0.0273 s / epoch)\n",
      "2700 | 0.7255 (0.0411 s / epoch)\n",
      "2800 | 0.5672 (0.0305 s / epoch)\n",
      "2900 | 0.3776 (0.0402 s / epoch)\n",
      "3000 | 0.4132 (0.0292 s / epoch)\n",
      "Error: 0.4509776830673218\n",
      "3100 | 0.7281 (0.0225 s / epoch)\n",
      "3200 | 0.2993 (0.0448 s / epoch)\n",
      "3300 | 0.6759 (0.0372 s / epoch)\n",
      "3400 | 0.3636 (0.0388 s / epoch)\n",
      "3500 | 0.4313 (0.0382 s / epoch)\n",
      "Error: 0.524134635925293\n",
      "3600 | 0.5313 (0.0251 s / epoch)\n",
      "3700 | 0.4552 (0.0321 s / epoch)\n",
      "3800 | 0.5812 (0.0306 s / epoch)\n",
      "3900 | 0.5788 (0.0251 s / epoch)\n",
      "4000 | 0.3653 (0.0389 s / epoch)\n",
      "Error: 0.39830413460731506\n",
      "4100 | 0.3822 (0.0319 s / epoch)\n",
      "4200 | 0.3260 (0.0408 s / epoch)\n",
      "4300 | 0.4364 (0.0304 s / epoch)\n",
      "4400 | 0.6231 (0.0233 s / epoch)\n",
      "4500 | 0.4446 (0.0258 s / epoch)\n",
      "Error: 0.3106500506401062\n",
      "4600 | 0.5084 (0.0289 s / epoch)\n",
      "4700 | 0.4967 (0.0523 s / epoch)\n",
      "4800 | 0.7953 (0.0370 s / epoch)\n",
      "4900 | 0.5721 (0.0398 s / epoch)\n",
      "5000 | 0.3956 (0.0424 s / epoch)\n",
      "Error: 0.3179621398448944\n",
      "5100 | 0.3476 (0.0369 s / epoch)\n",
      "5200 | 0.4843 (0.0285 s / epoch)\n",
      "5300 | 0.5307 (0.0289 s / epoch)\n",
      "5400 | 0.4157 (0.0404 s / epoch)\n",
      "5500 | 0.4641 (0.0411 s / epoch)\n",
      "Error: 0.2871239483356476\n",
      "5600 | 0.3660 (0.0400 s / epoch)\n",
      "5700 | 0.3932 (0.0224 s / epoch)\n",
      "5800 | 0.3259 (0.0266 s / epoch)\n",
      "5900 | 0.3159 (0.0388 s / epoch)\n",
      "6000 | 0.4614 (0.0300 s / epoch)\n",
      "Error: 0.3875267803668976\n",
      "6100 | 0.3233 (0.0278 s / epoch)\n",
      "6200 | 0.3391 (0.0380 s / epoch)\n",
      "6300 | 0.3412 (0.0383 s / epoch)\n",
      "6400 | 0.3567 (0.0367 s / epoch)\n",
      "6500 | 0.5509 (0.0353 s / epoch)\n",
      "Error: 0.22064834833145142\n",
      "6600 | 0.3316 (0.0395 s / epoch)\n",
      "6700 | 0.2780 (0.0536 s / epoch)\n",
      "6800 | 0.3772 (0.0319 s / epoch)\n",
      "6900 | 0.2979 (0.0287 s / epoch)\n",
      "7000 | 0.3877 (0.0515 s / epoch)\n",
      "Error: 0.16515380144119263\n",
      "7100 | 0.4721 (0.0332 s / epoch)\n",
      "7200 | 0.6065 (0.0272 s / epoch)\n",
      "7300 | 0.4250 (0.0268 s / epoch)\n",
      "7400 | 0.4497 (0.0394 s / epoch)\n",
      "7500 | 0.2777 (0.0315 s / epoch)\n",
      "Error: 0.30868154764175415\n",
      "7600 | 0.3170 (0.0301 s / epoch)\n",
      "7700 | 0.3917 (0.0277 s / epoch)\n",
      "7800 | 0.2139 (0.0366 s / epoch)\n",
      "7900 | 0.3680 (0.0264 s / epoch)\n",
      "8000 | 0.4038 (0.0321 s / epoch)\n",
      "Error: 0.20403549075126648\n",
      "8100 | 0.3730 (0.0409 s / epoch)\n",
      "8200 | 0.3466 (0.0394 s / epoch)\n",
      "8300 | 0.3309 (0.0332 s / epoch)\n",
      "8400 | 0.4385 (0.0256 s / epoch)\n",
      "8500 | 0.2904 (0.0376 s / epoch)\n",
      "Error: 0.2076641023159027\n",
      "8600 | 0.2493 (0.0385 s / epoch)\n",
      "8700 | 0.3808 (0.0316 s / epoch)\n",
      "8800 | 0.3332 (0.0385 s / epoch)\n",
      "8900 | 0.3588 (0.0337 s / epoch)\n",
      "9000 | 0.3035 (0.0386 s / epoch)\n",
      "Error: 0.25990116596221924\n",
      "9100 | 0.4036 (0.0404 s / epoch)\n",
      "9200 | 0.3332 (0.0325 s / epoch)\n",
      "9300 | 0.2639 (0.0281 s / epoch)\n",
      "9400 | 0.2620 (0.0221 s / epoch)\n",
      "9500 | 0.2537 (0.0436 s / epoch)\n",
      "Error: 0.28925204277038574\n",
      "9600 | 0.2911 (0.0410 s / epoch)\n",
      "9700 | 0.2643 (0.0278 s / epoch)\n",
      "9800 | 0.3705 (0.0278 s / epoch)\n",
      "9900 | 0.2719 (0.0281 s / epoch)\n",
      "10000 | 0.2476 (0.0364 s / epoch)\n",
      "Error: 0.21840129792690277\n",
      "10100 | 0.2587 (0.0403 s / epoch)\n",
      "10200 | 0.3300 (0.0404 s / epoch)\n",
      "10300 | 0.2539 (0.0318 s / epoch)\n",
      "10400 | 0.3007 (0.0369 s / epoch)\n",
      "10500 | 0.2759 (0.0337 s / epoch)\n",
      "Error: 0.20744864642620087\n",
      "10600 | 0.1914 (0.0245 s / epoch)\n",
      "10700 | 0.1910 (0.0525 s / epoch)\n",
      "10800 | 0.1655 (0.0392 s / epoch)\n",
      "10900 | 0.2745 (0.0434 s / epoch)\n",
      "11000 | 0.2386 (0.0383 s / epoch)\n",
      "Error: 0.2384577840566635\n",
      "11100 | 0.2493 (0.0288 s / epoch)\n",
      "11200 | 0.2782 (0.0306 s / epoch)\n",
      "11300 | 0.1294 (0.0464 s / epoch)\n",
      "11400 | 0.2437 (0.0268 s / epoch)\n",
      "11500 | 0.1610 (0.0409 s / epoch)\n",
      "Error: 0.17040082812309265\n",
      "11600 | 0.1634 (0.0308 s / epoch)\n"
     ]
    },
    {
     "name": "stderr",
     "output_type": "stream",
     "text": [
      "\n",
      "KeyboardInterrupt\n",
      "\n"
     ]
    }
   ],
   "source": [
    "state = TrainStateNoProj.create(apply_fn=apply_fn, params=init_vars[\"params\"], tx_params=optimizer_params, inner_lr=config[\"inner_lr\"], n_updates=config[\"n_updates\"])\n",
    "\n",
    "losses = []\n",
    "errors_test = []\n",
    "\n",
    "for epoch_index in range(config[\"n_epochs\"]):\n",
    "    t = time.time_ns()\n",
    "    key, subkey = random.split(key)\n",
    "    state, current_loss = step(subkey, state)\n",
    "    \n",
    "    if epoch_index % 100 == 0:\n",
    "        print(f\"{epoch_index} | {current_loss:.4f} ({(time.time_ns() - t) / 10**9:.4f} s / epoch)\")\n",
    "        \n",
    "    if epoch_index % 500 == 0:\n",
    "        # test time\n",
    "        key, subkey = random.split(key)\n",
    "        mse_test = test_during_training(subkey, state)\n",
    "        errors_test.append(mse_test)\n",
    "        print(f\"Error: {mse_test}\")\n",
    "    \n",
    "    losses.append(current_loss)"
   ]
  },
  {
   "cell_type": "code",
   "execution_count": 18,
   "id": "60ee4c91",
   "metadata": {},
   "outputs": [],
   "source": [
    "output = {}\n",
    "output[\"trained_params\"] = state.params\n",
    "output[\"losses\"]=losses\n",
    "output[\"errors_test\"]=errors_test\n",
    "output[\"config\"] = config"
   ]
  },
  {
   "cell_type": "code",
   "execution_count": 21,
   "id": "208d2f01",
   "metadata": {},
   "outputs": [],
   "source": [
    "with open(\"logs_final/maml_single_infinite.pickle\", \"wb\") as handle:\n",
    "    pickle.dump(output, handle, protocol=pickle.HIGHEST_PROTOCOL)"
   ]
  },
  {
   "cell_type": "markdown",
   "id": "d12811c9",
   "metadata": {},
   "source": [
    "## Option #2: Loading a previously trained network"
   ]
  },
  {
   "cell_type": "code",
   "execution_count": 15,
   "id": "0b2aa1ce",
   "metadata": {},
   "outputs": [],
   "source": [
    "with open(\"logs_final/maml_single_infinite.pickle\", \"rb\") as handle:\n",
    "    output = pickle.load(handle)"
   ]
  },
  {
   "cell_type": "code",
   "execution_count": 16,
   "id": "429e0381",
   "metadata": {},
   "outputs": [],
   "source": [
    "config = output[\"config\"]"
   ]
  },
  {
   "cell_type": "code",
   "execution_count": 28,
   "id": "1d09aeea",
   "metadata": {},
   "outputs": [],
   "source": [
    "key, subkey = random.split(key)\n",
    "x_a, y_a, x_b, y_b = get_train_batch_fn(subkey)\n",
    "updated_params = inner_updates(output[\"trained_params\"], x_a[0], y_a[0], config[\"n_updates_test\"], config[\"inner_lr\"], apply_fn)\n",
    "predictions = apply_fn(updated_params, x_b[0])"
   ]
  },
  {
   "cell_type": "code",
   "execution_count": 33,
   "id": "1df0b9d1",
   "metadata": {},
   "outputs": [
    {
     "data": {
      "text/plain": [
       "<matplotlib.legend.Legend at 0x7fd8b03fa160>"
      ]
     },
     "execution_count": 33,
     "metadata": {},
     "output_type": "execute_result"
    },
    {
     "data": {
      "image/png": "[encoded data removed]",
      "text/plain": [
       "<Figure size 432x288 with 1 Axes>"
      ]
     },
     "metadata": {
      "needs_background": "light"
     },
     "output_type": "display_data"
    }
   ],
   "source": [
    "plt.plot(x_a[0], y_a[0], \"ro\", label=\"Context\")\n",
    "plt.plot(x_b[0], y_b[0], \"rx\", label=\"Query\")\n",
    "plt.plot(x_b[0], predictions, \"+b\", label=\"Pred\")\n",
    "plt.plot(np.linspace(-5, 5, 100), apply_fn(output[\"trained_params\"], np.linspace(-5, 5, 100)[:, np.newaxis]), \"--\", label=\"Raw\", alpha=0.4)\n",
    "plt.legend()"
   ]
  }
 ],
 "metadata": {
  "kernelspec": {
   "display_name": "Python 3 (ipykernel)",
   "language": "python",
   "name": "python3"
  },
  "language_info": {
   "codemirror_mode": {
    "name": "ipython",
    "version": 3
   },
   "file_extension": ".py",
   "mimetype": "text/x-python",
   "name": "python",
   "nbconvert_exporter": "python",
   "pygments_lexer": "ipython3",
   "version": "3.8.13"
  },
  "latex_envs": {
   "LaTeX_envs_menu_present": true,
   "autoclose": false,
   "autocomplete": true,
   "bibliofile": "biblio.bib",
   "cite_by": "apalike",
   "current_citInitial": 1,
   "eqLabelWithNumbers": true,
   "eqNumInitial": 1,
   "hotkeys": {
    "equation": "Ctrl-E",
    "itemize": "Ctrl-I"
   },
   "labels_anchors": false,
   "latex_user_defs": false,
   "report_style_numbering": false,
   "user_envs_cfg": false
  },
  "toc": {
   "base_numbering": 1,
   "nav_menu": {},
   "number_sections": true,
   "sideBar": true,
   "skip_h1_title": false,
   "title_cell": "Table of Contents",
   "title_sidebar": "Contents",
   "toc_cell": false,
   "toc_position": {},
   "toc_section_display": true,
   "toc_window_display": false
  },
  "vscode": {
   "interpreter": {
    "hash": "87dee15dd5d19160a31e5ce9fa66a6098ea6ae58c7c999b60e5c6cbbacb7150d"
   }
  }
 },
 "nbformat": 4,
 "nbformat_minor": 5
}
