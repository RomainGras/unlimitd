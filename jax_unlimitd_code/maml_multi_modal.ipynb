{
 "cells": [
  {
   "cell_type": "code",
   "execution_count": 1,
   "id": "65245462",
   "metadata": {},
   "outputs": [
    {
     "name": "stdout",
     "output_type": "stream",
     "text": [
      "env: TF_FORCE_UNIFIED_MEMORY=1\n"
     ]
    }
   ],
   "source": [
    "%env TF_FORCE_UNIFIED_MEMORY=1"
   ]
  },
  {
   "cell_type": "code",
   "execution_count": 2,
   "id": "74d4816a",
   "metadata": {},
   "outputs": [],
   "source": [
    "# sine config (from chelsea finn)\n",
    "config = {}\n",
    "config[\"n_epochs\"] = 70000\n",
    "config[\"n_tasks_per_epoch\"] = 24\n",
    "config[\"K\"] = 10\n",
    "config[\"L\"] = 10\n",
    "config[\"n_updates\"] = 5\n",
    "config[\"n_updates_test\"]= 10\n",
    "config[\"meta_lr\"] = 0.001\n",
    "config[\"inner_lr\"] = 1e-3\n",
    "config[\"data_noise\"] = 0.05 # not in cbfinn but we add it to compare to our algorithm\n",
    "config[\"n_test_tasks\"] = 100"
   ]
  },
  {
   "cell_type": "code",
   "execution_count": 3,
   "id": "38465e3b",
   "metadata": {},
   "outputs": [],
   "source": [
    "from jax import vmap\n",
    "from jax import numpy as np\n",
    "from flax import struct\n",
    "from typing import Any, Callable\n",
    "from flax import core\n",
    "import optax\n",
    "import models\n",
    "from jax import random\n",
    "from jax import value_and_grad, grad\n",
    "from functools import partial\n",
    "from jax.tree_util import tree_map\n",
    "from jax import jit\n",
    "import time\n",
    "from matplotlib import pyplot as plt\n",
    "from jax.lax import scan\n",
    "import pickle\n",
    "import dataset_multi_infinite"
   ]
  },
  {
   "cell_type": "markdown",
   "id": "b501dcce",
   "metadata": {},
   "source": [
    "## Inner and outer loss"
   ]
  },
  {
   "cell_type": "code",
   "execution_count": 4,
   "id": "57bfab88",
   "metadata": {},
   "outputs": [],
   "source": [
    "def error_fn(predictions, gt):\n",
    "    return np.mean( (predictions - gt)**2 )"
   ]
  },
  {
   "cell_type": "code",
   "execution_count": 5,
   "id": "367d8046",
   "metadata": {},
   "outputs": [],
   "source": [
    "def inner_loss(current_params, x_a, y_a, apply_fn):\n",
    "    predictions = apply_fn(current_params, x_a)\n",
    "    \n",
    "    return error_fn(predictions, y_a)\n",
    "\n",
    "def gd_step0(inner_lr, param_value, param_grad):\n",
    "    return param_value - inner_lr * param_grad\n",
    "\n",
    "def inner_updates(current_params, x_a, y_a, n_updates, inner_lr, apply_fn):\n",
    "    def f(parameters, x):\n",
    "        inner_gradients = grad(inner_loss)(parameters, x_a, y_a, apply_fn)\n",
    "        parameters = tree_map(partial(gd_step0, inner_lr), parameters, inner_gradients)\n",
    "        \n",
    "        return parameters, None\n",
    "    \n",
    "    updated_params, _ = scan(f, current_params, None, n_updates)\n",
    "    \n",
    "    return updated_params"
   ]
  },
  {
   "cell_type": "code",
   "execution_count": 6,
   "id": "e73df2ff",
   "metadata": {},
   "outputs": [],
   "source": [
    "def outer_loss_single_task(current_params, x_a, y_a, x_b, y_b, n_updates, inner_lr, apply_fn):\n",
    "    updated_params = inner_updates(current_params, x_a, y_a, n_updates, inner_lr, apply_fn)\n",
    "    \n",
    "    predictions = apply_fn(updated_params, x_b)\n",
    "    \n",
    "    return error_fn(predictions, y_b)\n",
    "\n",
    "def outer_loss(current_params, x_a, y_a, x_b, y_b, n_updates, inner_lr, apply_fn):\n",
    "    unaveraged_losses = vmap(partial(outer_loss_single_task, current_params=current_params, n_updates=n_updates, inner_lr=inner_lr, apply_fn=apply_fn))(x_a=x_a, y_a=y_a, x_b=x_b, y_b=y_b)\n",
    "    return np.mean(unaveraged_losses)"
   ]
  },
  {
   "cell_type": "markdown",
   "id": "398ed5a0",
   "metadata": {},
   "source": [
    "## Dataset"
   ]
  },
  {
   "cell_type": "code",
   "execution_count": 7,
   "id": "3401ab63",
   "metadata": {},
   "outputs": [],
   "source": [
    "def get_train_batch_fn(key):\n",
    "    return dataset_multi_infinite.get_test_batch(key, config[\"n_tasks_per_epoch\"], config[\"K\"], config[\"L\"], config[\"data_noise\"])\n",
    "    \n",
    "def get_test_batch_fn(key):\n",
    "    return dataset_multi_infinite.get_test_batch(key, config[\"n_test_tasks\"], config[\"K\"], config[\"L\"], config[\"data_noise\"])"
   ]
  },
  {
   "cell_type": "markdown",
   "id": "737f51e8",
   "metadata": {},
   "source": [
    "## State"
   ]
  },
  {
   "cell_type": "code",
   "execution_count": 8,
   "id": "584350e9",
   "metadata": {},
   "outputs": [],
   "source": [
    "class TrainStateNoProj(struct.PyTreeNode):\n",
    "    step: int\n",
    "    apply_fn: Callable = struct.field(pytree_node=False)\n",
    "    params: core.FrozenDict[str, Any]\n",
    "    tx_params: optax.GradientTransformation = struct.field(pytree_node=False)\n",
    "    opt_state_params: optax.OptState\n",
    "    inner_lr: float\n",
    "    n_updates: int\n",
    "    \n",
    "    def apply_gradients(self, *, grads_params, **kwargs):\n",
    "        \"\"\"\n",
    "        Updates both the params and the scaling matrix\n",
    "        Also requires new_batch_stats to keep track of what has been seen by the network\n",
    "        \"\"\"\n",
    "        # params part\n",
    "        updates_params, new_opt_state_params = self.tx_params.update(grads_params, self.opt_state_params, self.params)\n",
    "        new_params = optax.apply_updates(self.params, updates_params)\n",
    "\n",
    "        return self.replace(\n",
    "            step=self.step + 1,\n",
    "            params=new_params,\n",
    "            opt_state_params=new_opt_state_params,\n",
    "            **kwargs,\n",
    "        )\n",
    "\n",
    "\n",
    "    @classmethod\n",
    "    def create(cls, *, apply_fn, params, tx_params, inner_lr, n_updates, **kwargs):\n",
    "        opt_state_params = tx_params.init(params)\n",
    "        return cls(\n",
    "            step=0,\n",
    "            apply_fn=apply_fn,\n",
    "            params=params,\n",
    "            tx_params=tx_params,\n",
    "            opt_state_params=opt_state_params,\n",
    "            inner_lr = inner_lr,\n",
    "            n_updates = n_updates,\n",
    "            **kwargs,\n",
    "        )"
   ]
  },
  {
   "cell_type": "markdown",
   "id": "4c42d6d6",
   "metadata": {},
   "source": [
    "## Step"
   ]
  },
  {
   "cell_type": "code",
   "execution_count": 9,
   "id": "b337913e",
   "metadata": {},
   "outputs": [],
   "source": [
    "@partial(jit, static_argnums=(5, 6, 7))\n",
    "def get_loss_and_gradients(params, x_a, y_a, x_b, y_b, n_updates, inner_lr, apply_fn):\n",
    "    return value_and_grad(outer_loss)(params, x_a, y_a, x_b, y_b, n_updates, inner_lr, apply_fn)"
   ]
  },
  {
   "cell_type": "code",
   "execution_count": 10,
   "id": "a9cbd323",
   "metadata": {},
   "outputs": [],
   "source": [
    "def step(key, state):\n",
    "    x_a, y_a, x_b, y_b = get_train_batch_fn(key)\n",
    "    \n",
    "    loss, gradients = get_loss_and_gradients(state.params, x_a, y_a, x_b, y_b, state.n_updates, state.inner_lr, state.apply_fn)\n",
    "    \n",
    "    state = state.apply_gradients(grads_params = gradients)\n",
    "    \n",
    "    return state, loss"
   ]
  },
  {
   "cell_type": "markdown",
   "id": "17029a09",
   "metadata": {},
   "source": [
    "## Test during training"
   ]
  },
  {
   "cell_type": "code",
   "execution_count": 11,
   "id": "86bd7c3d",
   "metadata": {},
   "outputs": [],
   "source": [
    "def test_during_training(key, state):\n",
    "    x_a, y_a, x_b, y_b = get_test_batch_fn(key)\n",
    "    \n",
    "    def f(carry, task):\n",
    "        x_a, y_a, x_b, y_b = task\n",
    "        \n",
    "        updated_params = inner_updates(state.params, x_a, y_a, config[\"n_updates_test\"], state.inner_lr, state.apply_fn)\n",
    "        predictions = state.apply_fn(updated_params, x_b)\n",
    "        \n",
    "        return None, error_fn(predictions, y_b)\n",
    "    \n",
    "    _, errors = scan(f, None, (x_a, y_a, x_b, y_b))\n",
    "    return np.mean(errors)"
   ]
  },
  {
   "cell_type": "code",
   "execution_count": 12,
   "id": "3ba73c78",
   "metadata": {},
   "outputs": [
    {
     "name": "stderr",
     "output_type": "stream",
     "text": [
      "2022-08-27 14:03:38.732845: W external/org_tensorflow/tensorflow/stream_executor/platform/default/dso_loader.cc:64] Could not load dynamic library 'libcuda.so.1'; dlerror: libcuda.so.1: cannot open shared object file: No such file or directory; LD_LIBRARY_PATH: /state/partition1/llgrid/pkg/anaconda/anaconda3-2022a/pkgs/cudatoolkit-11.3.1-h2bc3f7f_2/lib\n",
      "2022-08-27 14:03:38.732881: W external/org_tensorflow/tensorflow/stream_executor/cuda/cuda_driver.cc:269] failed call to cuInit: UNKNOWN ERROR (303)\n",
      "WARNING:absl:No GPU/TPU found, falling back to CPU. (Set TF_CPP_MIN_LOG_LEVEL=0 and rerun for more info.)\n"
     ]
    }
   ],
   "source": [
    "key = random.PRNGKey(0)"
   ]
  },
  {
   "cell_type": "code",
   "execution_count": 13,
   "id": "75c08a80",
   "metadata": {},
   "outputs": [],
   "source": [
    "model = models.small_network(40, \"relu\", 1)\n",
    "\n",
    "def apply_fn(params, inputs):\n",
    "    return model.apply({\"params\": params}, inputs)\n",
    "\n",
    "key, key_init0, key_init1 = random.split(key, 3)\n",
    "batch = get_train_batch_fn(key_init0)\n",
    "init_vars = model.init(key_init1, batch[0][0])"
   ]
  },
  {
   "cell_type": "markdown",
   "id": "c4aa799f",
   "metadata": {},
   "source": [
    "## Option #1: training"
   ]
  },
  {
   "cell_type": "code",
   "execution_count": 14,
   "id": "6ad756ca",
   "metadata": {},
   "outputs": [],
   "source": [
    "optimizer_params = optax.adam(learning_rate = config[\"meta_lr\"])"
   ]
  },
  {
   "cell_type": "code",
   "execution_count": 15,
   "id": "8ee5691d",
   "metadata": {
    "scrolled": true
   },
   "outputs": [
    {
     "name": "stdout",
     "output_type": "stream",
     "text": [
      "0 | 2.5701 (2.7633 s / epoch)\n",
      "Error: 3.2595062255859375\n",
      "100 | 1.2563 (0.0305 s / epoch)\n",
      "200 | 2.9994 (0.0240 s / epoch)\n",
      "300 | 2.1433 (0.0310 s / epoch)\n",
      "400 | 1.3627 (0.0388 s / epoch)\n",
      "500 | 2.2790 (0.0228 s / epoch)\n",
      "Error: 1.9137661457061768\n",
      "600 | 1.9467 (0.0203 s / epoch)\n",
      "700 | 2.1330 (0.0322 s / epoch)\n",
      "800 | 2.2484 (0.0386 s / epoch)\n",
      "900 | 2.7040 (0.0370 s / epoch)\n",
      "1000 | 1.3453 (0.0396 s / epoch)\n",
      "Error: 1.8821662664413452\n",
      "1100 | 2.0068 (0.0329 s / epoch)\n",
      "1200 | 2.1390 (0.0438 s / epoch)\n",
      "1300 | 0.9381 (0.0302 s / epoch)\n",
      "1400 | 2.0574 (0.0384 s / epoch)\n",
      "1500 | 1.0602 (0.0348 s / epoch)\n",
      "Error: 1.0699690580368042\n",
      "1600 | 1.1588 (0.0372 s / epoch)\n",
      "1700 | 0.7188 (0.0265 s / epoch)\n",
      "1800 | 1.1090 (0.0371 s / epoch)\n",
      "1900 | 0.7507 (0.0426 s / epoch)\n",
      "2000 | 0.5930 (0.0380 s / epoch)\n",
      "Error: 0.6749621629714966\n",
      "2100 | 0.9128 (0.0316 s / epoch)\n",
      "2200 | 0.5817 (0.0259 s / epoch)\n",
      "2300 | 0.6314 (0.0487 s / epoch)\n",
      "2400 | 0.8022 (0.0236 s / epoch)\n",
      "2500 | 1.3697 (0.0379 s / epoch)\n",
      "Error: 0.48777300119400024\n",
      "2600 | 0.7589 (0.0367 s / epoch)\n",
      "2700 | 0.6271 (0.0234 s / epoch)\n",
      "2800 | 0.5513 (0.0360 s / epoch)\n",
      "2900 | 0.5130 (0.0289 s / epoch)\n",
      "3000 | 0.3323 (0.0241 s / epoch)\n",
      "Error: 0.5485170483589172\n",
      "3100 | 0.7185 (0.0262 s / epoch)\n",
      "3200 | 0.6923 (0.0341 s / epoch)\n",
      "3300 | 0.2737 (0.0399 s / epoch)\n",
      "3400 | 0.5327 (0.0346 s / epoch)\n",
      "3500 | 0.6918 (0.0369 s / epoch)\n",
      "Error: 0.5713149309158325\n",
      "3600 | 0.7124 (0.0292 s / epoch)\n",
      "3700 | 0.5824 (0.0330 s / epoch)\n",
      "3800 | 0.6253 (0.0241 s / epoch)\n",
      "3900 | 0.6083 (0.0403 s / epoch)\n",
      "4000 | 0.4309 (0.0318 s / epoch)\n",
      "Error: 0.5112074017524719\n",
      "4100 | 0.5302 (0.0287 s / epoch)\n",
      "4200 | 0.4390 (0.0383 s / epoch)\n",
      "4300 | 0.4699 (0.0431 s / epoch)\n",
      "4400 | 0.2674 (0.0291 s / epoch)\n",
      "4500 | 0.5470 (0.0331 s / epoch)\n",
      "Error: 0.31648656725883484\n",
      "4600 | 0.6125 (0.0221 s / epoch)\n",
      "4700 | 0.5276 (0.0286 s / epoch)\n",
      "4800 | 0.5386 (0.0298 s / epoch)\n",
      "4900 | 0.2889 (0.0349 s / epoch)\n",
      "5000 | 0.8084 (0.0370 s / epoch)\n",
      "Error: 0.36829566955566406\n",
      "5100 | 0.4195 (0.0277 s / epoch)\n",
      "5200 | 0.7641 (0.0354 s / epoch)\n",
      "5300 | 0.4608 (0.0445 s / epoch)\n",
      "5400 | 0.3812 (0.0262 s / epoch)\n",
      "5500 | 0.5793 (0.0391 s / epoch)\n",
      "Error: 0.3548576533794403\n",
      "5600 | 0.5606 (0.0381 s / epoch)\n",
      "5700 | 0.3670 (0.0479 s / epoch)\n",
      "5800 | 0.2527 (0.0242 s / epoch)\n",
      "5900 | 0.5517 (0.0339 s / epoch)\n",
      "6000 | 0.7846 (0.0253 s / epoch)\n",
      "Error: 0.2769606411457062\n",
      "6100 | 0.6792 (0.0363 s / epoch)\n",
      "6200 | 0.6834 (0.0365 s / epoch)\n",
      "6300 | 0.6215 (0.0490 s / epoch)\n",
      "6400 | 0.5858 (0.0253 s / epoch)\n",
      "6500 | 0.7375 (0.0316 s / epoch)\n",
      "Error: 0.41574081778526306\n",
      "6600 | 0.7387 (0.0298 s / epoch)\n",
      "6700 | 0.5582 (0.0399 s / epoch)\n",
      "6800 | 0.6129 (0.0354 s / epoch)\n",
      "6900 | 0.8810 (0.0342 s / epoch)\n",
      "7000 | 0.6131 (0.0404 s / epoch)\n",
      "Error: 0.32844269275665283\n",
      "7100 | 0.2421 (0.0326 s / epoch)\n",
      "7200 | 0.7757 (0.0316 s / epoch)\n",
      "7300 | 0.6859 (0.0363 s / epoch)\n",
      "7400 | 0.6057 (0.0264 s / epoch)\n",
      "7500 | 0.5384 (0.0395 s / epoch)\n",
      "Error: 0.36531639099121094\n",
      "7600 | 0.8670 (0.0272 s / epoch)\n",
      "7700 | 0.8008 (0.0346 s / epoch)\n",
      "7800 | 0.7530 (0.0313 s / epoch)\n",
      "7900 | 0.5404 (0.0268 s / epoch)\n",
      "8000 | 0.4298 (0.0357 s / epoch)\n",
      "Error: 0.44487398862838745\n",
      "8100 | 0.4975 (0.0320 s / epoch)\n",
      "8200 | 0.3348 (0.0379 s / epoch)\n",
      "8300 | 0.2990 (0.0392 s / epoch)\n",
      "8400 | 0.2681 (0.0383 s / epoch)\n",
      "8500 | 0.6216 (0.0233 s / epoch)\n",
      "Error: 0.31822872161865234\n",
      "8600 | 0.5342 (0.0271 s / epoch)\n",
      "8700 | 0.8457 (0.0436 s / epoch)\n",
      "8800 | 0.5767 (0.0429 s / epoch)\n",
      "8900 | 0.4947 (0.0370 s / epoch)\n",
      "9000 | 0.3592 (0.0417 s / epoch)\n",
      "Error: 0.3675214350223541\n",
      "9100 | 0.4006 (0.0419 s / epoch)\n",
      "9200 | 0.3181 (0.0495 s / epoch)\n",
      "9300 | 0.6429 (0.0345 s / epoch)\n",
      "9400 | 0.3873 (0.0374 s / epoch)\n",
      "9500 | 0.4270 (0.0248 s / epoch)\n",
      "Error: 0.45445117354393005\n",
      "9600 | 0.5593 (0.0242 s / epoch)\n",
      "9700 | 0.3938 (0.0421 s / epoch)\n",
      "9800 | 0.3357 (0.0348 s / epoch)\n",
      "9900 | 0.4131 (0.0285 s / epoch)\n",
      "10000 | 0.4783 (0.0404 s / epoch)\n",
      "Error: 0.46549203991889954\n",
      "10100 | 0.3826 (0.0420 s / epoch)\n",
      "10200 | 0.3570 (0.0374 s / epoch)\n",
      "10300 | 0.6803 (0.0365 s / epoch)\n",
      "10400 | 0.3465 (0.0402 s / epoch)\n",
      "10500 | 0.4949 (0.0398 s / epoch)\n",
      "Error: 0.585740864276886\n",
      "10600 | 1.0874 (0.0398 s / epoch)\n",
      "10700 | 0.3438 (0.0379 s / epoch)\n",
      "10800 | 0.7139 (0.0402 s / epoch)\n",
      "10900 | 0.5756 (0.0397 s / epoch)\n",
      "11000 | 0.4875 (0.0428 s / epoch)\n",
      "Error: 0.3968771994113922\n",
      "11100 | 0.3731 (0.0448 s / epoch)\n",
      "11200 | 0.4094 (0.0432 s / epoch)\n",
      "11300 | 0.6054 (0.0296 s / epoch)\n",
      "11400 | 0.5576 (0.0307 s / epoch)\n",
      "11500 | 0.4078 (0.0386 s / epoch)\n",
      "Error: 0.4451444149017334\n",
      "11600 | 0.5678 (0.0437 s / epoch)\n",
      "11700 | 0.5740 (0.0307 s / epoch)\n",
      "11800 | 0.2942 (0.0377 s / epoch)\n",
      "11900 | 0.2799 (0.0414 s / epoch)\n",
      "12000 | 0.6807 (0.0466 s / epoch)\n",
      "Error: 0.4579548239707947\n",
      "12100 | 0.7542 (0.0326 s / epoch)\n",
      "12200 | 0.3932 (0.0363 s / epoch)\n",
      "12300 | 0.7168 (0.0369 s / epoch)\n",
      "12400 | 0.5664 (0.0384 s / epoch)\n",
      "12500 | 0.6101 (0.0375 s / epoch)\n",
      "Error: 0.39547473192214966\n",
      "12600 | 0.6661 (0.0330 s / epoch)\n",
      "12700 | 0.3507 (0.0396 s / epoch)\n",
      "12800 | 0.7067 (0.0346 s / epoch)\n",
      "12900 | 0.6638 (0.0379 s / epoch)\n",
      "13000 | 0.2967 (0.0371 s / epoch)\n",
      "Error: 0.23147620260715485\n",
      "13100 | 0.4766 (0.0401 s / epoch)\n",
      "13200 | 0.6014 (0.0240 s / epoch)\n",
      "13300 | 0.5215 (0.0370 s / epoch)\n",
      "13400 | 0.5118 (0.0369 s / epoch)\n",
      "13500 | 0.5611 (0.0275 s / epoch)\n",
      "Error: 0.5682196617126465\n",
      "13600 | 0.2728 (0.0375 s / epoch)\n",
      "13700 | 0.5496 (0.0276 s / epoch)\n",
      "13800 | 0.5970 (0.0390 s / epoch)\n",
      "13900 | 0.5959 (0.0381 s / epoch)\n",
      "14000 | 0.5577 (0.0388 s / epoch)\n",
      "Error: 0.41671788692474365\n",
      "14100 | 0.5099 (0.0324 s / epoch)\n",
      "14200 | 0.5055 (0.0416 s / epoch)\n",
      "14300 | 0.8173 (0.0294 s / epoch)\n",
      "14400 | 0.6071 (0.0280 s / epoch)\n",
      "14500 | 0.5859 (0.0257 s / epoch)\n",
      "Error: 0.38650912046432495\n",
      "14600 | 0.4290 (0.0430 s / epoch)\n",
      "14700 | 0.3248 (0.0328 s / epoch)\n",
      "14800 | 0.6765 (0.0271 s / epoch)\n",
      "14900 | 0.7322 (0.0285 s / epoch)\n",
      "15000 | 0.6662 (0.0291 s / epoch)\n",
      "Error: 0.42815810441970825\n",
      "15100 | 0.6660 (0.0375 s / epoch)\n",
      "15200 | 0.2878 (0.0417 s / epoch)\n",
      "15300 | 0.6060 (0.0328 s / epoch)\n",
      "15400 | 0.4159 (0.0316 s / epoch)\n",
      "15500 | 0.5749 (0.0281 s / epoch)\n",
      "Error: 0.36233964562416077\n",
      "15600 | 0.4602 (0.0245 s / epoch)\n",
      "15700 | 0.4018 (0.0239 s / epoch)\n",
      "15800 | 0.3944 (0.0322 s / epoch)\n",
      "15900 | 0.3529 (0.0520 s / epoch)\n",
      "16000 | 0.3194 (0.0414 s / epoch)\n",
      "Error: 0.3761681616306305\n",
      "16100 | 0.3667 (0.0381 s / epoch)\n",
      "16200 | 0.5561 (0.0333 s / epoch)\n",
      "16300 | 0.4523 (0.0325 s / epoch)\n",
      "16400 | 0.3890 (0.0275 s / epoch)\n",
      "16500 | 0.4527 (0.0285 s / epoch)\n"
     ]
    },
    {
     "name": "stderr",
     "output_type": "stream",
     "text": [
      "Exception ignored in: <function WeakKeyDictionary.__init__.<locals>.remove at 0x7ff09bff2040>\n",
      "Traceback (most recent call last):\n",
      "  File \"/state/partition1/llgrid/pkg/anaconda/anaconda3-2022a/lib/python3.8/weakref.py\", line 345, in remove\n",
      "    def remove(k, selfref=ref(self)):\n",
      "KeyboardInterrupt: \n",
      "\n",
      "KeyboardInterrupt\n",
      "\n"
     ]
    }
   ],
   "source": [
    "state = TrainStateNoProj.create(apply_fn=apply_fn, params=init_vars[\"params\"], tx_params=optimizer_params, inner_lr=config[\"inner_lr\"], n_updates=config[\"n_updates\"])\n",
    "\n",
    "losses = []\n",
    "errors_test = []\n",
    "\n",
    "for epoch_index in range(config[\"n_epochs\"]):\n",
    "    t = time.time_ns()\n",
    "    key, subkey = random.split(key)\n",
    "    state, current_loss = step(subkey, state)\n",
    "    \n",
    "    if epoch_index % 100 == 0:\n",
    "        print(f\"{epoch_index} | {current_loss:.4f} ({(time.time_ns() - t) / 10**9:.4f} s / epoch)\")\n",
    "        \n",
    "    if epoch_index % 500 == 0:\n",
    "        # test time\n",
    "        key, subkey = random.split(key)\n",
    "        mse_test = test_during_training(subkey, state)\n",
    "        errors_test.append(mse_test)\n",
    "        print(f\"Error: {mse_test}\")\n",
    "    \n",
    "    losses.append(current_loss)"
   ]
  },
  {
   "cell_type": "code",
   "execution_count": 20,
   "id": "60ee4c91",
   "metadata": {},
   "outputs": [],
   "source": [
    "output = {}\n",
    "output[\"trained_params\"] = state.params\n",
    "output[\"losses\"]=losses\n",
    "output[\"errors_test\"]=errors_test\n",
    "output[\"config\"] = config"
   ]
  },
  {
   "cell_type": "code",
   "execution_count": 22,
   "id": "208d2f01",
   "metadata": {},
   "outputs": [],
   "source": [
    "with open(\"logs_final/maml_mixed.pickle\", \"wb\") as handle:\n",
    "    pickle.dump(output, handle, protocol=pickle.HIGHEST_PROTOCOL)"
   ]
  },
  {
   "cell_type": "markdown",
   "id": "03f2177a",
   "metadata": {},
   "source": [
    "## Option #2: loading a previously trained network"
   ]
  },
  {
   "cell_type": "code",
   "execution_count": 20,
   "id": "0b2aa1ce",
   "metadata": {},
   "outputs": [],
   "source": [
    "with open(\"logs_final/maml_mixed.pickle\", \"rb\") as handle:\n",
    "    output = pickle.load(handle)"
   ]
  },
  {
   "cell_type": "code",
   "execution_count": 21,
   "id": "429e0381",
   "metadata": {},
   "outputs": [],
   "source": [
    "config = output[\"config\"]"
   ]
  },
  {
   "cell_type": "code",
   "execution_count": 50,
   "id": "bf7abf40",
   "metadata": {},
   "outputs": [],
   "source": [
    "# Write i=0 to test the prediction on a sine; write i=-1 to test on a line\n",
    "i = 0"
   ]
  },
  {
   "cell_type": "code",
   "execution_count": 51,
   "id": "1d09aeea",
   "metadata": {},
   "outputs": [],
   "source": [
    "key, subkey = random.split(key)\n",
    "x_a, y_a, x_b, y_b = get_train_batch_fn(subkey)\n",
    "updated_params = inner_updates(output[\"trained_params\"], x_a[i], y_a[i], config[\"n_updates_test\"], config[\"inner_lr\"], apply_fn)\n",
    "predictions = apply_fn(updated_params, x_b[i])"
   ]
  },
  {
   "cell_type": "code",
   "execution_count": 52,
   "id": "1df0b9d1",
   "metadata": {},
   "outputs": [
    {
     "data": {
      "text/plain": [
       "<matplotlib.legend.Legend at 0x7f03ec419ee0>"
      ]
     },
     "execution_count": 52,
     "metadata": {},
     "output_type": "execute_result"
    },
    {
     "data": {
      "image/png": "[encoded data removed]",
      "text/plain": [
       "<Figure size 432x288 with 1 Axes>"
      ]
     },
     "metadata": {
      "needs_background": "light"
     },
     "output_type": "display_data"
    }
   ],
   "source": [
    "plt.plot(x_a[i], y_a[i], \"ro\", label=\"Context\")\n",
    "plt.plot(x_b[i], y_b[i], \"rx\", label=\"Query\")\n",
    "plt.plot(x_b[i], predictions, \"+b\", label=\"Pred\")\n",
    "plt.plot(np.linspace(-5, 5, 100), apply_fn(output[\"trained_params\"], np.linspace(-5, 5, 100)[:, np.newaxis]), \"--\", label=\"Raw\", alpha=0.4)\n",
    "plt.legend()"
   ]
  },
  {
   "cell_type": "code",
   "execution_count": null,
   "id": "03509a1f",
   "metadata": {},
   "outputs": [],
   "source": []
  }
 ],
 "metadata": {
  "kernelspec": {
   "display_name": "Python 3 (ipykernel)",
   "language": "python",
   "name": "python3"
  },
  "language_info": {
   "codemirror_mode": {
    "name": "ipython",
    "version": 3
   },
   "file_extension": ".py",
   "mimetype": "text/x-python",
   "name": "python",
   "nbconvert_exporter": "python",
   "pygments_lexer": "ipython3",
   "version": "3.8.13"
  },
  "latex_envs": {
   "LaTeX_envs_menu_present": true,
   "autoclose": false,
   "autocomplete": true,
   "bibliofile": "biblio.bib",
   "cite_by": "apalike",
   "current_citInitial": 1,
   "eqLabelWithNumbers": true,
   "eqNumInitial": 1,
   "hotkeys": {
    "equation": "Ctrl-E",
    "itemize": "Ctrl-I"
   },
   "labels_anchors": false,
   "latex_user_defs": false,
   "report_style_numbering": false,
   "user_envs_cfg": false
  },
  "toc": {
   "base_numbering": 1,
   "nav_menu": {},
   "number_sections": true,
   "sideBar": true,
   "skip_h1_title": false,
   "title_cell": "Table of Contents",
   "title_sidebar": "Contents",
   "toc_cell": false,
   "toc_position": {},
   "toc_section_display": true,
   "toc_window_display": false
  }
 },
 "nbformat": 4,
 "nbformat_minor": 5
}
